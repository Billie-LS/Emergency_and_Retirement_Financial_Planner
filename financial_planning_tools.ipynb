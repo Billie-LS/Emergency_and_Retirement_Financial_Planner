{
 "cells": [
  {
   "cell_type": "markdown",
   "metadata": {},
   "source": [
    "# Financial Planning with APIs and Simulations\n",
    "\n",
    "In this Challenge, you’ll create two financial analysis tools by using a single Jupyter notebook:\n",
    "\n",
    "Part 1: A financial planner for emergencies. The members will be able to use this tool to visualize their current savings. The members can then determine if they have enough reserves for an emergency fund.\n",
    "\n",
    "Part 2: A financial planner for retirement. This tool will forecast the performance of their retirement portfolio in 30 years. To do this, the tool will make an Alpaca API call via the Alpaca SDK to get historical price data for use in Monte Carlo simulations.\n",
    "\n",
    "You’ll use the information from the Monte Carlo simulation to answer questions about the portfolio in your Jupyter notebook.\n",
    "\n"
   ]
  },
  {
   "cell_type": "code",
   "execution_count": 1,
   "metadata": {},
   "outputs": [],
   "source": [
    "# Import the required libraries and dependencies\n",
    "import os\n",
    "from os import getenv as gtenv\n",
    "\n",
    "import requests\n",
    "from requests import get as rget\n",
    "\n",
    "import json\n",
    "from json import dumps as jds\n",
    "\n",
    "# Import the Pandas library\n",
    "import pandas as pd\n",
    "from pandas import Timestamp as tstamp\n",
    "from pandas import concat as ccat\n",
    "from pandas import DataFrame as wdf\n",
    "\n",
    "import numpy as np\n",
    "\n",
    "from dotenv import load_dotenv as ldotenv\n",
    "\n",
    "import alpaca_trade_api as tradeapi\n",
    "from MCForecastTools import MCSimulation\n",
    "\n",
    "# from datetime module\n",
    "# Import date and timedelta class\n",
    "from datetime import date\n",
    "from datetime import timedelta\n",
    "\n",
    "# Import the matplotlib depencies\n",
    "import matplotlib.pyplot as plt\n",
    "%matplotlib inline\n",
    "\n",
    "from seaborn import heatmap as htmap\n",
    "\n",
    "import warnings\n",
    "warnings.filterwarnings('ignore')"
   ]
  },
  {
   "cell_type": "code",
   "execution_count": 2,
   "metadata": {},
   "outputs": [
    {
     "data": {
      "text/plain": [
       "True"
      ]
     },
     "execution_count": 2,
     "metadata": {},
     "output_type": "execute_result"
    }
   ],
   "source": [
    "# Load the environment variables from the .env file\n",
    "#by calling the load_dotenv function\n",
    "ldotenv('api.env')"
   ]
  },
  {
   "cell_type": "markdown",
   "metadata": {},
   "source": [
    "## Part 1: Create a Financial Planner for Emergencies"
   ]
  },
  {
   "cell_type": "markdown",
   "metadata": {},
   "source": [
    "### Evaluate the Cryptocurrency Wallet by Using the Requests Library\n",
    "\n",
    "In this section, you’ll determine the current value of a member’s cryptocurrency wallet. You’ll collect the current prices for the Bitcoin and Ethereum cryptocurrencies by using the Python Requests library. For the prototype, you’ll assume that the member holds the 1.2 Bitcoins (BTC) and 5.3 Ethereum coins (ETH). To do all this, complete the following steps:\n",
    "\n",
    "1. Create a variable named `monthly_income`, and set its value to `12000`.\n",
    "\n",
    "2. Use the Requests library to get the current price (in US dollars) of Bitcoin (BTC) and Ethereum (ETH) by using the API endpoints that the starter code supplies.\n",
    "\n",
    "3. Navigate the JSON response object to access the current price of each coin, and store each in a variable.\n",
    "\n",
    "    > **Hint** Note the specific identifier for each cryptocurrency in the API JSON response. The Bitcoin identifier is `1`, and the Ethereum identifier is `1027`.\n",
    "\n",
    "4. Calculate the value, in US dollars, of the current amount of each cryptocurrency and of the entire cryptocurrency wallet.\n",
    "\n"
   ]
  },
  {
   "cell_type": "code",
   "execution_count": 3,
   "metadata": {},
   "outputs": [],
   "source": [
    "# The current number of coins for each cryptocurrency asset held in the portfolio.\n",
    "btc_coins = 1.2\n",
    "eth_coins = 5.3"
   ]
  },
  {
   "cell_type": "markdown",
   "metadata": {},
   "source": [
    "#### Step 1: Create a variable named `monthly_income`, and set its value to `12000`."
   ]
  },
  {
   "cell_type": "code",
   "execution_count": 4,
   "metadata": {},
   "outputs": [],
   "source": [
    "# The monthly amount for the member's household income\n",
    "monthly_income = 12000"
   ]
  },
  {
   "cell_type": "markdown",
   "metadata": {},
   "source": [
    "#### Review the endpoint URLs for the API calls to Free Crypto API in order to get the current pricing information for both BTC and ETH."
   ]
  },
  {
   "cell_type": "code",
   "execution_count": 5,
   "metadata": {},
   "outputs": [],
   "source": [
    "# The Free Crypto API Call endpoint URLs for the held cryptocurrency assets\n",
    "btc_url = 'https://api.alternative.me/v2/ticker/Bitcoin/?convert=USD'\n",
    "eth_url = \"https://api.alternative.me/v2/ticker/Ethereum/?convert=USD\""
   ]
  },
  {
   "cell_type": "markdown",
   "metadata": {},
   "source": [
    "#### Step 2. Use the Requests library to get the current price (in US dollars) of Bitcoin (BTC) and Ethereum (ETH) by using the API endpoints that the starter code supplied."
   ]
  },
  {
   "cell_type": "code",
   "execution_count": 6,
   "metadata": {},
   "outputs": [
    {
     "name": "stdout",
     "output_type": "stream",
     "text": [
      "{\n",
      "    \"data\": {\n",
      "        \"1\": {\n",
      "            \"circulating_supply\": 19160318,\n",
      "            \"id\": 1,\n",
      "            \"last_updated\": 1664115255,\n",
      "            \"max_supply\": 21000000,\n",
      "            \"name\": \"Bitcoin\",\n",
      "            \"quotes\": {\n",
      "                \"USD\": {\n",
      "                    \"market_cap\": 362791293255,\n",
      "                    \"percent_change_1h\": -0.806183991707284,\n",
      "                    \"percent_change_24h\": -1.10424393664698,\n",
      "                    \"percent_change_7d\": -6.0471324487214,\n",
      "                    \"percentage_change_1h\": -0.806183991707284,\n",
      "                    \"percentage_change_24h\": -1.10424393664698,\n",
      "                    \"percentage_change_7d\": -6.0471324487214,\n",
      "                    \"price\": 18914.29,\n",
      "                    \"volume_24h\": 21596692160\n",
      "                }\n",
      "            },\n",
      "            \"rank\": 1,\n",
      "            \"symbol\": \"BTC\",\n",
      "            \"total_supply\": 19160318,\n",
      "            \"website_slug\": \"bitcoin\"\n",
      "        }\n",
      "    },\n",
      "    \"metadata\": {\n",
      "        \"error\": null,\n",
      "        \"num_cryptocurrencies\": 3116,\n",
      "        \"timestamp\": 1664115255\n",
      "    }\n",
      "}\n"
     ]
    }
   ],
   "source": [
    "# Using the Python requests library, make an API call to access the current price of BTC\n",
    "btc_response = rget(btc_url).json()\n",
    "\n",
    "# Use the json.dumps function to review the response data from the API call\n",
    "# Use the indent and sort_keys parameters to make the response object readable\n",
    "print(jds(btc_response, indent=4, sort_keys=True))"
   ]
  },
  {
   "cell_type": "code",
   "execution_count": 7,
   "metadata": {},
   "outputs": [
    {
     "name": "stdout",
     "output_type": "stream",
     "text": [
      "{\n",
      "    \"data\": {\n",
      "        \"1027\": {\n",
      "            \"circulating_supply\": 120674183,\n",
      "            \"id\": 1027,\n",
      "            \"last_updated\": 1664115204,\n",
      "            \"max_supply\": 120673493,\n",
      "            \"name\": \"Ethereum\",\n",
      "            \"quotes\": {\n",
      "                \"USD\": {\n",
      "                    \"market_cap\": 157687957740,\n",
      "                    \"percent_change_1h\": -1.07125580243901,\n",
      "                    \"percent_change_24h\": -2.79638014616022,\n",
      "                    \"percent_change_7d\": -11.2268580775369,\n",
      "                    \"percentage_change_1h\": -1.07125580243901,\n",
      "                    \"percentage_change_24h\": -2.79638014616022,\n",
      "                    \"percentage_change_7d\": -11.2268580775369,\n",
      "                    \"price\": 1306.03,\n",
      "                    \"volume_24h\": 9518656070\n",
      "                }\n",
      "            },\n",
      "            \"rank\": 2,\n",
      "            \"symbol\": \"ETH\",\n",
      "            \"total_supply\": 120674183,\n",
      "            \"website_slug\": \"ethereum\"\n",
      "        }\n",
      "    },\n",
      "    \"metadata\": {\n",
      "        \"error\": null,\n",
      "        \"num_cryptocurrencies\": 3116,\n",
      "        \"timestamp\": 1664115204\n",
      "    }\n",
      "}\n"
     ]
    }
   ],
   "source": [
    "# Using the Python requests library, make an API call to access the current price ETH\n",
    "eth_response = rget(eth_url).json()\n",
    "\n",
    "# Use the json.dumps function to review the response data from the API call\n",
    "# Use the indent and sort_keys parameters to make the response object readable\n",
    "print(jds(eth_response, indent=4, sort_keys=True))"
   ]
  },
  {
   "cell_type": "markdown",
   "metadata": {},
   "source": [
    "#### Step 3: Navigate the JSON response object to access the current price of each coin, and store each in a variable."
   ]
  },
  {
   "cell_type": "code",
   "execution_count": 8,
   "metadata": {},
   "outputs": [
    {
     "name": "stdout",
     "output_type": "stream",
     "text": [
      "The price for Bitcoin is $18914.29\n"
     ]
    }
   ],
   "source": [
    "# Navigate the BTC response object to access the current price of BTC\n",
    "btc_price = btc_response['data']['1']['quotes']['USD']['price']\n",
    "\n",
    "# Print the current price of BTC\n",
    "print(f\"The price for Bitcoin is ${btc_price}\")"
   ]
  },
  {
   "cell_type": "code",
   "execution_count": 9,
   "metadata": {},
   "outputs": [
    {
     "name": "stdout",
     "output_type": "stream",
     "text": [
      "The price for Bitcoin is $1306.03\n"
     ]
    }
   ],
   "source": [
    "# Navigate the ETH response object to access the current price of ETH\n",
    "eth_price = eth_response['data']['1027']['quotes']['USD']['price']\n",
    "\n",
    "# Print the current price of ETH\n",
    "print(f\"The price for Bitcoin is ${eth_price}\")"
   ]
  },
  {
   "cell_type": "markdown",
   "metadata": {},
   "source": [
    "### Step 4: Calculate the value, in US dollars, of the current amount of each cryptocurrency and of the entire cryptocurrency wallet."
   ]
  },
  {
   "cell_type": "code",
   "execution_count": 10,
   "metadata": {},
   "outputs": [
    {
     "name": "stdout",
     "output_type": "stream",
     "text": [
      "The current value for Bitcoin (BTC) holdings is $22697.15\n"
     ]
    }
   ],
   "source": [
    "# Compute the current value of the BTC holding \n",
    "btc_value = btc_coins * btc_price\n",
    "\n",
    "# Print current value of your holding in BTC\n",
    "print(f\"The current value for Bitcoin (BTC) holdings is ${round(btc_value, 2)}\")"
   ]
  },
  {
   "cell_type": "code",
   "execution_count": 11,
   "metadata": {},
   "outputs": [
    {
     "name": "stdout",
     "output_type": "stream",
     "text": [
      "The current value for Etherium (ETH) holdings is $6921.96\n"
     ]
    }
   ],
   "source": [
    "# Compute the current value of the ETH holding \n",
    "eth_value = eth_coins * eth_price\n",
    "\n",
    "# Print current value of your holding in ETH\n",
    "print(f\"The current value for Etherium (ETH) holdings is ${round(eth_value, 2)}\")"
   ]
  },
  {
   "cell_type": "code",
   "execution_count": 12,
   "metadata": {},
   "outputs": [
    {
     "name": "stdout",
     "output_type": "stream",
     "text": [
      "The current cryptocurrency wallet balance is $29619.11\n"
     ]
    }
   ],
   "source": [
    "# Compute the total value of the cryptocurrency wallet\n",
    "# Add the value of the BTC holding to the value of the ETH holding\n",
    "total_crypto_wallet = btc_value + eth_value\n",
    "\n",
    "# Print current cryptocurrency wallet balance\n",
    "print(f\"The current cryptocurrency wallet balance is ${round(total_crypto_wallet, 2)}\")"
   ]
  },
  {
   "cell_type": "markdown",
   "metadata": {},
   "source": [
    "### Evaluate the Stock and Bond Holdings by Using the Alpaca SDK\n",
    "\n",
    "In this section, you’ll determine the current value of a member’s stock and bond holdings. You’ll make an API call to Alpaca via the Alpaca SDK to get the current closing prices of the SPDR S&P 500 ETF Trust (ticker: SPY) and of the iShares Core US Aggregate Bond ETF (ticker: AGG). For the prototype, assume that the member holds 110 shares of SPY, which represents the stock portion of their portfolio, and 200 shares of AGG, which represents the bond portion. To do all this, complete the following steps:\n",
    "\n",
    "1. In the `Starter_Code` folder, create an environment file (`.env`) to store the values of your Alpaca API key and Alpaca secret key.\n",
    "\n",
    "2. Set the variables for the Alpaca API and secret keys. Using the Alpaca SDK, create the Alpaca `tradeapi.REST` object. In this object, include the parameters for the Alpaca API key, the secret key, and the version number.\n",
    "\n",
    "3. Set the following parameters for the Alpaca API call:\n",
    "\n",
    "    - `tickers`: Use the tickers for the member’s stock and bond holdings.\n",
    "\n",
    "    - `timeframe`: Use a time frame of one day.\n",
    "\n",
    "    - `start_date` and `end_date`: Use the same date for these parameters, and format them with the date of the previous weekday (or `2020-08-07`). This is because you want the one closing price for the most-recent trading day.\n",
    "\n",
    "4. Get the current closing prices for `SPY` and `AGG` by using the Alpaca `get_bars` function. Format the response as a Pandas DataFrame by including the `df` property at the end of the `get_bars` function.\n",
    "\n",
    "5. Navigating the Alpaca response DataFrame, select the `SPY` and `AGG` closing prices, and store them as variables.\n",
    "\n",
    "6. Calculate the value, in US dollars, of the current amount of shares in each of the stock and bond portions of the portfolio, and print the results.\n"
   ]
  },
  {
   "cell_type": "markdown",
   "metadata": {},
   "source": [
    "#### Review the total number of shares held in both (SPY) and (AGG)."
   ]
  },
  {
   "cell_type": "code",
   "execution_count": 13,
   "metadata": {},
   "outputs": [],
   "source": [
    "# Current amount of shares held in both the stock (SPY) and bond (AGG) portion of the portfolio.\n",
    "spy_shares = 110\n",
    "agg_shares = 200"
   ]
  },
  {
   "cell_type": "markdown",
   "metadata": {},
   "source": [
    "#### Step 1: In the `Starter_Code` folder, create an environment file (`.env`) to store the values of your Alpaca API key and Alpaca secret key."
   ]
  },
  {
   "cell_type": "markdown",
   "metadata": {},
   "source": [
    "#### Step 2: Set the variables for the Alpaca API and secret keys. Using the Alpaca SDK, create the Alpaca `tradeapi.REST` object. In this object, include the parameters for the Alpaca API key, the secret key, and the version number."
   ]
  },
  {
   "cell_type": "code",
   "execution_count": 14,
   "metadata": {},
   "outputs": [
    {
     "data": {
      "text/plain": [
       "str"
      ]
     },
     "metadata": {},
     "output_type": "display_data"
    },
    {
     "name": "stdout",
     "output_type": "stream",
     "text": [
      "Alpaca Key type: <class 'str'> \n",
      "\n"
     ]
    },
    {
     "data": {
      "text/plain": [
       "str"
      ]
     },
     "metadata": {},
     "output_type": "display_data"
    },
    {
     "name": "stdout",
     "output_type": "stream",
     "text": [
      "Alpaca Secret Key type: <class 'str'>\n"
     ]
    }
   ],
   "source": [
    "# Set the variables for the Alpaca API and secret keys\n",
    "alpaca_api_key = gtenv('ALPACA_API_KEY') \n",
    "alpaca_secret_key = gtenv('ALPACA_SECRET_KEY')\n",
    "\n",
    "# Verify that Alpaca key and secret were correctly loaded\n",
    "display(type(alpaca_api_key))\n",
    "print(f'Alpaca Key type: {type(alpaca_api_key)} \\n')\n",
    "display(type(alpaca_secret_key))\n",
    "print(f'Alpaca Secret Key type: {type(alpaca_secret_key)}')"
   ]
  },
  {
   "cell_type": "code",
   "execution_count": 15,
   "metadata": {},
   "outputs": [],
   "source": [
    "# Create the Alpaca tradeapi.REST object\n",
    "alpaca = tradeapi.REST(\n",
    "    alpaca_api_key,\n",
    "    alpaca_secret_key,\n",
    "    api_version='v2')"
   ]
  },
  {
   "cell_type": "markdown",
   "metadata": {},
   "source": [
    "#### Step 3: Set the following parameters for the Alpaca API call:\n",
    "\n",
    "- `tickers`: Use the tickers for the member’s stock and bond holdings.\n",
    "\n",
    "- `timeframe`: Use a time frame of one day.\n",
    "\n",
    "- `start_date` and `end_date`: Use the same date for these parameters, and format them with the date of the previous weekday (or `2020-08-07`). This is because you want the one closing price for the most-recent trading day.\n"
   ]
  },
  {
   "cell_type": "code",
   "execution_count": 16,
   "metadata": {},
   "outputs": [
    {
     "name": "stdout",
     "output_type": "stream",
     "text": [
      "Today is: 2022-09-25\n",
      "Yesterday was: 2022-09-23\n"
     ]
    }
   ],
   "source": [
    "# Set the tickers for both the bond and stock portion of the portfolio\n",
    "# SPDR S&P 500 ETF Trust (ticker: SPY) \n",
    "# iShares Core US Aggregate Bond ETF (ticker: AGG)\n",
    "tickers = ['AGG', 'SPY']\n",
    "\n",
    "# Set timeframe to 1Day\n",
    "timeframe = '1D'\n",
    "\n",
    "# Set both the start and end date at the date of your prior weekday \n",
    "# This will give you the closing price of the previous trading day\n",
    "\n",
    "# extrapolate yesterday from today\n",
    "today = date.today()\n",
    "yesterday = today - timedelta(days = 2)   # change as needed for wkends\n",
    "\n",
    "# Format current date as ISO format\n",
    "start_date = tstamp(yesterday, tz = 'America/New_York').isoformat()\n",
    "end_date = tstamp(yesterday, tz = 'America/New_York').isoformat()\n",
    "\n",
    "print(f'Today is: {today}')\n",
    "print(f'Yesterday was: {yesterday}')"
   ]
  },
  {
   "cell_type": "markdown",
   "metadata": {},
   "source": [
    "#### Step 4: Get the current closing prices for `SPY` and `AGG` by using the Alpaca `get_bars` function. Format the response as a Pandas DataFrame by including the `df` property at the end of the `get_bars` function."
   ]
  },
  {
   "cell_type": "code",
   "execution_count": 17,
   "metadata": {},
   "outputs": [
    {
     "data": {
      "text/html": [
       "<div>\n",
       "<style scoped>\n",
       "    .dataframe tbody tr th:only-of-type {\n",
       "        vertical-align: middle;\n",
       "    }\n",
       "\n",
       "    .dataframe tbody tr th {\n",
       "        vertical-align: top;\n",
       "    }\n",
       "\n",
       "    .dataframe thead th {\n",
       "        text-align: right;\n",
       "    }\n",
       "</style>\n",
       "<table border=\"1\" class=\"dataframe\">\n",
       "  <thead>\n",
       "    <tr style=\"text-align: right;\">\n",
       "      <th></th>\n",
       "      <th>open</th>\n",
       "      <th>high</th>\n",
       "      <th>low</th>\n",
       "      <th>close</th>\n",
       "      <th>volume</th>\n",
       "      <th>trade_count</th>\n",
       "      <th>vwap</th>\n",
       "      <th>symbol</th>\n",
       "    </tr>\n",
       "    <tr>\n",
       "      <th>timestamp</th>\n",
       "      <th></th>\n",
       "      <th></th>\n",
       "      <th></th>\n",
       "      <th></th>\n",
       "      <th></th>\n",
       "      <th></th>\n",
       "      <th></th>\n",
       "      <th></th>\n",
       "    </tr>\n",
       "  </thead>\n",
       "  <tbody>\n",
       "    <tr>\n",
       "      <th>2022-09-23 04:00:00+00:00</th>\n",
       "      <td>97.40</td>\n",
       "      <td>97.45</td>\n",
       "      <td>96.89</td>\n",
       "      <td>97.20</td>\n",
       "      <td>11053650</td>\n",
       "      <td>41351</td>\n",
       "      <td>97.135798</td>\n",
       "      <td>AGG</td>\n",
       "    </tr>\n",
       "    <tr>\n",
       "      <th>2022-09-23 04:00:00+00:00</th>\n",
       "      <td>370.58</td>\n",
       "      <td>370.62</td>\n",
       "      <td>363.29</td>\n",
       "      <td>367.95</td>\n",
       "      <td>121574096</td>\n",
       "      <td>838774</td>\n",
       "      <td>367.579806</td>\n",
       "      <td>SPY</td>\n",
       "    </tr>\n",
       "  </tbody>\n",
       "</table>\n",
       "</div>"
      ],
      "text/plain": [
       "                             open    high     low   close     volume  \\\n",
       "timestamp                                                              \n",
       "2022-09-23 04:00:00+00:00   97.40   97.45   96.89   97.20   11053650   \n",
       "2022-09-23 04:00:00+00:00  370.58  370.62  363.29  367.95  121574096   \n",
       "\n",
       "                           trade_count        vwap symbol  \n",
       "timestamp                                                  \n",
       "2022-09-23 04:00:00+00:00        41351   97.135798    AGG  \n",
       "2022-09-23 04:00:00+00:00       838774  367.579806    SPY  "
      ]
     },
     "metadata": {},
     "output_type": "display_data"
    },
    {
     "data": {
      "text/html": [
       "<div>\n",
       "<style scoped>\n",
       "    .dataframe tbody tr th:only-of-type {\n",
       "        vertical-align: middle;\n",
       "    }\n",
       "\n",
       "    .dataframe tbody tr th {\n",
       "        vertical-align: top;\n",
       "    }\n",
       "\n",
       "    .dataframe thead th {\n",
       "        text-align: right;\n",
       "    }\n",
       "</style>\n",
       "<table border=\"1\" class=\"dataframe\">\n",
       "  <thead>\n",
       "    <tr style=\"text-align: right;\">\n",
       "      <th></th>\n",
       "      <th>close</th>\n",
       "    </tr>\n",
       "    <tr>\n",
       "      <th>timestamp</th>\n",
       "      <th></th>\n",
       "    </tr>\n",
       "  </thead>\n",
       "  <tbody>\n",
       "    <tr>\n",
       "      <th>2022-09-23 04:00:00+00:00</th>\n",
       "      <td>97.20</td>\n",
       "    </tr>\n",
       "    <tr>\n",
       "      <th>2022-09-23 04:00:00+00:00</th>\n",
       "      <td>367.95</td>\n",
       "    </tr>\n",
       "  </tbody>\n",
       "</table>\n",
       "</div>"
      ],
      "text/plain": [
       "                            close\n",
       "timestamp                        \n",
       "2022-09-23 04:00:00+00:00   97.20\n",
       "2022-09-23 04:00:00+00:00  367.95"
      ]
     },
     "metadata": {},
     "output_type": "display_data"
    }
   ],
   "source": [
    "# Use the Alpaca get_bars function to get current closing prices the portfolio\n",
    "# Be sure to set the `df` property after the function to format the response object as a DataFrame\n",
    "df_portfolio = alpaca.get_bars(\n",
    "    tickers,\n",
    "    timeframe,\n",
    "    start = start_date,\n",
    "    end = end_date\n",
    ").df\n",
    "\n",
    "display(df_portfolio)\n",
    "close_prices_df = df_portfolio.iloc[:,[3]]\n",
    "display(close_prices_df)"
   ]
  },
  {
   "cell_type": "code",
   "execution_count": 18,
   "metadata": {},
   "outputs": [
    {
     "data": {
      "text/html": [
       "<div>\n",
       "<style scoped>\n",
       "    .dataframe tbody tr th:only-of-type {\n",
       "        vertical-align: middle;\n",
       "    }\n",
       "\n",
       "    .dataframe tbody tr th {\n",
       "        vertical-align: top;\n",
       "    }\n",
       "\n",
       "    .dataframe thead tr th {\n",
       "        text-align: left;\n",
       "    }\n",
       "\n",
       "    .dataframe thead tr:last-of-type th {\n",
       "        text-align: right;\n",
       "    }\n",
       "</style>\n",
       "<table border=\"1\" class=\"dataframe\">\n",
       "  <thead>\n",
       "    <tr>\n",
       "      <th></th>\n",
       "      <th colspan=\"7\" halign=\"left\">AGG</th>\n",
       "      <th colspan=\"7\" halign=\"left\">SPY</th>\n",
       "    </tr>\n",
       "    <tr>\n",
       "      <th></th>\n",
       "      <th>open</th>\n",
       "      <th>high</th>\n",
       "      <th>low</th>\n",
       "      <th>close</th>\n",
       "      <th>volume</th>\n",
       "      <th>trade_count</th>\n",
       "      <th>vwap</th>\n",
       "      <th>open</th>\n",
       "      <th>high</th>\n",
       "      <th>low</th>\n",
       "      <th>close</th>\n",
       "      <th>volume</th>\n",
       "      <th>trade_count</th>\n",
       "      <th>vwap</th>\n",
       "    </tr>\n",
       "    <tr>\n",
       "      <th>timestamp</th>\n",
       "      <th></th>\n",
       "      <th></th>\n",
       "      <th></th>\n",
       "      <th></th>\n",
       "      <th></th>\n",
       "      <th></th>\n",
       "      <th></th>\n",
       "      <th></th>\n",
       "      <th></th>\n",
       "      <th></th>\n",
       "      <th></th>\n",
       "      <th></th>\n",
       "      <th></th>\n",
       "      <th></th>\n",
       "    </tr>\n",
       "  </thead>\n",
       "  <tbody>\n",
       "    <tr>\n",
       "      <th>2022-09-23 04:00:00+00:00</th>\n",
       "      <td>370.58</td>\n",
       "      <td>370.62</td>\n",
       "      <td>363.29</td>\n",
       "      <td>367.95</td>\n",
       "      <td>121574096</td>\n",
       "      <td>838774</td>\n",
       "      <td>367.579806</td>\n",
       "      <td>97.4</td>\n",
       "      <td>97.45</td>\n",
       "      <td>96.89</td>\n",
       "      <td>97.2</td>\n",
       "      <td>11053650</td>\n",
       "      <td>41351</td>\n",
       "      <td>97.135798</td>\n",
       "    </tr>\n",
       "  </tbody>\n",
       "</table>\n",
       "</div>"
      ],
      "text/plain": [
       "                              AGG                                     \\\n",
       "                             open    high     low   close     volume   \n",
       "timestamp                                                              \n",
       "2022-09-23 04:00:00+00:00  370.58  370.62  363.29  367.95  121574096   \n",
       "\n",
       "                                                    SPY                      \\\n",
       "                          trade_count        vwap  open   high    low close   \n",
       "timestamp                                                                     \n",
       "2022-09-23 04:00:00+00:00      838774  367.579806  97.4  97.45  96.89  97.2   \n",
       "\n",
       "                                                            \n",
       "                             volume trade_count       vwap  \n",
       "timestamp                                                   \n",
       "2022-09-23 04:00:00+00:00  11053650       41351  97.135798  "
      ]
     },
     "metadata": {},
     "output_type": "display_data"
    }
   ],
   "source": [
    "# Reorganize the DataFrame\n",
    "# Separate ticker data\n",
    "# Separate Ticker Data\n",
    "AGG = df_portfolio[df_portfolio['symbol']=='AGG'].drop('symbol', axis=1)\n",
    "SPY = df_portfolio[df_portfolio['symbol']=='SPY'].drop('symbol', axis=1)\n",
    "\n",
    "# Concatenate the Ticker DataFrames\n",
    "df_portfolio = ccat([SPY, AGG],axis=1, keys=['AGG','SPY'])\n",
    "\n",
    "# Review the first 5 rows of the Alpaca DataFrame\n",
    "# Display sample data\n",
    "display(df_portfolio.head())  # There is only a single row as the instructions dictate use a single day on timeframe daily."
   ]
  },
  {
   "cell_type": "code",
   "execution_count": 19,
   "metadata": {},
   "outputs": [
    {
     "data": {
      "text/html": [
       "<div>\n",
       "<style scoped>\n",
       "    .dataframe tbody tr th:only-of-type {\n",
       "        vertical-align: middle;\n",
       "    }\n",
       "\n",
       "    .dataframe tbody tr th {\n",
       "        vertical-align: top;\n",
       "    }\n",
       "\n",
       "    .dataframe thead tr th {\n",
       "        text-align: left;\n",
       "    }\n",
       "\n",
       "    .dataframe thead tr:last-of-type th {\n",
       "        text-align: right;\n",
       "    }\n",
       "</style>\n",
       "<table border=\"1\" class=\"dataframe\">\n",
       "  <thead>\n",
       "    <tr>\n",
       "      <th></th>\n",
       "      <th>AGG</th>\n",
       "      <th>SPY</th>\n",
       "    </tr>\n",
       "    <tr>\n",
       "      <th></th>\n",
       "      <th>close</th>\n",
       "      <th>close</th>\n",
       "    </tr>\n",
       "    <tr>\n",
       "      <th>timestamp</th>\n",
       "      <th></th>\n",
       "      <th></th>\n",
       "    </tr>\n",
       "  </thead>\n",
       "  <tbody>\n",
       "    <tr>\n",
       "      <th>2022-09-23 04:00:00+00:00</th>\n",
       "      <td>367.95</td>\n",
       "      <td>97.2</td>\n",
       "    </tr>\n",
       "  </tbody>\n",
       "</table>\n",
       "</div>"
      ],
      "text/plain": [
       "                              AGG   SPY\n",
       "                            close close\n",
       "timestamp                              \n",
       "2022-09-23 04:00:00+00:00  367.95  97.2"
      ]
     },
     "metadata": {},
     "output_type": "display_data"
    }
   ],
   "source": [
    "# Access the closing prices for Portfolio DataFrame\n",
    "# display close prices\n",
    "df_portfolio_close = df_portfolio.iloc[:,[3,10]]\n",
    "display(df_portfolio_close)"
   ]
  },
  {
   "cell_type": "markdown",
   "metadata": {},
   "source": [
    "#### Step 5: Navigating the Alpaca response DataFrame, select the `SPY` and `AGG` closing prices, and store them as variables."
   ]
  },
  {
   "cell_type": "code",
   "execution_count": 20,
   "metadata": {},
   "outputs": [
    {
     "data": {
      "text/plain": [
       "367.95"
      ]
     },
     "metadata": {},
     "output_type": "display_data"
    }
   ],
   "source": [
    "# Access the closing price for AGG from the Alpaca DataFrame\n",
    "# Converting the value to a floating point number\n",
    "agg_close_price = float(df_portfolio['AGG']['close'])\n",
    "\n",
    "# Print the AGG closing price\n",
    "# YOUR CODE HERE\n",
    "display(agg_close_price)"
   ]
  },
  {
   "cell_type": "code",
   "execution_count": 21,
   "metadata": {},
   "outputs": [
    {
     "data": {
      "text/plain": [
       "97.2"
      ]
     },
     "metadata": {},
     "output_type": "display_data"
    }
   ],
   "source": [
    "# Access the closing price for SPY from the Alpaca DataFrame\n",
    "# Converting the value to a floating point number\n",
    "spy_close_price = float(df_portfolio['SPY']['close'])\n",
    "\n",
    "# Print the SPY closing price\n",
    "display(spy_close_price)"
   ]
  },
  {
   "cell_type": "markdown",
   "metadata": {},
   "source": [
    "#### Step 6: Calculate the value, in US dollars, of the current amount of shares in each of the stock and bond portions of the portfolio, and print the results."
   ]
  },
  {
   "cell_type": "code",
   "execution_count": 22,
   "metadata": {},
   "outputs": [
    {
     "name": "stdout",
     "output_type": "stream",
     "text": [
      "The current value of the iShares Core US Aggregate Bond ETF (ticker: AGG) portfolio is $73590.0\n"
     ]
    }
   ],
   "source": [
    "# Calculate the current value of the bond portion of the portfolio\n",
    "agg_value = agg_shares * agg_close_price\n",
    "\n",
    "# Print the current value of the bond portfolio\n",
    "print(f\"The current value of the iShares Core US Aggregate Bond ETF (ticker: AGG) portfolio is ${agg_value}\")"
   ]
  },
  {
   "cell_type": "code",
   "execution_count": 23,
   "metadata": {},
   "outputs": [
    {
     "name": "stdout",
     "output_type": "stream",
     "text": [
      "The current value of the SPDR S&P 500 ETF Trust (ticker: SPY) portfolio is $10692.0\n"
     ]
    }
   ],
   "source": [
    "# Calculate the current value of the stock portion of the portfolio\n",
    "spy_value = spy_shares * spy_close_price\n",
    "\n",
    "# Print the current value of the stock portfolio\n",
    "print(f\"The current value of the SPDR S&P 500 ETF Trust (ticker: SPY) portfolio is ${spy_value}\")"
   ]
  },
  {
   "cell_type": "code",
   "execution_count": 24,
   "metadata": {},
   "outputs": [
    {
     "name": "stdout",
     "output_type": "stream",
     "text": [
      "The total value of the stock and bond portion of the portfolio is $84282.0\n"
     ]
    }
   ],
   "source": [
    "# Calculate the total value of the stock and bond portion of the portfolio\n",
    "total_stocks_bonds = spy_value + agg_value\n",
    "\n",
    "# Print the current balance of the stock and bond portion of the portfolio\n",
    "print(f\"The total value of the stock and bond portion of the portfolio is ${total_stocks_bonds}\")"
   ]
  },
  {
   "cell_type": "code",
   "execution_count": 25,
   "metadata": {},
   "outputs": [
    {
     "name": "stdout",
     "output_type": "stream",
     "text": [
      "The current cryptocurrency wallet balance is $29619.107 \n",
      "\n",
      "The total value of savings portfolio is $113901.107 \n",
      "\n"
     ]
    }
   ],
   "source": [
    "# Calculate the total value of the member's entire savings portfolio\n",
    "# Add the value of the cryptocurrency wallet to the value of the total stocks and bonds\n",
    "total_portfolio = total_crypto_wallet + total_stocks_bonds\n",
    "\n",
    "# Print current cryptocurrency wallet balance\n",
    "print(f'The current cryptocurrency wallet balance is ${total_crypto_wallet} \\n')\n",
    "# Print total entire savings portfolio balance\n",
    "print(f'The total value of savings portfolio is ${total_portfolio} \\n')"
   ]
  },
  {
   "cell_type": "markdown",
   "metadata": {},
   "source": [
    "### Evaluate the Emergency Fund\n",
    "\n",
    "In this section, you’ll use the valuations for the cryptocurrency wallet and for the stock and bond portions of the portfolio to determine if the credit union member has enough savings to build an emergency fund into their financial plan. To do this, complete the following steps:\n",
    "\n",
    "1. Create a Python list named `savings_data` that has two elements. The first element contains the total value of the cryptocurrency wallet. The second element contains the total value of the stock and bond portions of the portfolio.\n",
    "\n",
    "2. Use the `savings_data` list to create a Pandas DataFrame named `savings_df`, and then display this DataFrame. The function to create the DataFrame should take the following three parameters:\n",
    "\n",
    "    - `savings_data`: Use the list that you just created.\n",
    "\n",
    "    - `columns`: Set this parameter equal to a Python list with a single value called `amount`.\n",
    "\n",
    "    - `index`: Set this parameter equal to a Python list with the values of `crypto` and `stock/bond`.\n",
    "\n",
    "3. Use the `savings_df` DataFrame to plot a pie chart that visualizes the composition of the member’s portfolio. The y-axis of the pie chart uses `amount`. Be sure to add a title.\n",
    "\n",
    "4. Using Python, determine if the current portfolio has enough to create an emergency fund as part of the member’s financial plan. Ideally, an emergency fund should equal to three times the member’s monthly income. To do this, implement the following steps:\n",
    "\n",
    "    1. Create a variable named `emergency_fund_value`, and set it equal to three times the value of the member’s `monthly_income` of $12000. (You set this earlier in Part 1).\n",
    "\n",
    "    2. Create a series of three if statements to determine if the member’s total portfolio is large enough to fund the emergency portfolio:\n",
    "\n",
    "        1. If the total portfolio value is greater than the emergency fund value, display a message congratulating the member for having enough money in this fund.\n",
    "\n",
    "        2. Else if the total portfolio value is equal to the emergency fund value, display a message congratulating the member on reaching this important financial goal.\n",
    "\n",
    "        3. Else the total portfolio is less than the emergency fund value, so display a message showing how many dollars away the member is from reaching the goal. (Subtract the total portfolio value from the emergency fund value.)\n"
   ]
  },
  {
   "cell_type": "markdown",
   "metadata": {},
   "source": [
    "#### Step 1: Create a Python list named `savings_data` that has two elements. The first element contains the total value of the cryptocurrency wallet. The second element contains the total value of the stock and bond portions of the portfolio."
   ]
  },
  {
   "cell_type": "code",
   "execution_count": 26,
   "metadata": {},
   "outputs": [
    {
     "data": {
      "text/plain": [
       "[29619.107, 84282.0]"
      ]
     },
     "metadata": {},
     "output_type": "display_data"
    }
   ],
   "source": [
    "# Consolidate financial assets data into a Python list\n",
    "savings_data=[total_crypto_wallet, total_stocks_bonds]\n",
    "\n",
    "# Review the Python list savings_data\n",
    "display(savings_data)"
   ]
  },
  {
   "cell_type": "markdown",
   "metadata": {},
   "source": [
    "#### Step 2: Use the `savings_data` list to create a Pandas DataFrame named `savings_df`, and then display this DataFrame. The function to create the DataFrame should take the following three parameters:\n",
    "\n",
    "- `savings_data`: Use the list that you just created.\n",
    "\n",
    "- `columns`: Set this parameter equal to a Python list with a single value called `amount`.\n",
    "\n",
    "- `index`: Set this parameter equal to a Python list with the values of `crypto` and `stock/bond`.\n"
   ]
  },
  {
   "cell_type": "code",
   "execution_count": 27,
   "metadata": {},
   "outputs": [
    {
     "data": {
      "text/html": [
       "<div>\n",
       "<style scoped>\n",
       "    .dataframe tbody tr th:only-of-type {\n",
       "        vertical-align: middle;\n",
       "    }\n",
       "\n",
       "    .dataframe tbody tr th {\n",
       "        vertical-align: top;\n",
       "    }\n",
       "\n",
       "    .dataframe thead th {\n",
       "        text-align: right;\n",
       "    }\n",
       "</style>\n",
       "<table border=\"1\" class=\"dataframe\">\n",
       "  <thead>\n",
       "    <tr style=\"text-align: right;\">\n",
       "      <th></th>\n",
       "      <th>amount</th>\n",
       "    </tr>\n",
       "  </thead>\n",
       "  <tbody>\n",
       "    <tr>\n",
       "      <th>crypto</th>\n",
       "      <td>29619.107</td>\n",
       "    </tr>\n",
       "    <tr>\n",
       "      <th>stock/bond</th>\n",
       "      <td>84282.000</td>\n",
       "    </tr>\n",
       "  </tbody>\n",
       "</table>\n",
       "</div>"
      ],
      "text/plain": [
       "               amount\n",
       "crypto      29619.107\n",
       "stock/bond  84282.000"
      ]
     },
     "metadata": {},
     "output_type": "display_data"
    }
   ],
   "source": [
    "# Create a Pandas DataFrame called savings_df \n",
    "# YOUR CODE HERE\n",
    "savings_df=wdf(\n",
    "    savings_data,\n",
    "    columns=['amount'],\n",
    "    index=['crypto', 'stock/bond']\n",
    ")\n",
    "\n",
    "# Display the savings_df DataFrame\n",
    "display(savings_df)"
   ]
  },
  {
   "cell_type": "markdown",
   "metadata": {},
   "source": [
    "#### Step 3: Use the `savings_df` DataFrame to plot a pie chart that visualizes the composition of the member’s portfolio. The y-axis of the pie chart uses `amount`. Be sure to add a title."
   ]
  },
  {
   "cell_type": "code",
   "execution_count": 28,
   "metadata": {},
   "outputs": [
    {
     "data": {
      "text/plain": [
       "<AxesSubplot:title={'center':'Portfolio Composition - 2020-08-07'}, ylabel='amount'>"
      ]
     },
     "execution_count": 28,
     "metadata": {},
     "output_type": "execute_result"
    },
    {
     "data": {
      "image/png": "[encoded data removed]",
      "text/plain": [
       "<Figure size 720x504 with 1 Axes>"
      ]
     },
     "metadata": {},
     "output_type": "display_data"
    }
   ],
   "source": [
    "# Plot the total value of the member's portfolio (crypto and stock/bond) in a pie chart\n",
    "# YOUR CODE HERE\n",
    "savings_df.plot.pie(y='amount', title='Portfolio Composition - 2020-08-07', figsize=(10,7))"
   ]
  },
  {
   "cell_type": "markdown",
   "metadata": {},
   "source": [
    "#### Step 4: Using Python, determine if the current portfolio has enough to create an emergency fund as part of the member’s financial plan. Ideally, an emergency fund should equal to three times the member’s monthly income. To do this, implement the following steps:\n",
    "\n",
    "Step 1. Create a variable named `emergency_fund_value`, and set it equal to three times the value of the member’s `monthly_income` of 12000. (You set this earlier in Part 1).\n",
    "\n",
    "Step 2. Create a series of three if statements to determine if the member’s total portfolio is large enough to fund the emergency portfolio:\n",
    "\n",
    "* If the total portfolio value is greater than the emergency fund value, display a message congratulating the member for having enough money in this fund.\n",
    "\n",
    "* Else if the total portfolio value is equal to the emergency fund value, display a message congratulating the member on reaching this important financial goal.\n",
    "\n",
    "* Else the total portfolio is less than the emergency fund value, so display a message showing how many dollars away the member is from reaching the goal. (Subtract the total portfolio value from the emergency fund value.)\n"
   ]
  },
  {
   "cell_type": "markdown",
   "metadata": {},
   "source": [
    "##### Step 4-1: Create a variable named `emergency_fund_value`, and set it equal to three times the value of the member’s `monthly_income` of 12000. (You set this earlier in Part 1)."
   ]
  },
  {
   "cell_type": "code",
   "execution_count": 29,
   "metadata": {},
   "outputs": [],
   "source": [
    "# Create a variable named emergency_fund_value\n",
    "emergency_fund_value = monthly_income * 3"
   ]
  },
  {
   "cell_type": "markdown",
   "metadata": {},
   "source": [
    "##### Step 4-2: Create a series of three if statements to determine if the member’s total portfolio is large enough to fund the emergency portfolio:\n",
    "\n",
    "* If the total portfolio value is greater than the emergency fund value, display a message congratulating the member for having enough money in this fund.\n",
    "\n",
    "* Else if the total portfolio value is equal to the emergency fund value, display a message congratulating the member on reaching this important financial goal.\n",
    "\n",
    "* Else the total portfolio is less than the emergency fund value, so display a message showing how many dollars away the member is from reaching the goal. (Subtract the total portfolio value from the emergency fund value.)"
   ]
  },
  {
   "cell_type": "code",
   "execution_count": 30,
   "metadata": {},
   "outputs": [
    {
     "name": "stdout",
     "output_type": "stream",
     "text": [
      "\n",
      " Congratulations, with $113901.11 in your acount, your fund balance would seem to be sufficient!\n"
     ]
    }
   ],
   "source": [
    "# Evaluate the possibility of creating an emergency fund with 3 conditions:\n",
    "\n",
    "if total_portfolio > emergency_fund_value:\n",
    "    print(f'\\n Congratulations, with ${total_portfolio:.2f} in your acount, your fund balance would seem to be sufficient!')\n",
    "elif total_portfolio == emergency_fund_value:\n",
    "    print(f'\\n Congratulations, by saving ${total_portfolio:.2f} in your account, your fund balance has reached an important financial goal!')\n",
    "else:\n",
    "    print(f'\\n Your savings are ${emergency_fund_value-total_portfolio} short of the goal.')"
   ]
  },
  {
   "cell_type": "markdown",
   "metadata": {},
   "source": [
    "## Part 2: Create a Financial Planner for Retirement"
   ]
  },
  {
   "cell_type": "markdown",
   "metadata": {},
   "source": [
    "### Create the Monte Carlo Simulation\n",
    "\n",
    "In this section, you’ll use the MCForecastTools library to create a Monte Carlo simulation for the member’s savings portfolio. To do this, complete the following steps:\n",
    "\n",
    "1. Make an API call via the Alpaca SDK to get 3 years of historical closing prices for a traditional 60/40 portfolio split: 60% stocks (SPY) and 40% bonds (AGG).\n",
    "\n",
    "2. Run a Monte Carlo simulation of 500 samples and 30 years for the 60/40 portfolio, and then plot the results.The following image shows the overlay line plot resulting from a simulation with these characteristics. However, because a random number generator is used to run each live Monte Carlo simulation, your image will differ slightly from this exact image:\n",
    "\n",
    "![A screenshot depicts the resulting plot.](Images/5-4-monte-carlo-line-plot.png)\n",
    "\n",
    "3. Plot the probability distribution of the Monte Carlo simulation. Plot the probability distribution of the Monte Carlo simulation. The following image shows the histogram plot resulting from a simulation with these characteristics. However, because a random number generator is used to run each live Monte Carlo simulation, your image will differ slightly from this exact image:\n",
    "\n",
    "![A screenshot depicts the histogram plot.](Images/5-4-monte-carlo-histogram.png)\n",
    "\n",
    "4. Generate the summary statistics for the Monte Carlo simulation.\n",
    "\n"
   ]
  },
  {
   "cell_type": "markdown",
   "metadata": {},
   "source": [
    "#### Step 1: Make an API call via the Alpaca SDK to get 3 years of historical closing prices for a traditional 60/40 portfolio split: 60% stocks (SPY) and 40% bonds (AGG)."
   ]
  },
  {
   "cell_type": "code",
   "execution_count": 31,
   "metadata": {},
   "outputs": [
    {
     "data": {
      "text/plain": [
       "Timestamp('2022-09-25 09:15:21.728777')"
      ]
     },
     "metadata": {},
     "output_type": "display_data"
    },
    {
     "data": {
      "text/plain": [
       "Timestamp('2019-09-25 15:47:45.728777')"
      ]
     },
     "metadata": {},
     "output_type": "display_data"
    },
    {
     "data": {
      "text/plain": [
       "'2022-09-25T09:15:21.728777-04:00'"
      ]
     },
     "metadata": {},
     "output_type": "display_data"
    },
    {
     "data": {
      "text/plain": [
       "'2019-09-25T15:47:45.728777-04:00'"
      ]
     },
     "metadata": {},
     "output_type": "display_data"
    },
    {
     "name": "stdout",
     "output_type": "stream",
     "text": [
      "\n",
      "\n"
     ]
    }
   ],
   "source": [
    "# SCENARIO ONE - 3 years data history\n",
    "# Set start and end dates of 3 years back from your current date\n",
    "end_3yrs = pd.to_datetime('today')\n",
    "start_3yrs = end_3yrs - np.timedelta64(3, 'Y')\n",
    "display(end_3yrs)\n",
    "display(start_3yrs)\n",
    "\n",
    "# Set the values for start_date and end_date using the pd.Timestamp function\n",
    "# Set the parameter tz to \"America/New_York\", \n",
    "# Set this all to the ISO format by calling the isoformat function \n",
    "start_3yrs = tstamp(start_3yrs, tz = 'America/New_York').isoformat()\n",
    "end_3yrs = tstamp(end_3yrs, tz = 'America/New_York').isoformat()\n",
    "display(end_3yrs)\n",
    "display(start_3yrs)\n",
    "print('\\n')"
   ]
  },
  {
   "cell_type": "code",
   "execution_count": 32,
   "metadata": {},
   "outputs": [
    {
     "data": {
      "text/html": [
       "<div>\n",
       "<style scoped>\n",
       "    .dataframe tbody tr th:only-of-type {\n",
       "        vertical-align: middle;\n",
       "    }\n",
       "\n",
       "    .dataframe tbody tr th {\n",
       "        vertical-align: top;\n",
       "    }\n",
       "\n",
       "    .dataframe thead th {\n",
       "        text-align: right;\n",
       "    }\n",
       "</style>\n",
       "<table border=\"1\" class=\"dataframe\">\n",
       "  <thead>\n",
       "    <tr style=\"text-align: right;\">\n",
       "      <th></th>\n",
       "      <th>open</th>\n",
       "      <th>high</th>\n",
       "      <th>low</th>\n",
       "      <th>close</th>\n",
       "      <th>volume</th>\n",
       "      <th>trade_count</th>\n",
       "      <th>vwap</th>\n",
       "      <th>symbol</th>\n",
       "    </tr>\n",
       "    <tr>\n",
       "      <th>timestamp</th>\n",
       "      <th></th>\n",
       "      <th></th>\n",
       "      <th></th>\n",
       "      <th></th>\n",
       "      <th></th>\n",
       "      <th></th>\n",
       "      <th></th>\n",
       "      <th></th>\n",
       "    </tr>\n",
       "  </thead>\n",
       "  <tbody>\n",
       "    <tr>\n",
       "      <th>2019-09-26 04:00:00+00:00</th>\n",
       "      <td>113.00</td>\n",
       "      <td>113.1000</td>\n",
       "      <td>112.935</td>\n",
       "      <td>113.00</td>\n",
       "      <td>4869355</td>\n",
       "      <td>11034</td>\n",
       "      <td>113.027123</td>\n",
       "      <td>AGG</td>\n",
       "    </tr>\n",
       "    <tr>\n",
       "      <th>2019-09-27 04:00:00+00:00</th>\n",
       "      <td>113.00</td>\n",
       "      <td>113.1650</td>\n",
       "      <td>113.000</td>\n",
       "      <td>113.14</td>\n",
       "      <td>4652474</td>\n",
       "      <td>15910</td>\n",
       "      <td>113.108829</td>\n",
       "      <td>AGG</td>\n",
       "    </tr>\n",
       "    <tr>\n",
       "      <th>2019-09-30 04:00:00+00:00</th>\n",
       "      <td>112.93</td>\n",
       "      <td>113.2700</td>\n",
       "      <td>112.920</td>\n",
       "      <td>113.17</td>\n",
       "      <td>6638203</td>\n",
       "      <td>20269</td>\n",
       "      <td>113.172636</td>\n",
       "      <td>AGG</td>\n",
       "    </tr>\n",
       "    <tr>\n",
       "      <th>2019-10-01 04:00:00+00:00</th>\n",
       "      <td>112.71</td>\n",
       "      <td>113.2500</td>\n",
       "      <td>112.630</td>\n",
       "      <td>113.12</td>\n",
       "      <td>5982470</td>\n",
       "      <td>30567</td>\n",
       "      <td>113.081002</td>\n",
       "      <td>AGG</td>\n",
       "    </tr>\n",
       "    <tr>\n",
       "      <th>2019-10-02 04:00:00+00:00</th>\n",
       "      <td>113.19</td>\n",
       "      <td>113.3075</td>\n",
       "      <td>113.090</td>\n",
       "      <td>113.20</td>\n",
       "      <td>9571687</td>\n",
       "      <td>23424</td>\n",
       "      <td>113.229809</td>\n",
       "      <td>AGG</td>\n",
       "    </tr>\n",
       "  </tbody>\n",
       "</table>\n",
       "</div>"
      ],
      "text/plain": [
       "                             open      high      low   close   volume  \\\n",
       "timestamp                                                               \n",
       "2019-09-26 04:00:00+00:00  113.00  113.1000  112.935  113.00  4869355   \n",
       "2019-09-27 04:00:00+00:00  113.00  113.1650  113.000  113.14  4652474   \n",
       "2019-09-30 04:00:00+00:00  112.93  113.2700  112.920  113.17  6638203   \n",
       "2019-10-01 04:00:00+00:00  112.71  113.2500  112.630  113.12  5982470   \n",
       "2019-10-02 04:00:00+00:00  113.19  113.3075  113.090  113.20  9571687   \n",
       "\n",
       "                           trade_count        vwap symbol  \n",
       "timestamp                                                  \n",
       "2019-09-26 04:00:00+00:00        11034  113.027123    AGG  \n",
       "2019-09-27 04:00:00+00:00        15910  113.108829    AGG  \n",
       "2019-09-30 04:00:00+00:00        20269  113.172636    AGG  \n",
       "2019-10-01 04:00:00+00:00        30567  113.081002    AGG  \n",
       "2019-10-02 04:00:00+00:00        23424  113.229809    AGG  "
      ]
     },
     "metadata": {},
     "output_type": "display_data"
    },
    {
     "name": "stdout",
     "output_type": "stream",
     "text": [
      "\n",
      "\n"
     ]
    },
    {
     "data": {
      "text/html": [
       "<div>\n",
       "<style scoped>\n",
       "    .dataframe tbody tr th:only-of-type {\n",
       "        vertical-align: middle;\n",
       "    }\n",
       "\n",
       "    .dataframe tbody tr th {\n",
       "        vertical-align: top;\n",
       "    }\n",
       "\n",
       "    .dataframe thead th {\n",
       "        text-align: right;\n",
       "    }\n",
       "</style>\n",
       "<table border=\"1\" class=\"dataframe\">\n",
       "  <thead>\n",
       "    <tr style=\"text-align: right;\">\n",
       "      <th></th>\n",
       "      <th>open</th>\n",
       "      <th>high</th>\n",
       "      <th>low</th>\n",
       "      <th>close</th>\n",
       "      <th>volume</th>\n",
       "      <th>trade_count</th>\n",
       "      <th>vwap</th>\n",
       "      <th>symbol</th>\n",
       "    </tr>\n",
       "    <tr>\n",
       "      <th>timestamp</th>\n",
       "      <th></th>\n",
       "      <th></th>\n",
       "      <th></th>\n",
       "      <th></th>\n",
       "      <th></th>\n",
       "      <th></th>\n",
       "      <th></th>\n",
       "      <th></th>\n",
       "    </tr>\n",
       "  </thead>\n",
       "  <tbody>\n",
       "    <tr>\n",
       "      <th>2022-09-19 04:00:00+00:00</th>\n",
       "      <td>382.27</td>\n",
       "      <td>388.55</td>\n",
       "      <td>382.1784</td>\n",
       "      <td>388.55</td>\n",
       "      <td>72766494</td>\n",
       "      <td>492471</td>\n",
       "      <td>386.239339</td>\n",
       "      <td>SPY</td>\n",
       "    </tr>\n",
       "    <tr>\n",
       "      <th>2022-09-20 04:00:00+00:00</th>\n",
       "      <td>385.10</td>\n",
       "      <td>386.12</td>\n",
       "      <td>381.1950</td>\n",
       "      <td>384.09</td>\n",
       "      <td>76685764</td>\n",
       "      <td>555454</td>\n",
       "      <td>384.152364</td>\n",
       "      <td>SPY</td>\n",
       "    </tr>\n",
       "    <tr>\n",
       "      <th>2022-09-21 04:00:00+00:00</th>\n",
       "      <td>386.06</td>\n",
       "      <td>389.31</td>\n",
       "      <td>377.3800</td>\n",
       "      <td>377.45</td>\n",
       "      <td>104302139</td>\n",
       "      <td>807310</td>\n",
       "      <td>383.197346</td>\n",
       "      <td>SPY</td>\n",
       "    </tr>\n",
       "    <tr>\n",
       "      <th>2022-09-22 04:00:00+00:00</th>\n",
       "      <td>376.50</td>\n",
       "      <td>378.30</td>\n",
       "      <td>373.4400</td>\n",
       "      <td>374.22</td>\n",
       "      <td>88922900</td>\n",
       "      <td>630401</td>\n",
       "      <td>375.330794</td>\n",
       "      <td>SPY</td>\n",
       "    </tr>\n",
       "    <tr>\n",
       "      <th>2022-09-23 04:00:00+00:00</th>\n",
       "      <td>370.58</td>\n",
       "      <td>370.62</td>\n",
       "      <td>363.2900</td>\n",
       "      <td>367.95</td>\n",
       "      <td>121574096</td>\n",
       "      <td>838774</td>\n",
       "      <td>367.579806</td>\n",
       "      <td>SPY</td>\n",
       "    </tr>\n",
       "  </tbody>\n",
       "</table>\n",
       "</div>"
      ],
      "text/plain": [
       "                             open    high       low   close     volume  \\\n",
       "timestamp                                                                \n",
       "2022-09-19 04:00:00+00:00  382.27  388.55  382.1784  388.55   72766494   \n",
       "2022-09-20 04:00:00+00:00  385.10  386.12  381.1950  384.09   76685764   \n",
       "2022-09-21 04:00:00+00:00  386.06  389.31  377.3800  377.45  104302139   \n",
       "2022-09-22 04:00:00+00:00  376.50  378.30  373.4400  374.22   88922900   \n",
       "2022-09-23 04:00:00+00:00  370.58  370.62  363.2900  367.95  121574096   \n",
       "\n",
       "                           trade_count        vwap symbol  \n",
       "timestamp                                                  \n",
       "2022-09-19 04:00:00+00:00       492471  386.239339    SPY  \n",
       "2022-09-20 04:00:00+00:00       555454  384.152364    SPY  \n",
       "2022-09-21 04:00:00+00:00       807310  383.197346    SPY  \n",
       "2022-09-22 04:00:00+00:00       630401  375.330794    SPY  \n",
       "2022-09-23 04:00:00+00:00       838774  367.579806    SPY  "
      ]
     },
     "metadata": {},
     "output_type": "display_data"
    }
   ],
   "source": [
    "# Use the Alpaca get_bars function to make the API call to get the 3 years worth of pricing data\n",
    "# The tickers and timeframe parameters should have been set in Part 1 of this activity \n",
    "# The start and end dates should be updated with the information set above\n",
    "# Remember to add the df property to the end of the call so the response is returned as a DataFrame\n",
    "\n",
    "# set limit\n",
    "limit_rows = 10000\n",
    "\n",
    "api_call_3yrs_df = alpaca.get_bars(\n",
    "    tickers,\n",
    "    timeframe,\n",
    "    start = start_3yrs,\n",
    "    end = end_3yrs,\n",
    "    limit = 10000\n",
    ").df\n",
    "\n",
    "# Review the first 5 rows of the Alpaca DataFrame\n",
    "display(api_call_3yrs_df.head())\n",
    "print('\\n')\n",
    "display(api_call_3yrs_df.tail())"
   ]
  },
  {
   "cell_type": "code",
   "execution_count": 33,
   "metadata": {},
   "outputs": [
    {
     "data": {
      "text/html": [
       "<div>\n",
       "<style scoped>\n",
       "    .dataframe tbody tr th:only-of-type {\n",
       "        vertical-align: middle;\n",
       "    }\n",
       "\n",
       "    .dataframe tbody tr th {\n",
       "        vertical-align: top;\n",
       "    }\n",
       "\n",
       "    .dataframe thead tr th {\n",
       "        text-align: left;\n",
       "    }\n",
       "\n",
       "    .dataframe thead tr:last-of-type th {\n",
       "        text-align: right;\n",
       "    }\n",
       "</style>\n",
       "<table border=\"1\" class=\"dataframe\">\n",
       "  <thead>\n",
       "    <tr>\n",
       "      <th></th>\n",
       "      <th colspan=\"7\" halign=\"left\">AGG</th>\n",
       "      <th colspan=\"7\" halign=\"left\">SPY</th>\n",
       "    </tr>\n",
       "    <tr>\n",
       "      <th></th>\n",
       "      <th>open</th>\n",
       "      <th>high</th>\n",
       "      <th>low</th>\n",
       "      <th>close</th>\n",
       "      <th>volume</th>\n",
       "      <th>trade_count</th>\n",
       "      <th>vwap</th>\n",
       "      <th>open</th>\n",
       "      <th>high</th>\n",
       "      <th>low</th>\n",
       "      <th>close</th>\n",
       "      <th>volume</th>\n",
       "      <th>trade_count</th>\n",
       "      <th>vwap</th>\n",
       "    </tr>\n",
       "    <tr>\n",
       "      <th>timestamp</th>\n",
       "      <th></th>\n",
       "      <th></th>\n",
       "      <th></th>\n",
       "      <th></th>\n",
       "      <th></th>\n",
       "      <th></th>\n",
       "      <th></th>\n",
       "      <th></th>\n",
       "      <th></th>\n",
       "      <th></th>\n",
       "      <th></th>\n",
       "      <th></th>\n",
       "      <th></th>\n",
       "      <th></th>\n",
       "    </tr>\n",
       "  </thead>\n",
       "  <tbody>\n",
       "    <tr>\n",
       "      <th>2019-09-26 04:00:00+00:00</th>\n",
       "      <td>113.00</td>\n",
       "      <td>113.1000</td>\n",
       "      <td>112.935</td>\n",
       "      <td>113.00</td>\n",
       "      <td>4869355</td>\n",
       "      <td>11034</td>\n",
       "      <td>113.027123</td>\n",
       "      <td>297.62</td>\n",
       "      <td>297.8600</td>\n",
       "      <td>295.45</td>\n",
       "      <td>297.00</td>\n",
       "      <td>58758157</td>\n",
       "      <td>329411</td>\n",
       "      <td>296.847045</td>\n",
       "    </tr>\n",
       "    <tr>\n",
       "      <th>2019-09-27 04:00:00+00:00</th>\n",
       "      <td>113.00</td>\n",
       "      <td>113.1650</td>\n",
       "      <td>113.000</td>\n",
       "      <td>113.14</td>\n",
       "      <td>4652474</td>\n",
       "      <td>15910</td>\n",
       "      <td>113.108829</td>\n",
       "      <td>297.87</td>\n",
       "      <td>297.9465</td>\n",
       "      <td>293.69</td>\n",
       "      <td>295.40</td>\n",
       "      <td>85194715</td>\n",
       "      <td>454922</td>\n",
       "      <td>295.623896</td>\n",
       "    </tr>\n",
       "    <tr>\n",
       "      <th>2019-09-30 04:00:00+00:00</th>\n",
       "      <td>112.93</td>\n",
       "      <td>113.2700</td>\n",
       "      <td>112.920</td>\n",
       "      <td>113.17</td>\n",
       "      <td>6638203</td>\n",
       "      <td>20269</td>\n",
       "      <td>113.172636</td>\n",
       "      <td>295.98</td>\n",
       "      <td>297.5500</td>\n",
       "      <td>295.92</td>\n",
       "      <td>296.77</td>\n",
       "      <td>52771311</td>\n",
       "      <td>258680</td>\n",
       "      <td>296.786007</td>\n",
       "    </tr>\n",
       "    <tr>\n",
       "      <th>2019-10-01 04:00:00+00:00</th>\n",
       "      <td>112.71</td>\n",
       "      <td>113.2500</td>\n",
       "      <td>112.630</td>\n",
       "      <td>113.12</td>\n",
       "      <td>5982470</td>\n",
       "      <td>30567</td>\n",
       "      <td>113.081002</td>\n",
       "      <td>297.67</td>\n",
       "      <td>298.4550</td>\n",
       "      <td>293.00</td>\n",
       "      <td>293.24</td>\n",
       "      <td>90160482</td>\n",
       "      <td>422407</td>\n",
       "      <td>294.867498</td>\n",
       "    </tr>\n",
       "    <tr>\n",
       "      <th>2019-10-02 04:00:00+00:00</th>\n",
       "      <td>113.19</td>\n",
       "      <td>113.3075</td>\n",
       "      <td>113.090</td>\n",
       "      <td>113.20</td>\n",
       "      <td>9571687</td>\n",
       "      <td>23424</td>\n",
       "      <td>113.229809</td>\n",
       "      <td>291.49</td>\n",
       "      <td>291.5100</td>\n",
       "      <td>286.64</td>\n",
       "      <td>288.06</td>\n",
       "      <td>125924074</td>\n",
       "      <td>608988</td>\n",
       "      <td>288.821147</td>\n",
       "    </tr>\n",
       "  </tbody>\n",
       "</table>\n",
       "</div>"
      ],
      "text/plain": [
       "                              AGG                                      \\\n",
       "                             open      high      low   close   volume   \n",
       "timestamp                                                               \n",
       "2019-09-26 04:00:00+00:00  113.00  113.1000  112.935  113.00  4869355   \n",
       "2019-09-27 04:00:00+00:00  113.00  113.1650  113.000  113.14  4652474   \n",
       "2019-09-30 04:00:00+00:00  112.93  113.2700  112.920  113.17  6638203   \n",
       "2019-10-01 04:00:00+00:00  112.71  113.2500  112.630  113.12  5982470   \n",
       "2019-10-02 04:00:00+00:00  113.19  113.3075  113.090  113.20  9571687   \n",
       "\n",
       "                                                      SPY                    \\\n",
       "                          trade_count        vwap    open      high     low   \n",
       "timestamp                                                                     \n",
       "2019-09-26 04:00:00+00:00       11034  113.027123  297.62  297.8600  295.45   \n",
       "2019-09-27 04:00:00+00:00       15910  113.108829  297.87  297.9465  293.69   \n",
       "2019-09-30 04:00:00+00:00       20269  113.172636  295.98  297.5500  295.92   \n",
       "2019-10-01 04:00:00+00:00       30567  113.081002  297.67  298.4550  293.00   \n",
       "2019-10-02 04:00:00+00:00       23424  113.229809  291.49  291.5100  286.64   \n",
       "\n",
       "                                                                      \n",
       "                            close     volume trade_count        vwap  \n",
       "timestamp                                                             \n",
       "2019-09-26 04:00:00+00:00  297.00   58758157      329411  296.847045  \n",
       "2019-09-27 04:00:00+00:00  295.40   85194715      454922  295.623896  \n",
       "2019-09-30 04:00:00+00:00  296.77   52771311      258680  296.786007  \n",
       "2019-10-01 04:00:00+00:00  293.24   90160482      422407  294.867498  \n",
       "2019-10-02 04:00:00+00:00  288.06  125924074      608988  288.821147  "
      ]
     },
     "metadata": {},
     "output_type": "display_data"
    },
    {
     "name": "stdout",
     "output_type": "stream",
     "text": [
      "\n",
      "\n"
     ]
    },
    {
     "data": {
      "text/html": [
       "<div>\n",
       "<style scoped>\n",
       "    .dataframe tbody tr th:only-of-type {\n",
       "        vertical-align: middle;\n",
       "    }\n",
       "\n",
       "    .dataframe tbody tr th {\n",
       "        vertical-align: top;\n",
       "    }\n",
       "\n",
       "    .dataframe thead tr th {\n",
       "        text-align: left;\n",
       "    }\n",
       "\n",
       "    .dataframe thead tr:last-of-type th {\n",
       "        text-align: right;\n",
       "    }\n",
       "</style>\n",
       "<table border=\"1\" class=\"dataframe\">\n",
       "  <thead>\n",
       "    <tr>\n",
       "      <th></th>\n",
       "      <th colspan=\"7\" halign=\"left\">AGG</th>\n",
       "      <th colspan=\"7\" halign=\"left\">SPY</th>\n",
       "    </tr>\n",
       "    <tr>\n",
       "      <th></th>\n",
       "      <th>open</th>\n",
       "      <th>high</th>\n",
       "      <th>low</th>\n",
       "      <th>close</th>\n",
       "      <th>volume</th>\n",
       "      <th>trade_count</th>\n",
       "      <th>vwap</th>\n",
       "      <th>open</th>\n",
       "      <th>high</th>\n",
       "      <th>low</th>\n",
       "      <th>close</th>\n",
       "      <th>volume</th>\n",
       "      <th>trade_count</th>\n",
       "      <th>vwap</th>\n",
       "    </tr>\n",
       "    <tr>\n",
       "      <th>timestamp</th>\n",
       "      <th></th>\n",
       "      <th></th>\n",
       "      <th></th>\n",
       "      <th></th>\n",
       "      <th></th>\n",
       "      <th></th>\n",
       "      <th></th>\n",
       "      <th></th>\n",
       "      <th></th>\n",
       "      <th></th>\n",
       "      <th></th>\n",
       "      <th></th>\n",
       "      <th></th>\n",
       "      <th></th>\n",
       "    </tr>\n",
       "  </thead>\n",
       "  <tbody>\n",
       "    <tr>\n",
       "      <th>2022-09-19 04:00:00+00:00</th>\n",
       "      <td>98.54</td>\n",
       "      <td>98.8400</td>\n",
       "      <td>98.4800</td>\n",
       "      <td>98.68</td>\n",
       "      <td>5978949</td>\n",
       "      <td>18815</td>\n",
       "      <td>98.677767</td>\n",
       "      <td>382.27</td>\n",
       "      <td>388.55</td>\n",
       "      <td>382.1784</td>\n",
       "      <td>388.55</td>\n",
       "      <td>72766494</td>\n",
       "      <td>492471</td>\n",
       "      <td>386.239339</td>\n",
       "    </tr>\n",
       "    <tr>\n",
       "      <th>2022-09-20 04:00:00+00:00</th>\n",
       "      <td>98.20</td>\n",
       "      <td>98.4000</td>\n",
       "      <td>98.0800</td>\n",
       "      <td>98.24</td>\n",
       "      <td>11210119</td>\n",
       "      <td>22324</td>\n",
       "      <td>98.237305</td>\n",
       "      <td>385.10</td>\n",
       "      <td>386.12</td>\n",
       "      <td>381.1950</td>\n",
       "      <td>384.09</td>\n",
       "      <td>76685764</td>\n",
       "      <td>555454</td>\n",
       "      <td>384.152364</td>\n",
       "    </tr>\n",
       "    <tr>\n",
       "      <th>2022-09-21 04:00:00+00:00</th>\n",
       "      <td>98.40</td>\n",
       "      <td>98.6001</td>\n",
       "      <td>97.8600</td>\n",
       "      <td>98.55</td>\n",
       "      <td>6674502</td>\n",
       "      <td>32613</td>\n",
       "      <td>98.321112</td>\n",
       "      <td>386.06</td>\n",
       "      <td>389.31</td>\n",
       "      <td>377.3800</td>\n",
       "      <td>377.45</td>\n",
       "      <td>104302139</td>\n",
       "      <td>807310</td>\n",
       "      <td>383.197346</td>\n",
       "    </tr>\n",
       "    <tr>\n",
       "      <th>2022-09-22 04:00:00+00:00</th>\n",
       "      <td>97.90</td>\n",
       "      <td>97.9200</td>\n",
       "      <td>97.4039</td>\n",
       "      <td>97.50</td>\n",
       "      <td>7092118</td>\n",
       "      <td>25072</td>\n",
       "      <td>97.595666</td>\n",
       "      <td>376.50</td>\n",
       "      <td>378.30</td>\n",
       "      <td>373.4400</td>\n",
       "      <td>374.22</td>\n",
       "      <td>88922900</td>\n",
       "      <td>630401</td>\n",
       "      <td>375.330794</td>\n",
       "    </tr>\n",
       "    <tr>\n",
       "      <th>2022-09-23 04:00:00+00:00</th>\n",
       "      <td>97.40</td>\n",
       "      <td>97.4500</td>\n",
       "      <td>96.8900</td>\n",
       "      <td>97.20</td>\n",
       "      <td>11053650</td>\n",
       "      <td>41351</td>\n",
       "      <td>97.135798</td>\n",
       "      <td>370.58</td>\n",
       "      <td>370.62</td>\n",
       "      <td>363.2900</td>\n",
       "      <td>367.95</td>\n",
       "      <td>121574096</td>\n",
       "      <td>838774</td>\n",
       "      <td>367.579806</td>\n",
       "    </tr>\n",
       "  </tbody>\n",
       "</table>\n",
       "</div>"
      ],
      "text/plain": [
       "                             AGG                                     \\\n",
       "                            open     high      low  close    volume   \n",
       "timestamp                                                             \n",
       "2022-09-19 04:00:00+00:00  98.54  98.8400  98.4800  98.68   5978949   \n",
       "2022-09-20 04:00:00+00:00  98.20  98.4000  98.0800  98.24  11210119   \n",
       "2022-09-21 04:00:00+00:00  98.40  98.6001  97.8600  98.55   6674502   \n",
       "2022-09-22 04:00:00+00:00  97.90  97.9200  97.4039  97.50   7092118   \n",
       "2022-09-23 04:00:00+00:00  97.40  97.4500  96.8900  97.20  11053650   \n",
       "\n",
       "                                                     SPY                    \\\n",
       "                          trade_count       vwap    open    high       low   \n",
       "timestamp                                                                    \n",
       "2022-09-19 04:00:00+00:00       18815  98.677767  382.27  388.55  382.1784   \n",
       "2022-09-20 04:00:00+00:00       22324  98.237305  385.10  386.12  381.1950   \n",
       "2022-09-21 04:00:00+00:00       32613  98.321112  386.06  389.31  377.3800   \n",
       "2022-09-22 04:00:00+00:00       25072  97.595666  376.50  378.30  373.4400   \n",
       "2022-09-23 04:00:00+00:00       41351  97.135798  370.58  370.62  363.2900   \n",
       "\n",
       "                                                                      \n",
       "                            close     volume trade_count        vwap  \n",
       "timestamp                                                             \n",
       "2022-09-19 04:00:00+00:00  388.55   72766494      492471  386.239339  \n",
       "2022-09-20 04:00:00+00:00  384.09   76685764      555454  384.152364  \n",
       "2022-09-21 04:00:00+00:00  377.45  104302139      807310  383.197346  \n",
       "2022-09-22 04:00:00+00:00  374.22   88922900      630401  375.330794  \n",
       "2022-09-23 04:00:00+00:00  367.95  121574096      838774  367.579806  "
      ]
     },
     "metadata": {},
     "output_type": "display_data"
    }
   ],
   "source": [
    "# Reorganize the DataFrame\n",
    "# Separate ticker data\n",
    "AGG = api_call_3yrs_df[api_call_3yrs_df['symbol']=='AGG'].drop('symbol', axis=1)\n",
    "SPY = api_call_3yrs_df[api_call_3yrs_df['symbol']=='SPY'].drop('symbol', axis=1)\n",
    "\n",
    "# Concatenate the ticker DataFrames\n",
    "prices_3yr_df = ccat([AGG, SPY], axis=1, keys=['AGG','SPY'])\n",
    "\n",
    "# Display both the first and last five rows of the DataFrame\n",
    "display(prices_3yr_df.head())\n",
    "print('\\n')\n",
    "display(prices_3yr_df.tail())"
   ]
  },
  {
   "cell_type": "code",
   "execution_count": 34,
   "metadata": {},
   "outputs": [
    {
     "data": {
      "text/html": [
       "<div>\n",
       "<style scoped>\n",
       "    .dataframe tbody tr th:only-of-type {\n",
       "        vertical-align: middle;\n",
       "    }\n",
       "\n",
       "    .dataframe tbody tr th {\n",
       "        vertical-align: top;\n",
       "    }\n",
       "\n",
       "    .dataframe thead th {\n",
       "        text-align: right;\n",
       "    }\n",
       "</style>\n",
       "<table border=\"1\" class=\"dataframe\">\n",
       "  <thead>\n",
       "    <tr style=\"text-align: right;\">\n",
       "      <th></th>\n",
       "      <th>timestamp</th>\n",
       "      <th>open</th>\n",
       "      <th>high</th>\n",
       "      <th>low</th>\n",
       "      <th>close</th>\n",
       "      <th>volume</th>\n",
       "      <th>trade_count</th>\n",
       "      <th>vwap</th>\n",
       "    </tr>\n",
       "  </thead>\n",
       "  <tbody>\n",
       "    <tr>\n",
       "      <th>0</th>\n",
       "      <td>2019-09-26 04:00:00+00:00</td>\n",
       "      <td>113.0</td>\n",
       "      <td>113.100</td>\n",
       "      <td>112.935</td>\n",
       "      <td>113.00</td>\n",
       "      <td>4869355</td>\n",
       "      <td>11034</td>\n",
       "      <td>113.027123</td>\n",
       "    </tr>\n",
       "    <tr>\n",
       "      <th>1</th>\n",
       "      <td>2019-09-27 04:00:00+00:00</td>\n",
       "      <td>113.0</td>\n",
       "      <td>113.165</td>\n",
       "      <td>113.000</td>\n",
       "      <td>113.14</td>\n",
       "      <td>4652474</td>\n",
       "      <td>15910</td>\n",
       "      <td>113.108829</td>\n",
       "    </tr>\n",
       "  </tbody>\n",
       "</table>\n",
       "</div>"
      ],
      "text/plain": [
       "                  timestamp   open     high      low   close   volume  \\\n",
       "0 2019-09-26 04:00:00+00:00  113.0  113.100  112.935  113.00  4869355   \n",
       "1 2019-09-27 04:00:00+00:00  113.0  113.165  113.000  113.14  4652474   \n",
       "\n",
       "   trade_count        vwap  \n",
       "0        11034  113.027123  \n",
       "1        15910  113.108829  "
      ]
     },
     "metadata": {},
     "output_type": "display_data"
    },
    {
     "data": {
      "text/html": [
       "<div>\n",
       "<style scoped>\n",
       "    .dataframe tbody tr th:only-of-type {\n",
       "        vertical-align: middle;\n",
       "    }\n",
       "\n",
       "    .dataframe tbody tr th {\n",
       "        vertical-align: top;\n",
       "    }\n",
       "\n",
       "    .dataframe thead th {\n",
       "        text-align: right;\n",
       "    }\n",
       "</style>\n",
       "<table border=\"1\" class=\"dataframe\">\n",
       "  <thead>\n",
       "    <tr style=\"text-align: right;\">\n",
       "      <th></th>\n",
       "      <th>timestamp</th>\n",
       "      <th>open</th>\n",
       "      <th>high</th>\n",
       "      <th>low</th>\n",
       "      <th>close</th>\n",
       "      <th>volume</th>\n",
       "      <th>trade_count</th>\n",
       "      <th>vwap</th>\n",
       "    </tr>\n",
       "  </thead>\n",
       "  <tbody>\n",
       "    <tr>\n",
       "      <th>0</th>\n",
       "      <td>2019-09-26 04:00:00+00:00</td>\n",
       "      <td>297.62</td>\n",
       "      <td>297.8600</td>\n",
       "      <td>295.45</td>\n",
       "      <td>297.0</td>\n",
       "      <td>58758157</td>\n",
       "      <td>329411</td>\n",
       "      <td>296.847045</td>\n",
       "    </tr>\n",
       "    <tr>\n",
       "      <th>1</th>\n",
       "      <td>2019-09-27 04:00:00+00:00</td>\n",
       "      <td>297.87</td>\n",
       "      <td>297.9465</td>\n",
       "      <td>293.69</td>\n",
       "      <td>295.4</td>\n",
       "      <td>85194715</td>\n",
       "      <td>454922</td>\n",
       "      <td>295.623896</td>\n",
       "    </tr>\n",
       "  </tbody>\n",
       "</table>\n",
       "</div>"
      ],
      "text/plain": [
       "                  timestamp    open      high     low  close    volume  \\\n",
       "0 2019-09-26 04:00:00+00:00  297.62  297.8600  295.45  297.0  58758157   \n",
       "1 2019-09-27 04:00:00+00:00  297.87  297.9465  293.69  295.4  85194715   \n",
       "\n",
       "   trade_count        vwap  \n",
       "0       329411  296.847045  \n",
       "1       454922  295.623896  "
      ]
     },
     "metadata": {},
     "output_type": "display_data"
    },
    {
     "name": "stdout",
     "output_type": "stream",
     "text": [
      "\n",
      "\n",
      "3 years historical data\n"
     ]
    },
    {
     "data": {
      "image/png": "[encoded data removed]",
      "text/plain": [
       "<Figure size 432x288 with 2 Axes>"
      ]
     },
     "metadata": {
      "needs_background": "light"
     },
     "output_type": "display_data"
    },
    {
     "data": {
      "image/png": "[encoded data removed]",
      "text/plain": [
       "<Figure size 432x288 with 2 Axes>"
      ]
     },
     "metadata": {
      "needs_background": "light"
     },
     "output_type": "display_data"
    }
   ],
   "source": [
    "# SUPPLEMENTAL\n",
    "# TESTING\n",
    "# Resetting index of individual ticker dataframes (pre-concatenation) and assigning to variable\n",
    "agg_3yr_hx_solo=AGG.reset_index()\n",
    "spy_3yr_hx_solo=SPY.reset_index()\n",
    "# Limited sample review of new variablized dataframes\n",
    "display(agg_3yr_hx_solo.head(2))\n",
    "display(spy_3yr_hx_solo.head(2))\n",
    "\n",
    "# Visualize performance stocks and bonds over previous 3 years with x, y, c scatter plots\n",
    "agg_3yr_hx_solo.plot.scatter(\n",
    "    x='timestamp',\n",
    "    y='close',\n",
    "    c='volume',\n",
    "    title=f'Closing Prices for AGG',\n",
    "    cmap=\"inferno\",\n",
    "    )\n",
    "print('\\n')\n",
    "spy_3yr_hx_solo.plot.scatter(\n",
    "    x='timestamp',\n",
    "    y='close',\n",
    "    c='volume',\n",
    "    title=f'Closing Prices for SPY',\n",
    "    cmap='inferno',\n",
    "    )\n",
    "print('3 years historical data')"
   ]
  },
  {
   "cell_type": "markdown",
   "metadata": {},
   "source": [
    "### Comparing the scatter plots above generated by the preceeding three years of data, the stocks and bonds appear to have counter-correlated, with waht appears to be a significant downturn in bond performance."
   ]
  },
  {
   "cell_type": "code",
   "execution_count": 35,
   "metadata": {},
   "outputs": [
    {
     "name": "stdout",
     "output_type": "stream",
     "text": [
      "\n",
      "\n",
      "3 yr data\n"
     ]
    },
    {
     "data": {
      "image/png": "[encoded data removed]",
      "text/plain": [
       "<Figure size 432x288 with 2 Axes>"
      ]
     },
     "metadata": {
      "needs_background": "light"
     },
     "output_type": "display_data"
    }
   ],
   "source": [
    "# Isolating 'close' price from re-organized and subsequently concatenated dataframe\n",
    "adj_price_slice_df = prices_3yr_df.iloc[:,[3,10]]\n",
    "# Obtaining daily returns using .pct_change() and dropna() functions\n",
    "adj_price_returns_df = adj_price_slice_df.pct_change().dropna() \n",
    "# calculate correlation between returns\n",
    "adj_price_returns_correlate_df=adj_price_returns_df.corr()\n",
    "print('\\n')\n",
    "# Create a heatmap from the correlation of returns values\n",
    "htmap(adj_price_returns_correlate_df, annot=True, vmin=-1, vmax=1, fmt=\".2f\", cmap=\"Spectral\")\n",
    "print('3 yr data')"
   ]
  },
  {
   "cell_type": "markdown",
   "metadata": {},
   "source": [
    "### The correlation heatmap between the stocks and bonds approaches zero consistent with what was demonstrated above in the scatter plots visualization."
   ]
  },
  {
   "cell_type": "markdown",
   "metadata": {},
   "source": [
    "#### Step 2: Run a Monte Carlo simulation of 500 samples and 30 years for the 60/40 portfolio, and then plot the results."
   ]
  },
  {
   "cell_type": "code",
   "execution_count": 36,
   "metadata": {},
   "outputs": [
    {
     "data": {
      "text/html": [
       "<div>\n",
       "<style scoped>\n",
       "    .dataframe tbody tr th:only-of-type {\n",
       "        vertical-align: middle;\n",
       "    }\n",
       "\n",
       "    .dataframe tbody tr th {\n",
       "        vertical-align: top;\n",
       "    }\n",
       "\n",
       "    .dataframe thead tr th {\n",
       "        text-align: left;\n",
       "    }\n",
       "\n",
       "    .dataframe thead tr:last-of-type th {\n",
       "        text-align: right;\n",
       "    }\n",
       "</style>\n",
       "<table border=\"1\" class=\"dataframe\">\n",
       "  <thead>\n",
       "    <tr>\n",
       "      <th></th>\n",
       "      <th colspan=\"8\" halign=\"left\">AGG</th>\n",
       "      <th colspan=\"8\" halign=\"left\">SPY</th>\n",
       "    </tr>\n",
       "    <tr>\n",
       "      <th></th>\n",
       "      <th>open</th>\n",
       "      <th>high</th>\n",
       "      <th>low</th>\n",
       "      <th>close</th>\n",
       "      <th>volume</th>\n",
       "      <th>trade_count</th>\n",
       "      <th>vwap</th>\n",
       "      <th>daily_return</th>\n",
       "      <th>open</th>\n",
       "      <th>high</th>\n",
       "      <th>low</th>\n",
       "      <th>close</th>\n",
       "      <th>volume</th>\n",
       "      <th>trade_count</th>\n",
       "      <th>vwap</th>\n",
       "      <th>daily_return</th>\n",
       "    </tr>\n",
       "    <tr>\n",
       "      <th>timestamp</th>\n",
       "      <th></th>\n",
       "      <th></th>\n",
       "      <th></th>\n",
       "      <th></th>\n",
       "      <th></th>\n",
       "      <th></th>\n",
       "      <th></th>\n",
       "      <th></th>\n",
       "      <th></th>\n",
       "      <th></th>\n",
       "      <th></th>\n",
       "      <th></th>\n",
       "      <th></th>\n",
       "      <th></th>\n",
       "      <th></th>\n",
       "      <th></th>\n",
       "    </tr>\n",
       "  </thead>\n",
       "  <tbody>\n",
       "    <tr>\n",
       "      <th>2019-09-26 04:00:00+00:00</th>\n",
       "      <td>113.00</td>\n",
       "      <td>113.1000</td>\n",
       "      <td>112.935</td>\n",
       "      <td>113.00</td>\n",
       "      <td>4869355</td>\n",
       "      <td>11034</td>\n",
       "      <td>113.027123</td>\n",
       "      <td>NaN</td>\n",
       "      <td>297.62</td>\n",
       "      <td>297.8600</td>\n",
       "      <td>295.45</td>\n",
       "      <td>297.00</td>\n",
       "      <td>58758157</td>\n",
       "      <td>329411</td>\n",
       "      <td>296.847045</td>\n",
       "      <td>NaN</td>\n",
       "    </tr>\n",
       "    <tr>\n",
       "      <th>2019-09-27 04:00:00+00:00</th>\n",
       "      <td>113.00</td>\n",
       "      <td>113.1650</td>\n",
       "      <td>113.000</td>\n",
       "      <td>113.14</td>\n",
       "      <td>4652474</td>\n",
       "      <td>15910</td>\n",
       "      <td>113.108829</td>\n",
       "      <td>0.001239</td>\n",
       "      <td>297.87</td>\n",
       "      <td>297.9465</td>\n",
       "      <td>293.69</td>\n",
       "      <td>295.40</td>\n",
       "      <td>85194715</td>\n",
       "      <td>454922</td>\n",
       "      <td>295.623896</td>\n",
       "      <td>-0.005387</td>\n",
       "    </tr>\n",
       "    <tr>\n",
       "      <th>2019-09-30 04:00:00+00:00</th>\n",
       "      <td>112.93</td>\n",
       "      <td>113.2700</td>\n",
       "      <td>112.920</td>\n",
       "      <td>113.17</td>\n",
       "      <td>6638203</td>\n",
       "      <td>20269</td>\n",
       "      <td>113.172636</td>\n",
       "      <td>0.000265</td>\n",
       "      <td>295.98</td>\n",
       "      <td>297.5500</td>\n",
       "      <td>295.92</td>\n",
       "      <td>296.77</td>\n",
       "      <td>52771311</td>\n",
       "      <td>258680</td>\n",
       "      <td>296.786007</td>\n",
       "      <td>0.004638</td>\n",
       "    </tr>\n",
       "    <tr>\n",
       "      <th>2019-10-01 04:00:00+00:00</th>\n",
       "      <td>112.71</td>\n",
       "      <td>113.2500</td>\n",
       "      <td>112.630</td>\n",
       "      <td>113.12</td>\n",
       "      <td>5982470</td>\n",
       "      <td>30567</td>\n",
       "      <td>113.081002</td>\n",
       "      <td>-0.000442</td>\n",
       "      <td>297.67</td>\n",
       "      <td>298.4550</td>\n",
       "      <td>293.00</td>\n",
       "      <td>293.24</td>\n",
       "      <td>90160482</td>\n",
       "      <td>422407</td>\n",
       "      <td>294.867498</td>\n",
       "      <td>-0.011895</td>\n",
       "    </tr>\n",
       "    <tr>\n",
       "      <th>2019-10-02 04:00:00+00:00</th>\n",
       "      <td>113.19</td>\n",
       "      <td>113.3075</td>\n",
       "      <td>113.090</td>\n",
       "      <td>113.20</td>\n",
       "      <td>9571687</td>\n",
       "      <td>23424</td>\n",
       "      <td>113.229809</td>\n",
       "      <td>0.000707</td>\n",
       "      <td>291.49</td>\n",
       "      <td>291.5100</td>\n",
       "      <td>286.64</td>\n",
       "      <td>288.06</td>\n",
       "      <td>125924074</td>\n",
       "      <td>608988</td>\n",
       "      <td>288.821147</td>\n",
       "      <td>-0.017665</td>\n",
       "    </tr>\n",
       "  </tbody>\n",
       "</table>\n",
       "</div>"
      ],
      "text/plain": [
       "                              AGG                                      \\\n",
       "                             open      high      low   close   volume   \n",
       "timestamp                                                               \n",
       "2019-09-26 04:00:00+00:00  113.00  113.1000  112.935  113.00  4869355   \n",
       "2019-09-27 04:00:00+00:00  113.00  113.1650  113.000  113.14  4652474   \n",
       "2019-09-30 04:00:00+00:00  112.93  113.2700  112.920  113.17  6638203   \n",
       "2019-10-01 04:00:00+00:00  112.71  113.2500  112.630  113.12  5982470   \n",
       "2019-10-02 04:00:00+00:00  113.19  113.3075  113.090  113.20  9571687   \n",
       "\n",
       "                                                                   SPY  \\\n",
       "                          trade_count        vwap daily_return    open   \n",
       "timestamp                                                                \n",
       "2019-09-26 04:00:00+00:00       11034  113.027123          NaN  297.62   \n",
       "2019-09-27 04:00:00+00:00       15910  113.108829     0.001239  297.87   \n",
       "2019-09-30 04:00:00+00:00       20269  113.172636     0.000265  295.98   \n",
       "2019-10-01 04:00:00+00:00       30567  113.081002    -0.000442  297.67   \n",
       "2019-10-02 04:00:00+00:00       23424  113.229809     0.000707  291.49   \n",
       "\n",
       "                                                                            \\\n",
       "                               high     low   close     volume trade_count   \n",
       "timestamp                                                                    \n",
       "2019-09-26 04:00:00+00:00  297.8600  295.45  297.00   58758157      329411   \n",
       "2019-09-27 04:00:00+00:00  297.9465  293.69  295.40   85194715      454922   \n",
       "2019-09-30 04:00:00+00:00  297.5500  295.92  296.77   52771311      258680   \n",
       "2019-10-01 04:00:00+00:00  298.4550  293.00  293.24   90160482      422407   \n",
       "2019-10-02 04:00:00+00:00  291.5100  286.64  288.06  125924074      608988   \n",
       "\n",
       "                                                    \n",
       "                                 vwap daily_return  \n",
       "timestamp                                           \n",
       "2019-09-26 04:00:00+00:00  296.847045          NaN  \n",
       "2019-09-27 04:00:00+00:00  295.623896    -0.005387  \n",
       "2019-09-30 04:00:00+00:00  296.786007     0.004638  \n",
       "2019-10-01 04:00:00+00:00  294.867498    -0.011895  \n",
       "2019-10-02 04:00:00+00:00  288.821147    -0.017665  "
      ]
     },
     "execution_count": 36,
     "metadata": {},
     "output_type": "execute_result"
    }
   ],
   "source": [
    "# Configure the Monte Carlo simulation to forecast 30 years cumulative returns (i.e. 1:10)\n",
    "# traditional 60/40 portfolio split: 60% stocks (SPY) and 40% bonds (AGG)\n",
    "# The weights should be split 40% to AGG and 60% to SPY.\n",
    "# Run 500 samples.\n",
    "\n",
    "MC_four_six_weight = MCSimulation(\n",
    "    portfolio_data = prices_3yr_df,\n",
    "    weights = [.4, .6],\n",
    "    num_simulation = 500,\n",
    "    num_trading_days = 252*30\n",
    ")\n",
    "\n",
    "# Review the simulation input data\n",
    "MC_four_six_weight.portfolio_data.head()"
   ]
  },
  {
   "cell_type": "code",
   "execution_count": 37,
   "metadata": {},
   "outputs": [
    {
     "name": "stdout",
     "output_type": "stream",
     "text": [
      "Running Monte Carlo simulation number 0.\n",
      "Running Monte Carlo simulation number 10.\n",
      "Running Monte Carlo simulation number 20.\n",
      "Running Monte Carlo simulation number 30.\n",
      "Running Monte Carlo simulation number 40.\n",
      "Running Monte Carlo simulation number 50.\n",
      "Running Monte Carlo simulation number 60.\n",
      "Running Monte Carlo simulation number 70.\n",
      "Running Monte Carlo simulation number 80.\n",
      "Running Monte Carlo simulation number 90.\n",
      "Running Monte Carlo simulation number 100.\n",
      "Running Monte Carlo simulation number 110.\n",
      "Running Monte Carlo simulation number 120.\n",
      "Running Monte Carlo simulation number 130.\n",
      "Running Monte Carlo simulation number 140.\n",
      "Running Monte Carlo simulation number 150.\n",
      "Running Monte Carlo simulation number 160.\n",
      "Running Monte Carlo simulation number 170.\n",
      "Running Monte Carlo simulation number 180.\n",
      "Running Monte Carlo simulation number 190.\n",
      "Running Monte Carlo simulation number 200.\n",
      "Running Monte Carlo simulation number 210.\n",
      "Running Monte Carlo simulation number 220.\n",
      "Running Monte Carlo simulation number 230.\n",
      "Running Monte Carlo simulation number 240.\n",
      "Running Monte Carlo simulation number 250.\n",
      "Running Monte Carlo simulation number 260.\n",
      "Running Monte Carlo simulation number 270.\n",
      "Running Monte Carlo simulation number 280.\n",
      "Running Monte Carlo simulation number 290.\n",
      "Running Monte Carlo simulation number 300.\n",
      "Running Monte Carlo simulation number 310.\n",
      "Running Monte Carlo simulation number 320.\n",
      "Running Monte Carlo simulation number 330.\n",
      "Running Monte Carlo simulation number 340.\n",
      "Running Monte Carlo simulation number 350.\n",
      "Running Monte Carlo simulation number 360.\n",
      "Running Monte Carlo simulation number 370.\n",
      "Running Monte Carlo simulation number 380.\n",
      "Running Monte Carlo simulation number 390.\n",
      "Running Monte Carlo simulation number 400.\n",
      "Running Monte Carlo simulation number 410.\n",
      "Running Monte Carlo simulation number 420.\n",
      "Running Monte Carlo simulation number 430.\n",
      "Running Monte Carlo simulation number 440.\n",
      "Running Monte Carlo simulation number 450.\n",
      "Running Monte Carlo simulation number 460.\n",
      "Running Monte Carlo simulation number 470.\n",
      "Running Monte Carlo simulation number 480.\n",
      "Running Monte Carlo simulation number 490.\n"
     ]
    },
    {
     "data": {
      "text/html": [
       "<div>\n",
       "<style scoped>\n",
       "    .dataframe tbody tr th:only-of-type {\n",
       "        vertical-align: middle;\n",
       "    }\n",
       "\n",
       "    .dataframe tbody tr th {\n",
       "        vertical-align: top;\n",
       "    }\n",
       "\n",
       "    .dataframe thead th {\n",
       "        text-align: right;\n",
       "    }\n",
       "</style>\n",
       "<table border=\"1\" class=\"dataframe\">\n",
       "  <thead>\n",
       "    <tr style=\"text-align: right;\">\n",
       "      <th></th>\n",
       "      <th>0</th>\n",
       "      <th>1</th>\n",
       "      <th>2</th>\n",
       "      <th>3</th>\n",
       "      <th>4</th>\n",
       "      <th>5</th>\n",
       "      <th>6</th>\n",
       "      <th>7</th>\n",
       "      <th>8</th>\n",
       "      <th>9</th>\n",
       "      <th>...</th>\n",
       "      <th>490</th>\n",
       "      <th>491</th>\n",
       "      <th>492</th>\n",
       "      <th>493</th>\n",
       "      <th>494</th>\n",
       "      <th>495</th>\n",
       "      <th>496</th>\n",
       "      <th>497</th>\n",
       "      <th>498</th>\n",
       "      <th>499</th>\n",
       "    </tr>\n",
       "  </thead>\n",
       "  <tbody>\n",
       "    <tr>\n",
       "      <th>0</th>\n",
       "      <td>1.000000</td>\n",
       "      <td>1.000000</td>\n",
       "      <td>1.000000</td>\n",
       "      <td>1.000000</td>\n",
       "      <td>1.000000</td>\n",
       "      <td>1.000000</td>\n",
       "      <td>1.000000</td>\n",
       "      <td>1.000000</td>\n",
       "      <td>1.000000</td>\n",
       "      <td>1.000000</td>\n",
       "      <td>...</td>\n",
       "      <td>1.000000</td>\n",
       "      <td>1.000000</td>\n",
       "      <td>1.000000</td>\n",
       "      <td>1.000000</td>\n",
       "      <td>1.000000</td>\n",
       "      <td>1.000000</td>\n",
       "      <td>1.000000</td>\n",
       "      <td>1.000000</td>\n",
       "      <td>1.000000</td>\n",
       "      <td>1.000000</td>\n",
       "    </tr>\n",
       "    <tr>\n",
       "      <th>1</th>\n",
       "      <td>0.987609</td>\n",
       "      <td>1.002620</td>\n",
       "      <td>0.995341</td>\n",
       "      <td>1.005843</td>\n",
       "      <td>1.014142</td>\n",
       "      <td>1.006066</td>\n",
       "      <td>0.987114</td>\n",
       "      <td>0.992196</td>\n",
       "      <td>0.989896</td>\n",
       "      <td>1.007455</td>\n",
       "      <td>...</td>\n",
       "      <td>0.990593</td>\n",
       "      <td>1.000976</td>\n",
       "      <td>0.994414</td>\n",
       "      <td>0.999326</td>\n",
       "      <td>0.992679</td>\n",
       "      <td>1.006569</td>\n",
       "      <td>0.994303</td>\n",
       "      <td>0.999247</td>\n",
       "      <td>1.007774</td>\n",
       "      <td>0.987262</td>\n",
       "    </tr>\n",
       "    <tr>\n",
       "      <th>2</th>\n",
       "      <td>1.007222</td>\n",
       "      <td>1.007055</td>\n",
       "      <td>1.012597</td>\n",
       "      <td>0.994374</td>\n",
       "      <td>1.010010</td>\n",
       "      <td>1.020482</td>\n",
       "      <td>0.996248</td>\n",
       "      <td>0.983747</td>\n",
       "      <td>0.990303</td>\n",
       "      <td>1.004929</td>\n",
       "      <td>...</td>\n",
       "      <td>0.989669</td>\n",
       "      <td>1.009341</td>\n",
       "      <td>0.998574</td>\n",
       "      <td>0.971219</td>\n",
       "      <td>1.008151</td>\n",
       "      <td>1.018576</td>\n",
       "      <td>1.002696</td>\n",
       "      <td>0.997755</td>\n",
       "      <td>1.004812</td>\n",
       "      <td>0.993048</td>\n",
       "    </tr>\n",
       "    <tr>\n",
       "      <th>3</th>\n",
       "      <td>0.997988</td>\n",
       "      <td>1.002928</td>\n",
       "      <td>1.012205</td>\n",
       "      <td>0.989002</td>\n",
       "      <td>0.988077</td>\n",
       "      <td>1.010685</td>\n",
       "      <td>0.993850</td>\n",
       "      <td>0.976008</td>\n",
       "      <td>1.002716</td>\n",
       "      <td>1.016035</td>\n",
       "      <td>...</td>\n",
       "      <td>0.996191</td>\n",
       "      <td>1.010772</td>\n",
       "      <td>1.009712</td>\n",
       "      <td>0.965451</td>\n",
       "      <td>0.997501</td>\n",
       "      <td>1.017845</td>\n",
       "      <td>1.015297</td>\n",
       "      <td>1.000041</td>\n",
       "      <td>1.004393</td>\n",
       "      <td>0.993572</td>\n",
       "    </tr>\n",
       "    <tr>\n",
       "      <th>4</th>\n",
       "      <td>0.989551</td>\n",
       "      <td>1.002582</td>\n",
       "      <td>1.002746</td>\n",
       "      <td>0.987108</td>\n",
       "      <td>0.981453</td>\n",
       "      <td>1.000806</td>\n",
       "      <td>0.975014</td>\n",
       "      <td>0.986998</td>\n",
       "      <td>1.012011</td>\n",
       "      <td>1.004680</td>\n",
       "      <td>...</td>\n",
       "      <td>1.008025</td>\n",
       "      <td>1.014870</td>\n",
       "      <td>0.990420</td>\n",
       "      <td>0.980476</td>\n",
       "      <td>1.014857</td>\n",
       "      <td>1.008124</td>\n",
       "      <td>1.023299</td>\n",
       "      <td>0.992415</td>\n",
       "      <td>1.001812</td>\n",
       "      <td>0.985218</td>\n",
       "    </tr>\n",
       "    <tr>\n",
       "      <th>...</th>\n",
       "      <td>...</td>\n",
       "      <td>...</td>\n",
       "      <td>...</td>\n",
       "      <td>...</td>\n",
       "      <td>...</td>\n",
       "      <td>...</td>\n",
       "      <td>...</td>\n",
       "      <td>...</td>\n",
       "      <td>...</td>\n",
       "      <td>...</td>\n",
       "      <td>...</td>\n",
       "      <td>...</td>\n",
       "      <td>...</td>\n",
       "      <td>...</td>\n",
       "      <td>...</td>\n",
       "      <td>...</td>\n",
       "      <td>...</td>\n",
       "      <td>...</td>\n",
       "      <td>...</td>\n",
       "      <td>...</td>\n",
       "      <td>...</td>\n",
       "    </tr>\n",
       "    <tr>\n",
       "      <th>7556</th>\n",
       "      <td>4.163525</td>\n",
       "      <td>4.415454</td>\n",
       "      <td>6.399707</td>\n",
       "      <td>4.301174</td>\n",
       "      <td>2.695145</td>\n",
       "      <td>0.740684</td>\n",
       "      <td>8.719117</td>\n",
       "      <td>2.859854</td>\n",
       "      <td>5.279651</td>\n",
       "      <td>6.187342</td>\n",
       "      <td>...</td>\n",
       "      <td>0.908873</td>\n",
       "      <td>3.083173</td>\n",
       "      <td>2.823316</td>\n",
       "      <td>1.168718</td>\n",
       "      <td>0.925626</td>\n",
       "      <td>3.626917</td>\n",
       "      <td>1.696406</td>\n",
       "      <td>4.234691</td>\n",
       "      <td>2.304201</td>\n",
       "      <td>3.631171</td>\n",
       "    </tr>\n",
       "    <tr>\n",
       "      <th>7557</th>\n",
       "      <td>4.209729</td>\n",
       "      <td>4.342172</td>\n",
       "      <td>6.452102</td>\n",
       "      <td>4.318176</td>\n",
       "      <td>2.689938</td>\n",
       "      <td>0.736258</td>\n",
       "      <td>8.723631</td>\n",
       "      <td>2.868884</td>\n",
       "      <td>5.338798</td>\n",
       "      <td>6.149775</td>\n",
       "      <td>...</td>\n",
       "      <td>0.911705</td>\n",
       "      <td>3.100563</td>\n",
       "      <td>2.823296</td>\n",
       "      <td>1.164225</td>\n",
       "      <td>0.918365</td>\n",
       "      <td>3.628222</td>\n",
       "      <td>1.710533</td>\n",
       "      <td>4.273351</td>\n",
       "      <td>2.300546</td>\n",
       "      <td>3.573063</td>\n",
       "    </tr>\n",
       "    <tr>\n",
       "      <th>7558</th>\n",
       "      <td>4.261586</td>\n",
       "      <td>4.281075</td>\n",
       "      <td>6.521003</td>\n",
       "      <td>4.305079</td>\n",
       "      <td>2.661254</td>\n",
       "      <td>0.729416</td>\n",
       "      <td>8.717691</td>\n",
       "      <td>2.856618</td>\n",
       "      <td>5.393788</td>\n",
       "      <td>6.153388</td>\n",
       "      <td>...</td>\n",
       "      <td>0.910916</td>\n",
       "      <td>3.123008</td>\n",
       "      <td>2.858903</td>\n",
       "      <td>1.172468</td>\n",
       "      <td>0.912881</td>\n",
       "      <td>3.618173</td>\n",
       "      <td>1.723397</td>\n",
       "      <td>4.334427</td>\n",
       "      <td>2.313410</td>\n",
       "      <td>3.544874</td>\n",
       "    </tr>\n",
       "    <tr>\n",
       "      <th>7559</th>\n",
       "      <td>4.144241</td>\n",
       "      <td>4.255431</td>\n",
       "      <td>6.583744</td>\n",
       "      <td>4.323658</td>\n",
       "      <td>2.679805</td>\n",
       "      <td>0.720642</td>\n",
       "      <td>8.672168</td>\n",
       "      <td>2.845284</td>\n",
       "      <td>5.388623</td>\n",
       "      <td>6.174927</td>\n",
       "      <td>...</td>\n",
       "      <td>0.908678</td>\n",
       "      <td>3.110535</td>\n",
       "      <td>2.881710</td>\n",
       "      <td>1.159280</td>\n",
       "      <td>0.915053</td>\n",
       "      <td>3.591595</td>\n",
       "      <td>1.699388</td>\n",
       "      <td>4.331551</td>\n",
       "      <td>2.324777</td>\n",
       "      <td>3.549452</td>\n",
       "    </tr>\n",
       "    <tr>\n",
       "      <th>7560</th>\n",
       "      <td>4.109889</td>\n",
       "      <td>4.270635</td>\n",
       "      <td>6.684417</td>\n",
       "      <td>4.244255</td>\n",
       "      <td>2.677210</td>\n",
       "      <td>0.709897</td>\n",
       "      <td>8.703569</td>\n",
       "      <td>2.884848</td>\n",
       "      <td>5.462556</td>\n",
       "      <td>6.103518</td>\n",
       "      <td>...</td>\n",
       "      <td>0.903814</td>\n",
       "      <td>3.125415</td>\n",
       "      <td>2.903120</td>\n",
       "      <td>1.163479</td>\n",
       "      <td>0.907782</td>\n",
       "      <td>3.578208</td>\n",
       "      <td>1.715033</td>\n",
       "      <td>4.382985</td>\n",
       "      <td>2.306329</td>\n",
       "      <td>3.555136</td>\n",
       "    </tr>\n",
       "  </tbody>\n",
       "</table>\n",
       "<p>7561 rows × 500 columns</p>\n",
       "</div>"
      ],
      "text/plain": [
       "           0         1         2         3         4         5         6    \\\n",
       "0     1.000000  1.000000  1.000000  1.000000  1.000000  1.000000  1.000000   \n",
       "1     0.987609  1.002620  0.995341  1.005843  1.014142  1.006066  0.987114   \n",
       "2     1.007222  1.007055  1.012597  0.994374  1.010010  1.020482  0.996248   \n",
       "3     0.997988  1.002928  1.012205  0.989002  0.988077  1.010685  0.993850   \n",
       "4     0.989551  1.002582  1.002746  0.987108  0.981453  1.000806  0.975014   \n",
       "...        ...       ...       ...       ...       ...       ...       ...   \n",
       "7556  4.163525  4.415454  6.399707  4.301174  2.695145  0.740684  8.719117   \n",
       "7557  4.209729  4.342172  6.452102  4.318176  2.689938  0.736258  8.723631   \n",
       "7558  4.261586  4.281075  6.521003  4.305079  2.661254  0.729416  8.717691   \n",
       "7559  4.144241  4.255431  6.583744  4.323658  2.679805  0.720642  8.672168   \n",
       "7560  4.109889  4.270635  6.684417  4.244255  2.677210  0.709897  8.703569   \n",
       "\n",
       "           7         8         9    ...       490       491       492  \\\n",
       "0     1.000000  1.000000  1.000000  ...  1.000000  1.000000  1.000000   \n",
       "1     0.992196  0.989896  1.007455  ...  0.990593  1.000976  0.994414   \n",
       "2     0.983747  0.990303  1.004929  ...  0.989669  1.009341  0.998574   \n",
       "3     0.976008  1.002716  1.016035  ...  0.996191  1.010772  1.009712   \n",
       "4     0.986998  1.012011  1.004680  ...  1.008025  1.014870  0.990420   \n",
       "...        ...       ...       ...  ...       ...       ...       ...   \n",
       "7556  2.859854  5.279651  6.187342  ...  0.908873  3.083173  2.823316   \n",
       "7557  2.868884  5.338798  6.149775  ...  0.911705  3.100563  2.823296   \n",
       "7558  2.856618  5.393788  6.153388  ...  0.910916  3.123008  2.858903   \n",
       "7559  2.845284  5.388623  6.174927  ...  0.908678  3.110535  2.881710   \n",
       "7560  2.884848  5.462556  6.103518  ...  0.903814  3.125415  2.903120   \n",
       "\n",
       "           493       494       495       496       497       498       499  \n",
       "0     1.000000  1.000000  1.000000  1.000000  1.000000  1.000000  1.000000  \n",
       "1     0.999326  0.992679  1.006569  0.994303  0.999247  1.007774  0.987262  \n",
       "2     0.971219  1.008151  1.018576  1.002696  0.997755  1.004812  0.993048  \n",
       "3     0.965451  0.997501  1.017845  1.015297  1.000041  1.004393  0.993572  \n",
       "4     0.980476  1.014857  1.008124  1.023299  0.992415  1.001812  0.985218  \n",
       "...        ...       ...       ...       ...       ...       ...       ...  \n",
       "7556  1.168718  0.925626  3.626917  1.696406  4.234691  2.304201  3.631171  \n",
       "7557  1.164225  0.918365  3.628222  1.710533  4.273351  2.300546  3.573063  \n",
       "7558  1.172468  0.912881  3.618173  1.723397  4.334427  2.313410  3.544874  \n",
       "7559  1.159280  0.915053  3.591595  1.699388  4.331551  2.324777  3.549452  \n",
       "7560  1.163479  0.907782  3.578208  1.715033  4.382985  2.306329  3.555136  \n",
       "\n",
       "[7561 rows x 500 columns]"
      ]
     },
     "execution_count": 37,
     "metadata": {},
     "output_type": "execute_result"
    }
   ],
   "source": [
    "# Run a Monte Carlo simulation to forecast 30 years cumulative returns\n",
    "\n",
    "MC_four_six_weight.calc_cumulative_return()"
   ]
  },
  {
   "cell_type": "code",
   "execution_count": 38,
   "metadata": {},
   "outputs": [
    {
     "data": {
      "image/png": "[encoded data removed]",
      "text/plain": [
       "<Figure size 432x288 with 1 Axes>"
      ]
     },
     "metadata": {
      "needs_background": "light"
     },
     "output_type": "display_data"
    }
   ],
   "source": [
    "# Visualize the 30-year Monte Carlo simulation by creating an\n",
    "# overlay line plot\n",
    "four_six_weight_line_plot= MC_four_six_weight.plot_simulation()"
   ]
  },
  {
   "cell_type": "markdown",
   "metadata": {},
   "source": [
    "#### Step 3: Plot the probability distribution of the Monte Carlo simulation."
   ]
  },
  {
   "cell_type": "code",
   "execution_count": 39,
   "metadata": {},
   "outputs": [
    {
     "name": "stdout",
     "output_type": "stream",
     "text": [
      "Monte Carlo 1:10 data to prediction\n"
     ]
    },
    {
     "data": {
      "image/png": "[encoded data removed]",
      "text/plain": [
       "<Figure size 432x288 with 1 Axes>"
      ]
     },
     "metadata": {
      "needs_background": "light"
     },
     "output_type": "display_data"
    }
   ],
   "source": [
    "# Visualize the probability distribution of the 30-year Monte Carlo simulation \n",
    "four_six_weight_distribution_plot = MC_four_six_weight.plot_distribution()\n",
    "print('Monte Carlo 1:10 data to prediction')"
   ]
  },
  {
   "cell_type": "markdown",
   "metadata": {},
   "source": [
    "#### Step 4: Generate the summary statistics for the Monte Carlo simulation."
   ]
  },
  {
   "cell_type": "code",
   "execution_count": 40,
   "metadata": {},
   "outputs": [
    {
     "name": "stdout",
     "output_type": "stream",
     "text": [
      "\n",
      "\n",
      "count           500.000000\n",
      "mean              3.528616\n",
      "std               4.579966\n",
      "min               0.235808\n",
      "25%               1.473264\n",
      "50%               2.486580\n",
      "75%               4.355426\n",
      "max              84.586826\n",
      "95% CI Lower      0.483137\n",
      "95% CI Upper     11.725107\n",
      "Name: 7560, dtype: float64\n"
     ]
    },
    {
     "data": {
      "text/plain": [
       "None"
      ]
     },
     "metadata": {},
     "output_type": "display_data"
    }
   ],
   "source": [
    "# Generate summary statistics from the 30-year Monte Carlo simulation results\n",
    "# Save the results as a variable\n",
    "four_six_weight = MC_four_six_weight.summarize_cumulative_return()\n",
    "\n",
    "# Review the 30-year Monte Carlo summary statistics\n",
    "print('\\n')\n",
    "display(print(four_six_weight))"
   ]
  },
  {
   "cell_type": "markdown",
   "metadata": {},
   "source": [
    "### Analyze the Retirement Portfolio Forecasts\n",
    "\n",
    "Using the current value of only the stock and bond portion of the member's portfolio and the summary statistics that you generated from the Monte Carlo simulation, answer the following question in your Jupyter notebook:\n",
    "\n",
    "-  What are the lower and upper bounds for the expected value of the portfolio with a 95% confidence interval?\n"
   ]
  },
  {
   "cell_type": "code",
   "execution_count": 41,
   "metadata": {},
   "outputs": [
    {
     "name": "stdout",
     "output_type": "stream",
     "text": [
      "\n",
      " The current value of the stock and bond portion of the portfolio is $84282.0 \n",
      "\n"
     ]
    }
   ],
   "source": [
    "# Print the current balance of the stock and bond portion of the members portfolio\n",
    "print(f'\\n The current value of the stock and bond portion of the portfolio is ${round(total_stocks_bonds, 2)} \\n')"
   ]
  },
  {
   "cell_type": "code",
   "execution_count": 42,
   "metadata": {},
   "outputs": [
    {
     "name": "stdout",
     "output_type": "stream",
     "text": [
      "\n",
      " The current value of the stock and bond portion of the portfolio is $84282.0 \n",
      "\n",
      "\n",
      " There is a 95% chance that an initial investment of $84282.0 in the portfolio with a 40-60 weight portfolio over the next 30 years will end within in the range of $40719.77 and $988215.48. \n",
      "\n"
     ]
    }
   ],
   "source": [
    "# Print the current balance of the stock and bond portion of the members portfolio\n",
    "print(f'\\n The current value of the stock and bond portion of the portfolio is ${round(total_stocks_bonds, 2)} \\n')\n",
    "\n",
    "# Use the lower and upper `95%` confidence intervals to calculate the range of the possible outcomes for the current stock/bond portfolio\n",
    "# (index positions 8 & 9 from the even_weight_table)\n",
    "# calculate the range of the possible outcomes for a total_stocks_bonds investment\n",
    "\n",
    "ci_lower_thirty_cumulative_return = round(four_six_weight[8]*total_stocks_bonds,2)\n",
    "ci_upper_thirty_cumulative_return = round(four_six_weight[9]*total_stocks_bonds,2)\n",
    "\n",
    "# Print the result of your calculations\n",
    "print(f'\\n There is a 95% chance that an initial investment of ${round(total_stocks_bonds, 2)} in the portfolio'\n",
    "      f' with a 40-60 weight portfolio over the next 30 years will end within in the range of'\n",
    "      f' ${ci_lower_thirty_cumulative_return} and ${ci_upper_thirty_cumulative_return}. \\n')"
   ]
  },
  {
   "cell_type": "markdown",
   "metadata": {},
   "source": [
    "### Forecast Cumulative Returns in 10 Years\n",
    "\n",
    "The CTO of the credit union is impressed with your work on these planning tools but wonders if 30 years is a long time to wait until retirement. So, your next task is to adjust the retirement portfolio and run a new Monte Carlo simulation to find out if the changes will allow members to retire earlier.\n",
    "\n",
    "For this new Monte Carlo simulation, do the following: \n",
    "\n",
    "- Forecast the cumulative returns for 10 years from now. Because of the shortened investment horizon (30 years to 10 years), the portfolio needs to invest more heavily in the riskier asset&mdash;that is, stock&mdash;to help accumulate wealth for retirement. \n",
    "\n",
    "- Adjust the weights of the retirement portfolio so that the composition for the Monte Carlo simulation consists of 20% bonds and 80% stocks. \n",
    "\n",
    "- Run the simulation over 500 samples, and use the same data that the API call to Alpaca generated.\n",
    "\n",
    "- Based on the new Monte Carlo simulation, answer the following questions in your Jupyter notebook:\n",
    "\n",
    "    - Using the current value of only the stock and bond portion of the member's portfolio and the summary statistics that you generated from the new Monte Carlo simulation, what are the lower and upper bounds for the expected value of the portfolio (with the new weights) with a 95% confidence interval?\n",
    "\n",
    "    - Will weighting the portfolio more heavily toward stocks allow the credit union members to retire after only 10 years?\n"
   ]
  },
  {
   "cell_type": "code",
   "execution_count": 43,
   "metadata": {},
   "outputs": [
    {
     "data": {
      "text/html": [
       "<div>\n",
       "<style scoped>\n",
       "    .dataframe tbody tr th:only-of-type {\n",
       "        vertical-align: middle;\n",
       "    }\n",
       "\n",
       "    .dataframe tbody tr th {\n",
       "        vertical-align: top;\n",
       "    }\n",
       "\n",
       "    .dataframe thead tr th {\n",
       "        text-align: left;\n",
       "    }\n",
       "\n",
       "    .dataframe thead tr:last-of-type th {\n",
       "        text-align: right;\n",
       "    }\n",
       "</style>\n",
       "<table border=\"1\" class=\"dataframe\">\n",
       "  <thead>\n",
       "    <tr>\n",
       "      <th></th>\n",
       "      <th colspan=\"8\" halign=\"left\">AGG</th>\n",
       "      <th colspan=\"8\" halign=\"left\">SPY</th>\n",
       "    </tr>\n",
       "    <tr>\n",
       "      <th></th>\n",
       "      <th>open</th>\n",
       "      <th>high</th>\n",
       "      <th>low</th>\n",
       "      <th>close</th>\n",
       "      <th>volume</th>\n",
       "      <th>trade_count</th>\n",
       "      <th>vwap</th>\n",
       "      <th>daily_return</th>\n",
       "      <th>open</th>\n",
       "      <th>high</th>\n",
       "      <th>low</th>\n",
       "      <th>close</th>\n",
       "      <th>volume</th>\n",
       "      <th>trade_count</th>\n",
       "      <th>vwap</th>\n",
       "      <th>daily_return</th>\n",
       "    </tr>\n",
       "    <tr>\n",
       "      <th>timestamp</th>\n",
       "      <th></th>\n",
       "      <th></th>\n",
       "      <th></th>\n",
       "      <th></th>\n",
       "      <th></th>\n",
       "      <th></th>\n",
       "      <th></th>\n",
       "      <th></th>\n",
       "      <th></th>\n",
       "      <th></th>\n",
       "      <th></th>\n",
       "      <th></th>\n",
       "      <th></th>\n",
       "      <th></th>\n",
       "      <th></th>\n",
       "      <th></th>\n",
       "    </tr>\n",
       "  </thead>\n",
       "  <tbody>\n",
       "    <tr>\n",
       "      <th>2019-09-26 04:00:00+00:00</th>\n",
       "      <td>113.00</td>\n",
       "      <td>113.1000</td>\n",
       "      <td>112.935</td>\n",
       "      <td>113.00</td>\n",
       "      <td>4869355</td>\n",
       "      <td>11034</td>\n",
       "      <td>113.027123</td>\n",
       "      <td>NaN</td>\n",
       "      <td>297.62</td>\n",
       "      <td>297.8600</td>\n",
       "      <td>295.45</td>\n",
       "      <td>297.00</td>\n",
       "      <td>58758157</td>\n",
       "      <td>329411</td>\n",
       "      <td>296.847045</td>\n",
       "      <td>NaN</td>\n",
       "    </tr>\n",
       "    <tr>\n",
       "      <th>2019-09-27 04:00:00+00:00</th>\n",
       "      <td>113.00</td>\n",
       "      <td>113.1650</td>\n",
       "      <td>113.000</td>\n",
       "      <td>113.14</td>\n",
       "      <td>4652474</td>\n",
       "      <td>15910</td>\n",
       "      <td>113.108829</td>\n",
       "      <td>0.001239</td>\n",
       "      <td>297.87</td>\n",
       "      <td>297.9465</td>\n",
       "      <td>293.69</td>\n",
       "      <td>295.40</td>\n",
       "      <td>85194715</td>\n",
       "      <td>454922</td>\n",
       "      <td>295.623896</td>\n",
       "      <td>-0.005387</td>\n",
       "    </tr>\n",
       "    <tr>\n",
       "      <th>2019-09-30 04:00:00+00:00</th>\n",
       "      <td>112.93</td>\n",
       "      <td>113.2700</td>\n",
       "      <td>112.920</td>\n",
       "      <td>113.17</td>\n",
       "      <td>6638203</td>\n",
       "      <td>20269</td>\n",
       "      <td>113.172636</td>\n",
       "      <td>0.000265</td>\n",
       "      <td>295.98</td>\n",
       "      <td>297.5500</td>\n",
       "      <td>295.92</td>\n",
       "      <td>296.77</td>\n",
       "      <td>52771311</td>\n",
       "      <td>258680</td>\n",
       "      <td>296.786007</td>\n",
       "      <td>0.004638</td>\n",
       "    </tr>\n",
       "    <tr>\n",
       "      <th>2019-10-01 04:00:00+00:00</th>\n",
       "      <td>112.71</td>\n",
       "      <td>113.2500</td>\n",
       "      <td>112.630</td>\n",
       "      <td>113.12</td>\n",
       "      <td>5982470</td>\n",
       "      <td>30567</td>\n",
       "      <td>113.081002</td>\n",
       "      <td>-0.000442</td>\n",
       "      <td>297.67</td>\n",
       "      <td>298.4550</td>\n",
       "      <td>293.00</td>\n",
       "      <td>293.24</td>\n",
       "      <td>90160482</td>\n",
       "      <td>422407</td>\n",
       "      <td>294.867498</td>\n",
       "      <td>-0.011895</td>\n",
       "    </tr>\n",
       "    <tr>\n",
       "      <th>2019-10-02 04:00:00+00:00</th>\n",
       "      <td>113.19</td>\n",
       "      <td>113.3075</td>\n",
       "      <td>113.090</td>\n",
       "      <td>113.20</td>\n",
       "      <td>9571687</td>\n",
       "      <td>23424</td>\n",
       "      <td>113.229809</td>\n",
       "      <td>0.000707</td>\n",
       "      <td>291.49</td>\n",
       "      <td>291.5100</td>\n",
       "      <td>286.64</td>\n",
       "      <td>288.06</td>\n",
       "      <td>125924074</td>\n",
       "      <td>608988</td>\n",
       "      <td>288.821147</td>\n",
       "      <td>-0.017665</td>\n",
       "    </tr>\n",
       "  </tbody>\n",
       "</table>\n",
       "</div>"
      ],
      "text/plain": [
       "                              AGG                                      \\\n",
       "                             open      high      low   close   volume   \n",
       "timestamp                                                               \n",
       "2019-09-26 04:00:00+00:00  113.00  113.1000  112.935  113.00  4869355   \n",
       "2019-09-27 04:00:00+00:00  113.00  113.1650  113.000  113.14  4652474   \n",
       "2019-09-30 04:00:00+00:00  112.93  113.2700  112.920  113.17  6638203   \n",
       "2019-10-01 04:00:00+00:00  112.71  113.2500  112.630  113.12  5982470   \n",
       "2019-10-02 04:00:00+00:00  113.19  113.3075  113.090  113.20  9571687   \n",
       "\n",
       "                                                                   SPY  \\\n",
       "                          trade_count        vwap daily_return    open   \n",
       "timestamp                                                                \n",
       "2019-09-26 04:00:00+00:00       11034  113.027123          NaN  297.62   \n",
       "2019-09-27 04:00:00+00:00       15910  113.108829     0.001239  297.87   \n",
       "2019-09-30 04:00:00+00:00       20269  113.172636     0.000265  295.98   \n",
       "2019-10-01 04:00:00+00:00       30567  113.081002    -0.000442  297.67   \n",
       "2019-10-02 04:00:00+00:00       23424  113.229809     0.000707  291.49   \n",
       "\n",
       "                                                                            \\\n",
       "                               high     low   close     volume trade_count   \n",
       "timestamp                                                                    \n",
       "2019-09-26 04:00:00+00:00  297.8600  295.45  297.00   58758157      329411   \n",
       "2019-09-27 04:00:00+00:00  297.9465  293.69  295.40   85194715      454922   \n",
       "2019-09-30 04:00:00+00:00  297.5500  295.92  296.77   52771311      258680   \n",
       "2019-10-01 04:00:00+00:00  298.4550  293.00  293.24   90160482      422407   \n",
       "2019-10-02 04:00:00+00:00  291.5100  286.64  288.06  125924074      608988   \n",
       "\n",
       "                                                    \n",
       "                                 vwap daily_return  \n",
       "timestamp                                           \n",
       "2019-09-26 04:00:00+00:00  296.847045          NaN  \n",
       "2019-09-27 04:00:00+00:00  295.623896    -0.005387  \n",
       "2019-09-30 04:00:00+00:00  296.786007     0.004638  \n",
       "2019-10-01 04:00:00+00:00  294.867498    -0.011895  \n",
       "2019-10-02 04:00:00+00:00  288.821147    -0.017665  "
      ]
     },
     "execution_count": 43,
     "metadata": {},
     "output_type": "execute_result"
    }
   ],
   "source": [
    "# Configure a Monte Carlo simulation to forecast 10 years cumulative returns (i.e. 3:10)\n",
    "# The weights should be split 20% to AGG and 80% to SPY.\n",
    "# Run 500 samples.\n",
    "\n",
    "MC_two_eight_weight = MCSimulation(\n",
    "    portfolio_data = prices_3yr_df,\n",
    "    weights = [.2, .8],\n",
    "    num_simulation = 500,\n",
    "    num_trading_days = 252*10\n",
    ")\n",
    "\n",
    "# Review the simulation input data\n",
    "MC_two_eight_weight.portfolio_data.head()"
   ]
  },
  {
   "cell_type": "code",
   "execution_count": null,
   "metadata": {},
   "outputs": [
    {
     "name": "stdout",
     "output_type": "stream",
     "text": [
      "Running Monte Carlo simulation number 0.\n",
      "Running Monte Carlo simulation number 10.\n",
      "Running Monte Carlo simulation number 20.\n",
      "Running Monte Carlo simulation number 30.\n",
      "Running Monte Carlo simulation number 40.\n",
      "Running Monte Carlo simulation number 50.\n",
      "Running Monte Carlo simulation number 60.\n",
      "Running Monte Carlo simulation number 70.\n",
      "Running Monte Carlo simulation number 80.\n",
      "Running Monte Carlo simulation number 90.\n",
      "Running Monte Carlo simulation number 100.\n",
      "Running Monte Carlo simulation number 110.\n",
      "Running Monte Carlo simulation number 120.\n",
      "Running Monte Carlo simulation number 130.\n",
      "Running Monte Carlo simulation number 140.\n",
      "Running Monte Carlo simulation number 150.\n",
      "Running Monte Carlo simulation number 160.\n",
      "Running Monte Carlo simulation number 170.\n",
      "Running Monte Carlo simulation number 180.\n",
      "Running Monte Carlo simulation number 190.\n",
      "Running Monte Carlo simulation number 200.\n",
      "Running Monte Carlo simulation number 210.\n",
      "Running Monte Carlo simulation number 220.\n",
      "Running Monte Carlo simulation number 230.\n",
      "Running Monte Carlo simulation number 240.\n",
      "Running Monte Carlo simulation number 250.\n",
      "Running Monte Carlo simulation number 260.\n",
      "Running Monte Carlo simulation number 270.\n",
      "Running Monte Carlo simulation number 280.\n",
      "Running Monte Carlo simulation number 290.\n",
      "Running Monte Carlo simulation number 300.\n",
      "Running Monte Carlo simulation number 310.\n",
      "Running Monte Carlo simulation number 320.\n",
      "Running Monte Carlo simulation number 330.\n",
      "Running Monte Carlo simulation number 340.\n",
      "Running Monte Carlo simulation number 350.\n",
      "Running Monte Carlo simulation number 360.\n",
      "Running Monte Carlo simulation number 370.\n",
      "Running Monte Carlo simulation number 380.\n",
      "Running Monte Carlo simulation number 390.\n",
      "Running Monte Carlo simulation number 400.\n",
      "Running Monte Carlo simulation number 410.\n",
      "Running Monte Carlo simulation number 420.\n",
      "Running Monte Carlo simulation number 430.\n",
      "Running Monte Carlo simulation number 440.\n",
      "Running Monte Carlo simulation number 450.\n",
      "Running Monte Carlo simulation number 460.\n"
     ]
    }
   ],
   "source": [
    "# Run the Monte Carlo simulation to forecast 10 years cumulative returns\n",
    "\n",
    "MC_two_eight_weight.calc_cumulative_return()"
   ]
  },
  {
   "cell_type": "code",
   "execution_count": null,
   "metadata": {},
   "outputs": [],
   "source": [
    "# Visualize the 10-year Monte Carlo simulation by creating an\n",
    "# overlay line plot\n",
    "\n",
    "two_eight_weight_line_plot= MC_two_eight_weight.plot_simulation()"
   ]
  },
  {
   "cell_type": "code",
   "execution_count": null,
   "metadata": {},
   "outputs": [],
   "source": [
    "# Visualize the probability distribution of the 10-year Monte Carlo simulation \n",
    "# by plotting a histogram\n",
    " \n",
    "two_eight_weight_distribution_plot = MC_two_eight_weight.plot_distribution()\n",
    "print('Monte Carlo 3:10 data to prediction')"
   ]
  },
  {
   "cell_type": "code",
   "execution_count": null,
   "metadata": {},
   "outputs": [],
   "source": [
    "# Generate summary statistics from the 10-year Monte Carlo simulation results\n",
    "# Save the results as a variable\n",
    "\n",
    "two_eight_weight = MC_two_eight_weight.summarize_cumulative_return()\n",
    "# Review the 10-year Monte Carlo summary statistics\n",
    "\n",
    "print('\\n')\n",
    "display(print(two_eight_weight))"
   ]
  },
  {
   "cell_type": "markdown",
   "metadata": {},
   "source": [
    "### Answer the following questions:"
   ]
  },
  {
   "cell_type": "markdown",
   "metadata": {},
   "source": [
    "#### Question: Using the current value of only the stock and bond portion of the member's portfolio and the summary statistics that you generated from the new Monte Carlo simulation, what are the lower and upper bounds for the expected value of the portfolio (with the new weights) with a 95% confidence interval?"
   ]
  },
  {
   "cell_type": "code",
   "execution_count": null,
   "metadata": {},
   "outputs": [],
   "source": [
    "# Print the current balance of the stock and bond portion of the members portfolio\n",
    "print(f'\\n The current value of the stock and bond portion of the portfolio is ${round(total_stocks_bonds, 2)} \\n')"
   ]
  },
  {
   "cell_type": "code",
   "execution_count": null,
   "metadata": {},
   "outputs": [],
   "source": [
    "# Print the current balance of the stock and bond portion of the members portfolio\n",
    "print(f'\\n The current value of the stock and bond portion of the portfolio is ${round(total_stocks_bonds, 2)} \\n')\n",
    "\n",
    "# Use the lower and upper `95%` confidence intervals to calculate the range of the possible outcomes for the current stock/bond portfolio\n",
    "ci_lower_ten_cumulative_return = round(two_eight_weight[8]*total_stocks_bonds,2)\n",
    "ci_upper_ten_cumulative_return = round(two_eight_weight[9]*total_stocks_bonds,2)\n",
    "\n",
    "# Print the result of your calculations\n",
    "print(f'\\n There is a 95% chance that an initial investment of ${round(total_stocks_bonds, 2)} in the portfolio'\n",
    "      f' with a 20-80 weight portfolio over the next 10 years will end within in the range of'\n",
    "      f' ${ci_lower_ten_cumulative_return} and ${ci_upper_ten_cumulative_return}. \\n')"
   ]
  },
  {
   "cell_type": "markdown",
   "metadata": {},
   "source": [
    "#### Question: Will weighting the portfolio more heavily to stocks allow the credit union members to retire after only 10 years?"
   ]
  },
  {
   "cell_type": "raw",
   "metadata": {},
   "source": [
    "**Answer** \n",
    "\n",
    "# I would not be able to answer that question with the limited information I have about the credit union members.  Specifically, retirement planning of that detail would require further specifics about current and anticipated future cost of living expenss.  Additionally, the members desired/projected lifestyle and what is the specific target savings amount they will need to retire.  Also, one needs information not only on expected living (i.e. monthly expenses) but the anticipated duration.\n",
    "\n",
    "# However, what I can say is that under the best conditions (i.e. presuming perfection), thirty years would generate a retirement savings $679299.63.  In contrast, ten years would generate $351470.12.  In summary retirement in ten years will result in a significantly less amount of savings which one would presume will be needed to last an additional twenty more years of retirement when compared to a thirty year plan.  With the limited information, I would not recommend early/ten year retirement."
   ]
  },
  {
   "cell_type": "markdown",
   "metadata": {},
   "source": [
    "# SUPPLEMENTAL ANALYSIS\n",
    "\n",
    "## As the Monte Carlo Simulation is designed around limits of 5 to 1, history to prediction parameters, author has proceded with additional analysis with more realistic parameters.  That is, using three years of data to predict ten or thirty years of returns would not be viewe as reasonable."
   ]
  },
  {
   "cell_type": "code",
   "execution_count": null,
   "metadata": {},
   "outputs": [],
   "source": [
    "# Analysis using 3 years data for a 1yr prediction\n",
    "# Configure the Monte Carlo simulation to forecast 1 years cumulative returns (3:1)\n",
    "# traditional 60/40 portfolio split: 60% stocks (SPY) and 40% bonds (AGG)\n",
    "# The weights should be split 40% to AGG and 60% to SPY.\n",
    "# Run 500 samples.\n",
    "prices_3yr_1yr_df = prices_3yr_df\n",
    "\n",
    "MC_four_six_3yr_1yr_weight = MCSimulation(\n",
    "    portfolio_data = prices_3yr_1yr_df,\n",
    "    weights = [.4, .6],\n",
    "    num_simulation = 500,\n",
    "    num_trading_days = 252*1\n",
    ")\n",
    "\n",
    "# Review the sMC_four_six_1yr_weightimulation input data\n",
    "MC_four_six_3yr_1yr_weight.portfolio_data.head()"
   ]
  },
  {
   "cell_type": "code",
   "execution_count": null,
   "metadata": {},
   "outputs": [],
   "source": [
    "# Run the Monte Carlo simulation to forecast 1 years cumulative returns\n",
    "\n",
    "MC_four_six_3yr_1yr_weight.calc_cumulative_return()"
   ]
  },
  {
   "cell_type": "code",
   "execution_count": null,
   "metadata": {},
   "outputs": [],
   "source": [
    "# Visualize the 1-year (3:1) Monte Carlo simulation by creating an\n",
    "# overlay line plot\n",
    "four_six_3yr_1yr_weight_line_plot= MC_four_six_3yr_1yr_weight.plot_simulation()"
   ]
  },
  {
   "cell_type": "code",
   "execution_count": null,
   "metadata": {},
   "outputs": [],
   "source": [
    "# Visualize the probability distribution of the 1-year (3:1) Monte Carlo simulation \n",
    "four_six_3yr_1yr_weight_distribution_plot = MC_four_six_3yr_1yr_weight.plot_distribution()\n",
    "print('Monte Carlo 3:1 data to prediction')"
   ]
  },
  {
   "cell_type": "code",
   "execution_count": null,
   "metadata": {},
   "outputs": [],
   "source": [
    "# Generate summary statistics from the 1-year Monte Carlo simulation results\n",
    "# Save the results as a variable\n",
    "four_six_3yr_1yr_weight = MC_four_six_3yr_1yr_weight.summarize_cumulative_return()\n",
    "\n",
    "# Review the 1-year (3:1) Monte Carlo summary statistics\n",
    "print('\\n')\n",
    "display(print(four_six_3yr_1yr_weight))"
   ]
  },
  {
   "cell_type": "code",
   "execution_count": null,
   "metadata": {},
   "outputs": [],
   "source": [
    "# Use the lower and upper `95%` confidence intervals to calculate the range of the possible outcomes for the current stock/bond portfolio\n",
    "ci_lower_one_cumulative_return = round(four_six_3yr_1yr_weight[8]*total_stocks_bonds,2)\n",
    "ci_upper_one_cumulative_return = round(four_six_3yr_1yr_weight[9]*total_stocks_bonds,2)\n",
    "\n",
    "# Print the result of your calculations\n",
    "print(f'\\n There is a 95% chance that an initial investment of ${round(total_stocks_bonds, 2)} in the portfolio'\n",
    "      f' with a 40-60 weight portfolio over the next 1 year using 3yrs of data will end within in the range of'\n",
    "      f' ${ci_lower_one_cumulative_return} and ${ci_upper_one_cumulative_return}. \\n')"
   ]
  },
  {
   "cell_type": "code",
   "execution_count": null,
   "metadata": {},
   "outputs": [],
   "source": [
    "# SCENARIO TWO - 5 years history\n",
    "# Set start and end dates of 5 years back from your current date\n",
    "end_5yrs = pd.to_datetime('today')\n",
    "start_5yrs = end_5yrs - np.timedelta64(5, 'Y')\n",
    "display(end_5yrs)\n",
    "display(start_5yrs)\n",
    "\n",
    "# Set the values for start_date and end_date using the pd.Timestamp function\n",
    "# Set the parameter tz to \"America/New_York\", \n",
    "# Set this all to the ISO format by calling the isoformat function \n",
    "start_5yrs = tstamp(start_5yrs, tz = 'America/New_York').isoformat()\n",
    "end_5yrs = tstamp(end_5yrs, tz = 'America/New_York').isoformat()\n",
    "display(end_5yrs)\n",
    "display(start_5yrs)\n",
    "print('\\n')\n",
    "\n",
    "# Use the Alpaca get_bars function to make the API call to get the 5 years worth of pricing data\n",
    "# set limit\n",
    "limit_rows = 10000\n",
    "\n",
    "api_call_5yrs_df = alpaca.get_bars(\n",
    "    tickers,\n",
    "    timeframe,\n",
    "    start = start_5yrs,\n",
    "    end = end_5yrs,\n",
    "    limit = limit_rows\n",
    ").df\n",
    "\n",
    "# Review the first 5 rows of the Alpaca DataFrame\n",
    "display(api_call_5yrs_df.head())\n",
    "print('\\n')\n",
    "display(api_call_5yrs_df.tail())\n",
    "\n",
    "# Reorganize the DataFrame\n",
    "# Separate ticker data\n",
    "AGG = api_call_5yrs_df[api_call_5yrs_df['symbol']=='AGG'].drop('symbol', axis=1)\n",
    "SPY = api_call_5yrs_df[api_call_5yrs_df['symbol']=='SPY'].drop('symbol', axis=1)\n",
    "\n",
    "# Concatenate the ticker DataFrames\n",
    "prices_5yr_df = ccat([AGG, SPY], axis=1, keys=['AGG','SPY'])\n",
    "\n",
    "# Display both the first and last five rows of the DataFrame\n",
    "display(prices_5yr_df.head())\n",
    "print('\\n')\n",
    "display(prices_5yr_df.tail())"
   ]
  },
  {
   "cell_type": "code",
   "execution_count": null,
   "metadata": {},
   "outputs": [],
   "source": [
    "# SCENARIO TWO - 5 years history\n",
    "# Resetting index of individual ticker dataframes (pre-concatenation) and assigning to variable\n",
    "agg_5yr_hx_solo=AGG.reset_index()\n",
    "spy_5yr_hx_solo=SPY.reset_index()\n",
    "# Limited sample review of new variablized dataframes\n",
    "display(agg_5yr_hx_solo.head(2))\n",
    "display(spy_5yr_hx_solo.head(2))\n",
    "\n",
    "# Visualize performance stocks and bonds over previous 3 years with x, y, c scatter plots\n",
    "agg_5yr_hx_solo.plot.scatter(\n",
    "    x='timestamp',\n",
    "    y='close',\n",
    "    c='volume',\n",
    "    title=f'Closing Prices for AGG',\n",
    "    cmap=\"inferno\",\n",
    "    )\n",
    "print('\\n')\n",
    "spy_5yr_hx_solo.plot.scatter(\n",
    "    x='timestamp',\n",
    "    y='close',\n",
    "    c='volume',\n",
    "    title=f'Closing Prices for SPY',\n",
    "    cmap='inferno',\n",
    "    )"
   ]
  },
  {
   "cell_type": "code",
   "execution_count": null,
   "metadata": {},
   "outputs": [],
   "source": [
    "# Isolating 'close' price from re-organized and subsequently concatenated dataframe\n",
    "adj_price_slice_df = prices_5yr_df.iloc[:,[3,10]]\n",
    "# Obtaining daily returns using .pct_change() and dropna() functions\n",
    "adj_price_returns_df = adj_price_slice_df.pct_change().dropna() \n",
    "# calculate correlation between returns\n",
    "adj_price_returns_correlate_df=adj_price_returns_df.corr()\n",
    "print('\\n')\n",
    "# Create a heatmap from the correlation of returns values\n",
    "htmap(adj_price_returns_correlate_df, annot=True, vmin=-1, vmax=1, fmt=\".2f\", cmap=\"Spectral\")\n",
    "print('5 yr data')"
   ]
  },
  {
   "cell_type": "code",
   "execution_count": null,
   "metadata": {},
   "outputs": [],
   "source": [
    "# Configure the Monte Carlo simulation to forecast 5 years cumulative returns with 5 yrs data history (i.e. 1:1)\n",
    "# The weights should be split 40% to AGG and 60% to SPY.\n",
    "# Run 500 samples.\n",
    "prices_5yr_5yr_df= prices_5yr_df\n",
    "\n",
    "MC_four_six_5yr_5yr_weight = MCSimulation(\n",
    "    portfolio_data = prices_5yr_5yr_df,\n",
    "    weights = [.4, .6],\n",
    "    num_simulation = 500,\n",
    "    num_trading_days = 252*5\n",
    ")\n",
    "\n",
    "# Review the simulation input data\n",
    "MC_four_six_5yr_5yr_weight.portfolio_data.head()\n",
    "\n",
    "# Run a Monte Carlo simulation to forecast five years cumulative returns\n",
    "\n",
    "MC_four_six_5yr_5yr_weight.calc_cumulative_return()"
   ]
  },
  {
   "cell_type": "code",
   "execution_count": null,
   "metadata": {},
   "outputs": [],
   "source": [
    "# Visualize the 5-year Monte Carlo simulation by creating an\n",
    "# overlay line plot\n",
    "four_six_5yr_5yr_weight_line_plot= MC_four_six_5yr_5yr_weight.plot_simulation()"
   ]
  },
  {
   "cell_type": "code",
   "execution_count": null,
   "metadata": {},
   "outputs": [],
   "source": [
    "# Visualize the probability distribution of the 30-year Monte Carlo simulation \n",
    "four_six_5yr_5yr_weight_distribution_plot = MC_four_six_5yr_5yr_weight.plot_distribution()\n",
    "print('Monte Carlo 1:1 data to prediction')"
   ]
  },
  {
   "cell_type": "code",
   "execution_count": null,
   "metadata": {},
   "outputs": [],
   "source": [
    "# Generate summary statistics from the 5-year Monte Carlo simulation results\n",
    "# Save the results as a variable\n",
    "four_six_5yr_5yr_weight = MC_four_six_5yr_5yr_weight.summarize_cumulative_return()\n",
    "\n",
    "# Review the 5-year Monte Carlo summary statistics\n",
    "print('\\n')\n",
    "display(print(four_six_5yr_5yr_weight))"
   ]
  },
  {
   "cell_type": "code",
   "execution_count": null,
   "metadata": {},
   "outputs": [],
   "source": [
    "# Print the current balance of the stock and bond portion of the members portfolio\n",
    "print(f'\\n The current value of the stock and bond portion of the portfolio is ${round(total_stocks_bonds, 2)} \\n')\n",
    "\n",
    "# Use the lower and upper `95%` confidence intervals to calculate the range of the possible outcomes for the current stock/bond portfolio\n",
    "# (index positions 8 & 9 from the even_weight_table)\n",
    "# calculate the range of the possible outcomes for a total_stocks_bonds investment\n",
    "\n",
    "ci_lower_five_cumulative_return = round(four_six_5yr_5yr_weight[8]*total_stocks_bonds,2)\n",
    "ci_upper_five_cumulative_return = round(four_six_5yr_5yr_weight[9]*total_stocks_bonds,2)\n",
    "\n",
    "# Print the result of your calculations\n",
    "print(f'\\n There is a 95% chance that an initial investment of ${round(total_stocks_bonds, 2)} in the portfolio'\n",
    "      f' with a 40-60 weight portfolio over the next 5 years will end within in the range of'\n",
    "      f' ${ci_lower_five_cumulative_return} and ${ci_upper_five_cumulative_return}. \\n')"
   ]
  },
  {
   "cell_type": "code",
   "execution_count": null,
   "metadata": {},
   "outputs": [],
   "source": [
    "# SUPPLEMENTAL\n",
    "# SCENARIO THREE - 7 years history\n",
    "# Set start and end dates of 7 years back from your current date\n",
    "end_7yrs = pd.to_datetime('today')\n",
    "start_7yrs = end_7yrs - np.timedelta64(7, 'Y')\n",
    "display(end_7yrs)\n",
    "display(start_7yrs)\n",
    "\n",
    "# Set the values for start_date and end_date using the pd.Timestamp function\n",
    "# Set the parameter tz to \"America/New_York\", \n",
    "# Set this all to the ISO format by calling the isoformat function \n",
    "start_7yrs = tstamp(start_7yrs, tz = 'America/New_York').isoformat()\n",
    "end_7yrs = tstamp(end_7yrs, tz = 'America/New_York').isoformat()\n",
    "display(end_7yrs)\n",
    "display(start_7yrs)\n",
    "print('\\n')\n",
    "\n",
    "# Use the Alpaca get_bars function to make the API call to get the 7 years worth of pricing data\n",
    "# set limit\n",
    "limit_rows = 10000\n",
    "\n",
    "api_call_7yrs_df = alpaca.get_bars(\n",
    "    tickers,\n",
    "    timeframe,\n",
    "    start = start_7yrs,\n",
    "    end = end_7yrs,\n",
    "    limit = limit_rows\n",
    ").df\n",
    "\n",
    "# Review the first 5 rows of the Alpaca DataFrame\n",
    "display(api_call_7yrs_df.head())\n",
    "print('\\n')\n",
    "display(api_call_7yrs_df.tail())\n",
    "\n",
    "# Reorganize the DataFrame\n",
    "# Separate ticker data\n",
    "AGG = api_call_7yrs_df[api_call_7yrs_df['symbol']=='AGG'].drop('symbol', axis=1)\n",
    "SPY = api_call_7yrs_df[api_call_7yrs_df['symbol']=='SPY'].drop('symbol', axis=1)\n",
    "\n",
    "# Concatenate the ticker DataFrames\n",
    "prices_7yr_df = ccat([AGG, SPY], axis=1, keys=['AGG','SPY'])\n",
    "\n",
    "# Display both the first and last five rows of the DataFrame\n",
    "display(prices_7yr_df.head())\n",
    "print('\\n')\n",
    "display(prices_7yr_df.tail())"
   ]
  },
  {
   "cell_type": "code",
   "execution_count": null,
   "metadata": {},
   "outputs": [],
   "source": [
    "# SCENARIO THREE - 7 years history\n",
    "# Resetting index of individual ticker dataframes (pre-concatenation) and assigning to variable\n",
    "agg_7yr_hx_solo=AGG.reset_index()\n",
    "spy_7yr_hx_solo=SPY.reset_index()\n",
    "# Limited sample review of new variablized dataframes\n",
    "display(agg_7yr_hx_solo.head(2))\n",
    "display(spy_7yr_hx_solo.head(2))\n",
    "\n",
    "# Visualize performance stocks and bonds over previous 3 years with x, y, c scatter plots\n",
    "agg_7yr_hx_solo.plot.scatter(\n",
    "    x='timestamp',\n",
    "    y='close',\n",
    "    c='volume',\n",
    "    title=f'Closing Prices for AGG',\n",
    "    cmap=\"inferno\",\n",
    "    )\n",
    "print('\\n')\n",
    "spy_7yr_hx_solo.plot.scatter(\n",
    "    x='timestamp',\n",
    "    y='close',\n",
    "    c='volume',\n",
    "    title=f'Closing Prices for SPY',\n",
    "    cmap='inferno',\n",
    "    )"
   ]
  },
  {
   "cell_type": "code",
   "execution_count": null,
   "metadata": {},
   "outputs": [],
   "source": [
    "# Isolating 'close' price from re-organized and subsequently concatenated dataframe\n",
    "adj_price_slice_df = prices_7yr_df.iloc[:,[3,10]]\n",
    "# Obtaining daily returns using .pct_change() and dropna() functions\n",
    "adj_price_returns_df = adj_price_slice_df.pct_change().dropna() \n",
    "# calculate correlation between returns\n",
    "adj_price_returns_correlate_df=adj_price_returns_df.corr()\n",
    "print('\\n')\n",
    "# Create a heatmap from the correlation of returns values\n",
    "htmap(adj_price_returns_correlate_df, annot=True, vmin=-1, vmax=1, fmt=\".2f\", cmap=\"Spectral\")\n",
    "print('7 yr data')"
   ]
  },
  {
   "cell_type": "code",
   "execution_count": null,
   "metadata": {},
   "outputs": [],
   "source": [
    "# Configure the Monte Carlo simulation to forecast 1 years cumulative returns with 7 years data history (i.e. 7:1)\n",
    "# The weights should be split 40% to AGG and 60% to SPY.\n",
    "# Run 500 samples.\n",
    "prices_7yr_1yr_df  = prices_7yr_df \n",
    "\n",
    "MC_four_six_7yr_1yr_weight = MCSimulation(\n",
    "    portfolio_data = prices_7yr_1yr_df,\n",
    "    weights = [.4, .6],\n",
    "    num_simulation = 500,\n",
    "    num_trading_days = 252*1\n",
    ")\n",
    "\n",
    "# Review the simulation input data\n",
    "MC_four_six_7yr_1yr_weight.portfolio_data.head()\n",
    "\n",
    "# Run a Monte Carlo simulation to forecast five years cumulative returns\n",
    "\n",
    "MC_four_six_7yr_1yr_weight.calc_cumulative_return()"
   ]
  },
  {
   "cell_type": "code",
   "execution_count": null,
   "metadata": {},
   "outputs": [],
   "source": [
    "# Visualize the 1-year Monte Carlo simulation by creating an\n",
    "# overlay line plot\n",
    "\n",
    "four_six_7yr_1yr_weight_line_plot= MC_four_six_7yr_1yr_weight.plot_simulation()"
   ]
  },
  {
   "cell_type": "code",
   "execution_count": null,
   "metadata": {},
   "outputs": [],
   "source": [
    "# Visualize the probability distribution of the 30-year Monte Carlo simulation \n",
    "\n",
    "four_six_7yr_1yr_weight_distribution_plot = MC_four_six_7yr_1yr_weight.plot_distribution()\n",
    "print('Monte Carlo 7:1 data to prediction')"
   ]
  },
  {
   "cell_type": "code",
   "execution_count": null,
   "metadata": {},
   "outputs": [],
   "source": [
    "# Generate summary statistics from the 1-year Monte Carlo simulation results\n",
    "# Save the results as a variable\n",
    "four_six_7yr_1yr_weight = MC_four_six_7yr_1yr_weight.summarize_cumulative_return()\n",
    "\n",
    "# Review the 1-year Monte Carlo summary statistics\n",
    "print('\\n')\n",
    "display(print(four_six_7yr_1yr_weight))"
   ]
  },
  {
   "cell_type": "code",
   "execution_count": null,
   "metadata": {},
   "outputs": [],
   "source": []
  }
 ],
 "metadata": {
  "kernelspec": {
   "display_name": "Python 3 (ipykernel)",
   "language": "python",
   "name": "python3"
  },
  "language_info": {
   "codemirror_mode": {
    "name": "ipython",
    "version": 3
   },
   "file_extension": ".py",
   "mimetype": "text/x-python",
   "name": "python",
   "nbconvert_exporter": "python",
   "pygments_lexer": "ipython3",
   "version": "3.7.13"
  }
 },
 "nbformat": 4,
 "nbformat_minor": 4
}
