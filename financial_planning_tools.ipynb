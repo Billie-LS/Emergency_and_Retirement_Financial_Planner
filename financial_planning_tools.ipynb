{
 "cells": [
  {
   "cell_type": "markdown",
   "metadata": {},
   "source": [
    "# Financial Planning with APIs and Simulations\n",
    "\n",
    "In this Challenge, you’ll create two financial analysis tools by using a single Jupyter notebook:\n",
    "\n",
    "Part 1: A financial planner for emergencies. The members will be able to use this tool to visualize their current savings. The members can then determine if they have enough reserves for an emergency fund.\n",
    "\n",
    "Part 2: A financial planner for retirement. This tool will forecast the performance of their retirement portfolio in 30 years. To do this, the tool will make an Alpaca API call via the Alpaca SDK to get historical price data for use in Monte Carlo simulations.\n",
    "\n",
    "You’ll use the information from the Monte Carlo simulation to answer questions about the portfolio in your Jupyter notebook.\n",
    "\n"
   ]
  },
  {
   "cell_type": "code",
   "execution_count": 1,
   "metadata": {},
   "outputs": [],
   "source": [
    "# Import the required libraries and dependencies\n",
    "import os\n",
    "from os import getenv as gtenv\n",
    "\n",
    "# Import the Requests HTTP library\n",
    "import requests\n",
    "from requests import get as rget\n",
    "\n",
    "# Import the JSON module\n",
    "import json\n",
    "from json import dumps as jds\n",
    "\n",
    "# Import the Pandas library\n",
    "import pandas as pd\n",
    "from pandas import Timestamp as tstamp\n",
    "from pandas import concat as ccat\n",
    "from pandas import DataFrame as wdf\n",
    "\n",
    "# Import the NumPy library\n",
    "import numpy as np\n",
    "\n",
    "from dotenv import load_dotenv as ldotenv\n",
    "\n",
    "# Import the python alpaca_trade_api library\n",
    "import alpaca_trade_api as tradeapi\n",
    "from MCForecastTools import MCSimulation\n",
    "\n",
    "# from datetime module\n",
    "# Import date and timedelta class\n",
    "from datetime import date\n",
    "from datetime import timedelta\n",
    "\n",
    "# Import the matplotlib depencies\n",
    "import matplotlib.pyplot as plt\n",
    "%matplotlib inline\n",
    "\n",
    "from seaborn import heatmap as htmap\n",
    "\n",
    "import warnings\n",
    "warnings.filterwarnings('ignore')"
   ]
  },
  {
   "cell_type": "code",
   "execution_count": 2,
   "metadata": {},
   "outputs": [
    {
     "data": {
      "text/plain": [
       "True"
      ]
     },
     "execution_count": 2,
     "metadata": {},
     "output_type": "execute_result"
    }
   ],
   "source": [
    "# Load the environment variables from the .env file\n",
    "#by calling the load_dotenv function\n",
    "ldotenv('api.env')"
   ]
  },
  {
   "cell_type": "markdown",
   "metadata": {},
   "source": [
    "## Part 1: Create a Financial Planner for Emergencies"
   ]
  },
  {
   "cell_type": "markdown",
   "metadata": {},
   "source": [
    "### Evaluate the Cryptocurrency Wallet by Using the Requests Library\n",
    "\n",
    "In this section, you’ll determine the current value of a member’s cryptocurrency wallet. You’ll collect the current prices for the Bitcoin and Ethereum cryptocurrencies by using the Python Requests library. For the prototype, you’ll assume that the member holds the 1.2 Bitcoins (BTC) and 5.3 Ethereum coins (ETH). To do all this, complete the following steps:\n",
    "\n",
    "1. Create a variable named `monthly_income`, and set its value to `12000`.\n",
    "\n",
    "2. Use the Requests library to get the current price (in US dollars) of Bitcoin (BTC) and Ethereum (ETH) by using the API endpoints that the starter code supplies.\n",
    "\n",
    "3. Navigate the JSON response object to access the current price of each coin, and store each in a variable.\n",
    "\n",
    "    > **Hint** Note the specific identifier for each cryptocurrency in the API JSON response. The Bitcoin identifier is `1`, and the Ethereum identifier is `1027`.\n",
    "\n",
    "4. Calculate the value, in US dollars, of the current amount of each cryptocurrency and of the entire cryptocurrency wallet.\n",
    "\n"
   ]
  },
  {
   "cell_type": "code",
   "execution_count": 3,
   "metadata": {},
   "outputs": [],
   "source": [
    "# The current number of coins for each cryptocurrency asset held in the portfolio.\n",
    "btc_coins = 1.2\n",
    "eth_coins = 5.3"
   ]
  },
  {
   "cell_type": "markdown",
   "metadata": {},
   "source": [
    "#### Step 1: Create a variable named `monthly_income`, and set its value to `12000`."
   ]
  },
  {
   "cell_type": "code",
   "execution_count": 4,
   "metadata": {},
   "outputs": [],
   "source": [
    "# The monthly amount for the member's household income\n",
    "monthly_income = 12000"
   ]
  },
  {
   "cell_type": "markdown",
   "metadata": {},
   "source": [
    "#### Review the endpoint URLs for the API calls to Free Crypto API in order to get the current pricing information for both BTC and ETH."
   ]
  },
  {
   "cell_type": "code",
   "execution_count": 5,
   "metadata": {},
   "outputs": [],
   "source": [
    "# The Free Crypto API Call endpoint URLs for the held cryptocurrency assets\n",
    "btc_url = 'https://api.alternative.me/v2/ticker/Bitcoin/?convert=USD'\n",
    "eth_url = 'https://api.alternative.me/v2/ticker/Ethereum/?convert=USD'"
   ]
  },
  {
   "cell_type": "markdown",
   "metadata": {},
   "source": [
    "### SUPPLEMENTAL, Exception Handling - check validity of members' cryptocurrency\n",
    "Given list of cryptocurrencies in portfolio, make a request for each coin and if it was a valid coin, append the `json` data to a list of valid coins. If it was not a valid coin then append the name of the coin to another list of invalid coins."
   ]
  },
  {
   "cell_type": "code",
   "execution_count": 6,
   "metadata": {},
   "outputs": [
    {
     "name": "stdout",
     "output_type": "stream",
     "text": [
      "Processed the following coin for validity check: Bitcoin\n",
      "Processed the following coin for validity check: Ethereum\n",
      "Processed the following coin for validity check: Zambookie\n",
      "\n",
      "\n",
      "This coin is confirmed valid : BTC\n",
      "This coin is confirmed valid : ETH\n",
      "\n",
      "\n",
      "Confirmed invalid : ['Zambookie']\n"
     ]
    }
   ],
   "source": [
    "# variable for exception handling \n",
    "url = 'https://api.alternative.me/v2/ticker/'       \n",
    "\n",
    "# Use `coin_list` for a List of Currency Names\n",
    "coin_list = [\n",
    "    'Bitcoin',    \n",
    "    'Ethereum',\n",
    "    'Zambookie'           # negative test                 \n",
    "]\n",
    "\n",
    "# Populate these lists.\n",
    "# Put the json data in valid_coins\n",
    "# Put any identified invalid coin names in invalid_coins\n",
    "valid_coins = []\n",
    "invalid_coins = []\n",
    "\n",
    "# Loop over each coin in the coin list\n",
    "for coin in coin_list:\n",
    "    try:\n",
    "        # Using url and the coin name, make a get request to the api using request.get\n",
    "        coin_url = url + f'{coin}/'\n",
    "        response = rget(coin_url)\n",
    "\n",
    "        # Check if the response is valid \n",
    "        # Check Status Codes\n",
    "        if response.status_code == 200:\n",
    "\n",
    "            response = response.json()\n",
    "\n",
    "            # The error was handled by the server and the error is in the response metadata\n",
    "            if response['metadata']['error'] == None:\n",
    "                # Append valid coins' json data to the valid_coins list\n",
    "                valid_coins.append(response['data'])\n",
    "            else:\n",
    "                # Append invalid coin names to the invalid_coins list.\n",
    "                invalid_coins.append(coin)\n",
    "        else:\n",
    "            print(f'Unable to find the following coin: {coin}')\n",
    "            invalid_coins.append(coin)\n",
    "\n",
    "    except Exception as error:\n",
    "        # If an exception occurs in the try portion, the code in this branch will be executed.\n",
    "        print(f'Unable to connect to the server at url: {coin_url}.\\nError:\\n{error}')\n",
    "        invalid_coins.append(coin)\n",
    "    finally:\n",
    "        # Everything in finally will be executed regardless of try/except\n",
    "        print(f'Processed the following coin for validity check: {coin}')\n",
    "        \n",
    "\n",
    "# To print the Results (excluded for DRY))      print(jds(valid_coins, indent=4, sort_keys=True))\n",
    "\n",
    "# Confirm valid\n",
    "print('\\n')\n",
    "for coins in valid_coins:\n",
    "    for coin in coins:\n",
    "        print (f'This coin is confirmed valid : {coins[coin][\"symbol\"]}')\n",
    "        \n",
    "# Identified invalid         \n",
    "print('\\n')\n",
    "print(f'Confirmed invalid : {invalid_coins}')"
   ]
  },
  {
   "cell_type": "markdown",
   "metadata": {},
   "source": [
    "#### Step 2. Use the Requests library to get the current price (in US dollars) of Bitcoin (BTC) and Ethereum (ETH) by using the API endpoints that the starter code supplied."
   ]
  },
  {
   "cell_type": "code",
   "execution_count": 7,
   "metadata": {},
   "outputs": [
    {
     "name": "stdout",
     "output_type": "stream",
     "text": [
      "{\n",
      "    \"data\": {\n",
      "        \"1\": {\n",
      "            \"circulating_supply\": 19165031,\n",
      "            \"id\": 1,\n",
      "            \"last_updated\": 1664563707,\n",
      "            \"max_supply\": 21000000,\n",
      "            \"name\": \"Bitcoin\",\n",
      "            \"quotes\": {\n",
      "                \"USD\": {\n",
      "                    \"market_cap\": 378541577265,\n",
      "                    \"percent_change_1h\": -0.331930198897298,\n",
      "                    \"percent_change_24h\": 2.01130824041439,\n",
      "                    \"percent_change_7d\": 1.18037565432241,\n",
      "                    \"percentage_change_1h\": -0.331930198897298,\n",
      "                    \"percentage_change_24h\": 2.01130824041439,\n",
      "                    \"percentage_change_7d\": 1.18037565432241,\n",
      "                    \"price\": 19694.07,\n",
      "                    \"volume_24h\": 36967395488\n",
      "                }\n",
      "            },\n",
      "            \"rank\": 1,\n",
      "            \"symbol\": \"BTC\",\n",
      "            \"total_supply\": 19165031,\n",
      "            \"website_slug\": \"bitcoin\"\n",
      "        }\n",
      "    },\n",
      "    \"metadata\": {\n",
      "        \"error\": null,\n",
      "        \"num_cryptocurrencies\": 3116,\n",
      "        \"timestamp\": 1664563707\n",
      "    }\n",
      "}\n"
     ]
    }
   ],
   "source": [
    "# Using the Python requests library, make an API call to access the current price of BTC\n",
    "btc_response = rget(btc_url).json()\n",
    "\n",
    "# Use the json.dumps function to review the response data from the API call\n",
    "# Use the indent and sort_keys parameters to make the response object readable\n",
    "print(jds(btc_response, indent=4, sort_keys=True))"
   ]
  },
  {
   "cell_type": "code",
   "execution_count": 8,
   "metadata": {},
   "outputs": [
    {
     "name": "stdout",
     "output_type": "stream",
     "text": [
      "{\n",
      "    \"data\": {\n",
      "        \"1027\": {\n",
      "            \"circulating_supply\": 120750177,\n",
      "            \"id\": 1027,\n",
      "            \"last_updated\": 1664563732,\n",
      "            \"max_supply\": 120750177,\n",
      "            \"name\": \"Ethereum\",\n",
      "            \"quotes\": {\n",
      "                \"USD\": {\n",
      "                    \"market_cap\": 163249837972,\n",
      "                    \"percent_change_1h\": -0.26674083903844,\n",
      "                    \"percent_change_24h\": 0.971078112819222,\n",
      "                    \"percent_change_7d\": 1.25123799610955,\n",
      "                    \"percentage_change_1h\": -0.26674083903844,\n",
      "                    \"percentage_change_24h\": 0.971078112819222,\n",
      "                    \"percentage_change_7d\": 1.25123799610955,\n",
      "                    \"price\": 1347.44,\n",
      "                    \"volume_24h\": 11585039438\n",
      "                }\n",
      "            },\n",
      "            \"rank\": 2,\n",
      "            \"symbol\": \"ETH\",\n",
      "            \"total_supply\": 120750177,\n",
      "            \"website_slug\": \"ethereum\"\n",
      "        }\n",
      "    },\n",
      "    \"metadata\": {\n",
      "        \"error\": null,\n",
      "        \"num_cryptocurrencies\": 3116,\n",
      "        \"timestamp\": 1664563732\n",
      "    }\n",
      "}\n"
     ]
    }
   ],
   "source": [
    "# Using the Python requests library, make an API call to access the current price ETH\n",
    "eth_response = rget(eth_url).json()\n",
    "\n",
    "# Use the json.dumps function to review the response data from the API call\n",
    "# Use the indent and sort_keys parameters to make the response object readable\n",
    "print(jds(eth_response, indent=4, sort_keys=True))"
   ]
  },
  {
   "cell_type": "markdown",
   "metadata": {},
   "source": [
    "#### Step 3: Navigate the JSON response object to access the current price of each coin, and store each in a variable."
   ]
  },
  {
   "cell_type": "code",
   "execution_count": 9,
   "metadata": {},
   "outputs": [
    {
     "name": "stdout",
     "output_type": "stream",
     "text": [
      "The price for Bitcoin is $19694.07\n"
     ]
    }
   ],
   "source": [
    "# Navigate the BTC response object to access the current price of BTC\n",
    "btc_price = btc_response['data']['1']['quotes']['USD']['price']\n",
    "\n",
    "# Print the current price of BTC\n",
    "print(f'The price for Bitcoin is ${btc_price}')"
   ]
  },
  {
   "cell_type": "code",
   "execution_count": 10,
   "metadata": {},
   "outputs": [
    {
     "name": "stdout",
     "output_type": "stream",
     "text": [
      "The price for Bitcoin is $1347.44\n"
     ]
    }
   ],
   "source": [
    "# Navigate the ETH response object to access the current price of ETH\n",
    "eth_price = eth_response['data']['1027']['quotes']['USD']['price']\n",
    "\n",
    "# Print the current price of ETH\n",
    "print(f'The price for Bitcoin is ${eth_price}')"
   ]
  },
  {
   "cell_type": "markdown",
   "metadata": {},
   "source": [
    "### Step 4: Calculate the value, in US dollars, of the current amount of each cryptocurrency and of the entire cryptocurrency wallet."
   ]
  },
  {
   "cell_type": "code",
   "execution_count": 11,
   "metadata": {},
   "outputs": [
    {
     "name": "stdout",
     "output_type": "stream",
     "text": [
      "The current value for Bitcoin (BTC) holdings is $23632.88\n"
     ]
    }
   ],
   "source": [
    "# Compute the current value of the BTC holding \n",
    "btc_value = btc_coins * btc_price\n",
    "\n",
    "# Print current value of your holding in BTC\n",
    "print(f'The current value for Bitcoin (BTC) holdings is ${round(btc_value, 2)}')"
   ]
  },
  {
   "cell_type": "code",
   "execution_count": 12,
   "metadata": {},
   "outputs": [
    {
     "name": "stdout",
     "output_type": "stream",
     "text": [
      "The current value for Etherium (ETH) holdings is $7141.43\n"
     ]
    }
   ],
   "source": [
    "# Compute the current value of the ETH holding \n",
    "eth_value = eth_coins * eth_price\n",
    "\n",
    "# Print current value of your holding in ETH\n",
    "print(f'The current value for Etherium (ETH) holdings is ${round(eth_value, 2)}')"
   ]
  },
  {
   "cell_type": "code",
   "execution_count": 13,
   "metadata": {},
   "outputs": [
    {
     "name": "stdout",
     "output_type": "stream",
     "text": [
      "The current cryptocurrency wallet balance is $30774.32\n"
     ]
    }
   ],
   "source": [
    "# Compute the total value of the cryptocurrency wallet\n",
    "# Add the value of the BTC holding to the value of the ETH holding\n",
    "total_crypto_wallet = btc_value + eth_value\n",
    "\n",
    "# Print current cryptocurrency wallet balance\n",
    "print(f'The current cryptocurrency wallet balance is ${round(total_crypto_wallet, 2)}')"
   ]
  },
  {
   "cell_type": "markdown",
   "metadata": {},
   "source": [
    "### Evaluate the Stock and Bond Holdings by Using the Alpaca SDK\n",
    "\n",
    "In this section, you’ll determine the current value of a member’s stock and bond holdings. You’ll make an API call to Alpaca via the Alpaca SDK to get the current closing prices of the SPDR S&P 500 ETF Trust (ticker: SPY) and of the iShares Core US Aggregate Bond ETF (ticker: AGG). For the prototype, assume that the member holds 110 shares of SPY, which represents the stock portion of their portfolio, and 200 shares of AGG, which represents the bond portion. To do all this, complete the following steps:\n",
    "\n",
    "1. In the `Starter_Code` folder, create an environment file (`.env`) to store the values of your Alpaca API key and Alpaca secret key.\n",
    "\n",
    "2. Set the variables for the Alpaca API and secret keys. Using the Alpaca SDK, create the Alpaca `tradeapi.REST` object. In this object, include the parameters for the Alpaca API key, the secret key, and the version number.\n",
    "\n",
    "3. Set the following parameters for the Alpaca API call:\n",
    "\n",
    "    - `tickers`: Use the tickers for the member’s stock and bond holdings.\n",
    "\n",
    "    - `timeframe`: Use a time frame of one day.\n",
    "\n",
    "    - `start_date` and `end_date`: Use the same date for these parameters, and format them with the date of the previous weekday (or `2020-08-07`). This is because you want the one closing price for the most-recent trading day.\n",
    "\n",
    "4. Get the current closing prices for `SPY` and `AGG` by using the Alpaca `get_bars` function. Format the response as a Pandas DataFrame by including the `df` property at the end of the `get_bars` function.\n",
    "\n",
    "5. Navigating the Alpaca response DataFrame, select the `SPY` and `AGG` closing prices, and store them as variables.\n",
    "\n",
    "6. Calculate the value, in US dollars, of the current amount of shares in each of the stock and bond portions of the portfolio, and print the results.\n"
   ]
  },
  {
   "cell_type": "markdown",
   "metadata": {},
   "source": [
    "#### Review the total number of shares held in both (SPY) and (AGG)."
   ]
  },
  {
   "cell_type": "code",
   "execution_count": 14,
   "metadata": {},
   "outputs": [],
   "source": [
    "# Current amount of shares held in both the stock (SPY) and bond (AGG) portion of the portfolio.\n",
    "spy_shares = 110\n",
    "agg_shares = 200"
   ]
  },
  {
   "cell_type": "markdown",
   "metadata": {},
   "source": [
    "#### Step 1: In the `Starter_Code` folder, create an environment file (`.env`) to store the values of your Alpaca API key and Alpaca secret key."
   ]
  },
  {
   "cell_type": "markdown",
   "metadata": {},
   "source": [
    "#### Step 2: Set the variables for the Alpaca API and secret keys. Using the Alpaca SDK, create the Alpaca `tradeapi.REST` object. In this object, include the parameters for the Alpaca API key, the secret key, and the version number."
   ]
  },
  {
   "cell_type": "code",
   "execution_count": 15,
   "metadata": {},
   "outputs": [
    {
     "name": "stdout",
     "output_type": "stream",
     "text": [
      "\n",
      "\n"
     ]
    },
    {
     "data": {
      "text/plain": [
       "str"
      ]
     },
     "metadata": {},
     "output_type": "display_data"
    },
    {
     "name": "stdout",
     "output_type": "stream",
     "text": [
      "Alpaca Key type: <class 'str'> \n",
      "\n"
     ]
    },
    {
     "data": {
      "text/plain": [
       "str"
      ]
     },
     "metadata": {},
     "output_type": "display_data"
    },
    {
     "name": "stdout",
     "output_type": "stream",
     "text": [
      "Alpaca Secret Key type: <class 'str'> \n",
      "\n"
     ]
    }
   ],
   "source": [
    "# Set the variables for the Alpaca API and secret keys\n",
    "alpaca_api_key = gtenv('ALPACA_API_KEY') \n",
    "alpaca_secret_key = gtenv('ALPACA_SECRET_KEY')\n",
    "\n",
    "# Verify that Alpaca key and secret were correctly loaded\n",
    "print('\\n')\n",
    "display(type(alpaca_api_key))\n",
    "print(f'Alpaca Key type: {type(alpaca_api_key)} \\n')\n",
    "display(type(alpaca_secret_key))\n",
    "print(f'Alpaca Secret Key type: {type(alpaca_secret_key)} \\n')"
   ]
  },
  {
   "cell_type": "code",
   "execution_count": 16,
   "metadata": {},
   "outputs": [],
   "source": [
    "# Create the Alpaca tradeapi.REST object\n",
    "alpaca = tradeapi.REST(\n",
    "    alpaca_api_key,\n",
    "    alpaca_secret_key,\n",
    "    api_version='v2')"
   ]
  },
  {
   "cell_type": "markdown",
   "metadata": {},
   "source": [
    "#### Step 3: Set the following parameters for the Alpaca API call:\n",
    "\n",
    "- `tickers`: Use the tickers for the member’s stock and bond holdings.\n",
    "\n",
    "- `timeframe`: Use a time frame of one day.\n",
    "\n",
    "- `start_date` and `end_date`: Use the same date for these parameters, and format them with the date of the previous weekday (or `2020-08-07`). This is because you want the one closing price for the most-recent trading day.\n"
   ]
  },
  {
   "cell_type": "code",
   "execution_count": 17,
   "metadata": {},
   "outputs": [
    {
     "name": "stdout",
     "output_type": "stream",
     "text": [
      "Today is: 2022-09-30\n",
      "Yesterday was: 2022-09-29\n"
     ]
    }
   ],
   "source": [
    "# Set the tickers for both the bond and stock portion of the portfolio\n",
    "# iShares Core US Aggregate Bond ETF (ticker: AGG)\n",
    "# SPDR S&P 500 ETF Trust (ticker: SPY) \n",
    "tickers = ['AGG', 'SPY']\n",
    "\n",
    "# Set timeframe to 1Day\n",
    "timeframe = '1D'\n",
    "\n",
    "# Set both the start and end date at the date of your prior weekday \n",
    "# This will give you the closing price of the previous trading day\n",
    "\n",
    "# extrapolate yesterday from today\n",
    "today = date.today()\n",
    "yesterday = today - timedelta(days = 1)   # change as needed for wkends\n",
    "\n",
    "# Format current date as ISO format\n",
    "start_date = tstamp(yesterday, tz = 'America/New_York').isoformat()\n",
    "end_date = tstamp(yesterday, tz = 'America/New_York').isoformat()\n",
    "\n",
    "print(f'Today is: {today}')\n",
    "print(f'Yesterday was: {yesterday}')"
   ]
  },
  {
   "cell_type": "markdown",
   "metadata": {},
   "source": [
    "#### Step 4: Get the current closing prices for `SPY` and `AGG` by using the Alpaca `get_bars` function. Format the response as a Pandas DataFrame by including the `df` property at the end of the `get_bars` function."
   ]
  },
  {
   "cell_type": "code",
   "execution_count": 18,
   "metadata": {},
   "outputs": [
    {
     "data": {
      "text/html": [
       "<div>\n",
       "<style scoped>\n",
       "    .dataframe tbody tr th:only-of-type {\n",
       "        vertical-align: middle;\n",
       "    }\n",
       "\n",
       "    .dataframe tbody tr th {\n",
       "        vertical-align: top;\n",
       "    }\n",
       "\n",
       "    .dataframe thead th {\n",
       "        text-align: right;\n",
       "    }\n",
       "</style>\n",
       "<table border=\"1\" class=\"dataframe\">\n",
       "  <thead>\n",
       "    <tr style=\"text-align: right;\">\n",
       "      <th></th>\n",
       "      <th>open</th>\n",
       "      <th>high</th>\n",
       "      <th>low</th>\n",
       "      <th>close</th>\n",
       "      <th>volume</th>\n",
       "      <th>trade_count</th>\n",
       "      <th>vwap</th>\n",
       "      <th>symbol</th>\n",
       "    </tr>\n",
       "    <tr>\n",
       "      <th>timestamp</th>\n",
       "      <th></th>\n",
       "      <th></th>\n",
       "      <th></th>\n",
       "      <th></th>\n",
       "      <th></th>\n",
       "      <th></th>\n",
       "      <th></th>\n",
       "      <th></th>\n",
       "    </tr>\n",
       "  </thead>\n",
       "  <tbody>\n",
       "    <tr>\n",
       "      <th>2022-09-29 04:00:00+00:00</th>\n",
       "      <td>96.48</td>\n",
       "      <td>96.7999</td>\n",
       "      <td>96.29</td>\n",
       "      <td>96.57</td>\n",
       "      <td>8133673</td>\n",
       "      <td>33252</td>\n",
       "      <td>96.544743</td>\n",
       "      <td>AGG</td>\n",
       "    </tr>\n",
       "    <tr>\n",
       "      <th>2022-09-29 04:00:00+00:00</th>\n",
       "      <td>366.72</td>\n",
       "      <td>367.1100</td>\n",
       "      <td>359.70</td>\n",
       "      <td>362.79</td>\n",
       "      <td>112068880</td>\n",
       "      <td>789244</td>\n",
       "      <td>362.805405</td>\n",
       "      <td>SPY</td>\n",
       "    </tr>\n",
       "  </tbody>\n",
       "</table>\n",
       "</div>"
      ],
      "text/plain": [
       "                             open      high     low   close     volume  \\\n",
       "timestamp                                                                \n",
       "2022-09-29 04:00:00+00:00   96.48   96.7999   96.29   96.57    8133673   \n",
       "2022-09-29 04:00:00+00:00  366.72  367.1100  359.70  362.79  112068880   \n",
       "\n",
       "                           trade_count        vwap symbol  \n",
       "timestamp                                                  \n",
       "2022-09-29 04:00:00+00:00        33252   96.544743    AGG  \n",
       "2022-09-29 04:00:00+00:00       789244  362.805405    SPY  "
      ]
     },
     "metadata": {},
     "output_type": "display_data"
    },
    {
     "data": {
      "text/html": [
       "<div>\n",
       "<style scoped>\n",
       "    .dataframe tbody tr th:only-of-type {\n",
       "        vertical-align: middle;\n",
       "    }\n",
       "\n",
       "    .dataframe tbody tr th {\n",
       "        vertical-align: top;\n",
       "    }\n",
       "\n",
       "    .dataframe thead th {\n",
       "        text-align: right;\n",
       "    }\n",
       "</style>\n",
       "<table border=\"1\" class=\"dataframe\">\n",
       "  <thead>\n",
       "    <tr style=\"text-align: right;\">\n",
       "      <th></th>\n",
       "      <th>close</th>\n",
       "    </tr>\n",
       "    <tr>\n",
       "      <th>timestamp</th>\n",
       "      <th></th>\n",
       "    </tr>\n",
       "  </thead>\n",
       "  <tbody>\n",
       "    <tr>\n",
       "      <th>2022-09-29 04:00:00+00:00</th>\n",
       "      <td>96.57</td>\n",
       "    </tr>\n",
       "    <tr>\n",
       "      <th>2022-09-29 04:00:00+00:00</th>\n",
       "      <td>362.79</td>\n",
       "    </tr>\n",
       "  </tbody>\n",
       "</table>\n",
       "</div>"
      ],
      "text/plain": [
       "                            close\n",
       "timestamp                        \n",
       "2022-09-29 04:00:00+00:00   96.57\n",
       "2022-09-29 04:00:00+00:00  362.79"
      ]
     },
     "metadata": {},
     "output_type": "display_data"
    }
   ],
   "source": [
    "# Use the Alpaca get_bars function to get current closing prices the portfolio\n",
    "# Be sure to set the `df` property after the function to format the response object as a DataFrame\n",
    "df_portfolio = alpaca.get_bars(\n",
    "    tickers,\n",
    "    timeframe,\n",
    "    start = start_date,\n",
    "    end = end_date\n",
    ").df\n",
    "\n",
    "display(df_portfolio)\n",
    "\n",
    "# Access the closing prices for Portfolio DataFrame\n",
    "# display close prices\n",
    "close_prices_df = df_portfolio.iloc[:,[3]]\n",
    "display(close_prices_df)"
   ]
  },
  {
   "cell_type": "code",
   "execution_count": 19,
   "metadata": {},
   "outputs": [
    {
     "data": {
      "text/html": [
       "<div>\n",
       "<style scoped>\n",
       "    .dataframe tbody tr th:only-of-type {\n",
       "        vertical-align: middle;\n",
       "    }\n",
       "\n",
       "    .dataframe tbody tr th {\n",
       "        vertical-align: top;\n",
       "    }\n",
       "\n",
       "    .dataframe thead tr th {\n",
       "        text-align: left;\n",
       "    }\n",
       "\n",
       "    .dataframe thead tr:last-of-type th {\n",
       "        text-align: right;\n",
       "    }\n",
       "</style>\n",
       "<table border=\"1\" class=\"dataframe\">\n",
       "  <thead>\n",
       "    <tr>\n",
       "      <th></th>\n",
       "      <th colspan=\"7\" halign=\"left\">AGG</th>\n",
       "      <th colspan=\"7\" halign=\"left\">SPY</th>\n",
       "    </tr>\n",
       "    <tr>\n",
       "      <th></th>\n",
       "      <th>open</th>\n",
       "      <th>high</th>\n",
       "      <th>low</th>\n",
       "      <th>close</th>\n",
       "      <th>volume</th>\n",
       "      <th>trade_count</th>\n",
       "      <th>vwap</th>\n",
       "      <th>open</th>\n",
       "      <th>high</th>\n",
       "      <th>low</th>\n",
       "      <th>close</th>\n",
       "      <th>volume</th>\n",
       "      <th>trade_count</th>\n",
       "      <th>vwap</th>\n",
       "    </tr>\n",
       "    <tr>\n",
       "      <th>timestamp</th>\n",
       "      <th></th>\n",
       "      <th></th>\n",
       "      <th></th>\n",
       "      <th></th>\n",
       "      <th></th>\n",
       "      <th></th>\n",
       "      <th></th>\n",
       "      <th></th>\n",
       "      <th></th>\n",
       "      <th></th>\n",
       "      <th></th>\n",
       "      <th></th>\n",
       "      <th></th>\n",
       "      <th></th>\n",
       "    </tr>\n",
       "  </thead>\n",
       "  <tbody>\n",
       "    <tr>\n",
       "      <th>2022-09-29 04:00:00+00:00</th>\n",
       "      <td>366.72</td>\n",
       "      <td>367.11</td>\n",
       "      <td>359.7</td>\n",
       "      <td>362.79</td>\n",
       "      <td>112068880</td>\n",
       "      <td>789244</td>\n",
       "      <td>362.805405</td>\n",
       "      <td>96.48</td>\n",
       "      <td>96.7999</td>\n",
       "      <td>96.29</td>\n",
       "      <td>96.57</td>\n",
       "      <td>8133673</td>\n",
       "      <td>33252</td>\n",
       "      <td>96.544743</td>\n",
       "    </tr>\n",
       "  </tbody>\n",
       "</table>\n",
       "</div>"
      ],
      "text/plain": [
       "                              AGG                                    \\\n",
       "                             open    high    low   close     volume   \n",
       "timestamp                                                             \n",
       "2022-09-29 04:00:00+00:00  366.72  367.11  359.7  362.79  112068880   \n",
       "\n",
       "                                                     SPY                  \\\n",
       "                          trade_count        vwap   open     high    low   \n",
       "timestamp                                                                  \n",
       "2022-09-29 04:00:00+00:00      789244  362.805405  96.48  96.7999  96.29   \n",
       "\n",
       "                                                                  \n",
       "                           close   volume trade_count       vwap  \n",
       "timestamp                                                         \n",
       "2022-09-29 04:00:00+00:00  96.57  8133673       33252  96.544743  "
      ]
     },
     "metadata": {},
     "output_type": "display_data"
    }
   ],
   "source": [
    "# Reorganize the DataFrame\n",
    "# Separate ticker data\n",
    "# Separate Ticker Data\n",
    "AGG = df_portfolio[df_portfolio['symbol']=='AGG'].drop('symbol', axis=1)\n",
    "SPY = df_portfolio[df_portfolio['symbol']=='SPY'].drop('symbol', axis=1)\n",
    "\n",
    "# Concatenate the Ticker DataFrames\n",
    "df_portfolio = ccat([SPY, AGG],axis=1, keys=['AGG','SPY'])\n",
    "\n",
    "# Review the first 5 rows of the Alpaca DataFrame\n",
    "# Display sample data\n",
    "display(df_portfolio.head())  # There is only a single row as the instructions dictate use a single day on timeframe daily."
   ]
  },
  {
   "cell_type": "code",
   "execution_count": 20,
   "metadata": {},
   "outputs": [
    {
     "data": {
      "text/html": [
       "<div>\n",
       "<style scoped>\n",
       "    .dataframe tbody tr th:only-of-type {\n",
       "        vertical-align: middle;\n",
       "    }\n",
       "\n",
       "    .dataframe tbody tr th {\n",
       "        vertical-align: top;\n",
       "    }\n",
       "\n",
       "    .dataframe thead tr th {\n",
       "        text-align: left;\n",
       "    }\n",
       "\n",
       "    .dataframe thead tr:last-of-type th {\n",
       "        text-align: right;\n",
       "    }\n",
       "</style>\n",
       "<table border=\"1\" class=\"dataframe\">\n",
       "  <thead>\n",
       "    <tr>\n",
       "      <th></th>\n",
       "      <th>AGG</th>\n",
       "      <th>SPY</th>\n",
       "    </tr>\n",
       "    <tr>\n",
       "      <th></th>\n",
       "      <th>close</th>\n",
       "      <th>close</th>\n",
       "    </tr>\n",
       "    <tr>\n",
       "      <th>timestamp</th>\n",
       "      <th></th>\n",
       "      <th></th>\n",
       "    </tr>\n",
       "  </thead>\n",
       "  <tbody>\n",
       "    <tr>\n",
       "      <th>2022-09-29 04:00:00+00:00</th>\n",
       "      <td>362.79</td>\n",
       "      <td>96.57</td>\n",
       "    </tr>\n",
       "  </tbody>\n",
       "</table>\n",
       "</div>"
      ],
      "text/plain": [
       "                              AGG    SPY\n",
       "                            close  close\n",
       "timestamp                               \n",
       "2022-09-29 04:00:00+00:00  362.79  96.57"
      ]
     },
     "metadata": {},
     "output_type": "display_data"
    }
   ],
   "source": [
    "# Access the closing prices for Portfolio DataFrame\n",
    "# display close prices\n",
    "df_portfolio_close = df_portfolio.iloc[:,[3,10]]\n",
    "display(df_portfolio_close)"
   ]
  },
  {
   "cell_type": "markdown",
   "metadata": {},
   "source": [
    "#### Step 5: Navigating the Alpaca response DataFrame, select the `SPY` and `AGG` closing prices, and store them as variables."
   ]
  },
  {
   "cell_type": "code",
   "execution_count": 21,
   "metadata": {},
   "outputs": [
    {
     "data": {
      "text/plain": [
       "362.79"
      ]
     },
     "metadata": {},
     "output_type": "display_data"
    }
   ],
   "source": [
    "# Access the closing price for AGG from the Alpaca DataFrame\n",
    "# Converting the value to a floating point number\n",
    "agg_close_price = float(df_portfolio['AGG']['close'])\n",
    "\n",
    "# Print the AGG closing price\n",
    "# YOUR CODE HERE\n",
    "display(agg_close_price)"
   ]
  },
  {
   "cell_type": "code",
   "execution_count": 22,
   "metadata": {},
   "outputs": [
    {
     "data": {
      "text/plain": [
       "96.57"
      ]
     },
     "metadata": {},
     "output_type": "display_data"
    }
   ],
   "source": [
    "# Access the closing price for SPY from the Alpaca DataFrame\n",
    "# Converting the value to a floating point number\n",
    "spy_close_price = float(df_portfolio['SPY']['close'])\n",
    "\n",
    "# Print the SPY closing price\n",
    "display(spy_close_price)"
   ]
  },
  {
   "cell_type": "markdown",
   "metadata": {},
   "source": [
    "#### Step 6: Calculate the value, in US dollars, of the current amount of shares in each of the stock and bond portions of the portfolio, and print the results."
   ]
  },
  {
   "cell_type": "code",
   "execution_count": 23,
   "metadata": {},
   "outputs": [
    {
     "name": "stdout",
     "output_type": "stream",
     "text": [
      "The current value of the iShares Core US Aggregate Bond ETF (ticker: AGG) portfolio is $72558.0\n"
     ]
    }
   ],
   "source": [
    "# Calculate the current value of the bond portion of the portfolio\n",
    "agg_value = agg_shares * agg_close_price\n",
    "\n",
    "# Print the current value of the bond portfolio\n",
    "print(f'The current value of the iShares Core US Aggregate Bond ETF (ticker: AGG) portfolio is ${agg_value}')"
   ]
  },
  {
   "cell_type": "code",
   "execution_count": 24,
   "metadata": {},
   "outputs": [
    {
     "name": "stdout",
     "output_type": "stream",
     "text": [
      "The current value of the SPDR S&P 500 ETF Trust (ticker: SPY) portfolio is $10622.699999999999\n"
     ]
    }
   ],
   "source": [
    "# Calculate the current value of the stock portion of the portfolio\n",
    "spy_value = spy_shares * spy_close_price\n",
    "\n",
    "# Print the current value of the stock portfolio\n",
    "print(f'The current value of the SPDR S&P 500 ETF Trust (ticker: SPY) portfolio is ${spy_value}')"
   ]
  },
  {
   "cell_type": "code",
   "execution_count": 25,
   "metadata": {},
   "outputs": [
    {
     "name": "stdout",
     "output_type": "stream",
     "text": [
      "The total value of the stock and bond portion of the portfolio is $83180.7\n"
     ]
    }
   ],
   "source": [
    "# Calculate the total value of the stock and bond portion of the portfolio\n",
    "total_stocks_bonds =  agg_value + spy_value\n",
    "\n",
    "# Print the current balance of the stock and bond portion of the portfolio\n",
    "print(f'The total value of the stock and bond portion of the portfolio is ${round(total_stocks_bonds, 2)}')"
   ]
  },
  {
   "cell_type": "code",
   "execution_count": 26,
   "metadata": {},
   "outputs": [
    {
     "name": "stdout",
     "output_type": "stream",
     "text": [
      "The current cryptocurrency wallet balance is $30774.32 \n",
      "\n",
      "The total value of savings portfolio is $113955.02 \n",
      "\n"
     ]
    }
   ],
   "source": [
    "# Calculate the total value of the member's entire savings portfolio\n",
    "# Add the value of the cryptocurrency wallet to the value of the total stocks and bonds\n",
    "total_portfolio = total_crypto_wallet + total_stocks_bonds\n",
    "\n",
    "# Print current cryptocurrency wallet balance\n",
    "print(f'The current cryptocurrency wallet balance is ${round(total_crypto_wallet, 2)} \\n')\n",
    "# Print total entire savings portfolio balance\n",
    "print(f'The total value of savings portfolio is ${round(total_portfolio, 2)} \\n')"
   ]
  },
  {
   "cell_type": "markdown",
   "metadata": {},
   "source": [
    "### Evaluate the Emergency Fund\n",
    "\n",
    "In this section, you’ll use the valuations for the cryptocurrency wallet and for the stock and bond portions of the portfolio to determine if the credit union member has enough savings to build an emergency fund into their financial plan. To do this, complete the following steps:\n",
    "\n",
    "1. Create a Python list named `savings_data` that has two elements. The first element contains the total value of the cryptocurrency wallet. The second element contains the total value of the stock and bond portions of the portfolio.\n",
    "\n",
    "2. Use the `savings_data` list to create a Pandas DataFrame named `savings_df`, and then display this DataFrame. The function to create the DataFrame should take the following three parameters:\n",
    "\n",
    "    - `savings_data`: Use the list that you just created.\n",
    "\n",
    "    - `columns`: Set this parameter equal to a Python list with a single value called `amount`.\n",
    "\n",
    "    - `index`: Set this parameter equal to a Python list with the values of `crypto` and `stock/bond`.\n",
    "\n",
    "3. Use the `savings_df` DataFrame to plot a pie chart that visualizes the composition of the member’s portfolio. The y-axis of the pie chart uses `amount`. Be sure to add a title.\n",
    "\n",
    "4. Using Python, determine if the current portfolio has enough to create an emergency fund as part of the member’s financial plan. Ideally, an emergency fund should equal to three times the member’s monthly income. To do this, implement the following steps:\n",
    "\n",
    "    1. Create a variable named `emergency_fund_value`, and set it equal to three times the value of the member’s `monthly_income` of $12000. (You set this earlier in Part 1).\n",
    "\n",
    "    2. Create a series of three if statements to determine if the member’s total portfolio is large enough to fund the emergency portfolio:\n",
    "\n",
    "        1. If the total portfolio value is greater than the emergency fund value, display a message congratulating the member for having enough money in this fund.\n",
    "\n",
    "        2. Else if the total portfolio value is equal to the emergency fund value, display a message congratulating the member on reaching this important financial goal.\n",
    "\n",
    "        3. Else the total portfolio is less than the emergency fund value, so display a message showing how many dollars away the member is from reaching the goal. (Subtract the total portfolio value from the emergency fund value.)\n"
   ]
  },
  {
   "cell_type": "markdown",
   "metadata": {},
   "source": [
    "#### Step 1: Create a Python list named `savings_data` that has two elements. The first element contains the total value of the cryptocurrency wallet. The second element contains the total value of the stock and bond portions of the portfolio."
   ]
  },
  {
   "cell_type": "code",
   "execution_count": 27,
   "metadata": {},
   "outputs": [
    {
     "data": {
      "text/plain": [
       "[30774.316, 83180.7]"
      ]
     },
     "metadata": {},
     "output_type": "display_data"
    }
   ],
   "source": [
    "# Consolidate financial assets data into a Python list\n",
    "savings_data=[total_crypto_wallet, total_stocks_bonds]\n",
    "\n",
    "# Review the Python list savings_data\n",
    "display(savings_data)"
   ]
  },
  {
   "cell_type": "markdown",
   "metadata": {},
   "source": [
    "#### Step 2: Use the `savings_data` list to create a Pandas DataFrame named `savings_df`, and then display this DataFrame. The function to create the DataFrame should take the following three parameters:\n",
    "\n",
    "- `savings_data`: Use the list that you just created.\n",
    "\n",
    "- `columns`: Set this parameter equal to a Python list with a single value called `amount`.\n",
    "\n",
    "- `index`: Set this parameter equal to a Python list with the values of `crypto` and `stock/bond`.\n"
   ]
  },
  {
   "cell_type": "code",
   "execution_count": 28,
   "metadata": {},
   "outputs": [
    {
     "data": {
      "text/html": [
       "<div>\n",
       "<style scoped>\n",
       "    .dataframe tbody tr th:only-of-type {\n",
       "        vertical-align: middle;\n",
       "    }\n",
       "\n",
       "    .dataframe tbody tr th {\n",
       "        vertical-align: top;\n",
       "    }\n",
       "\n",
       "    .dataframe thead th {\n",
       "        text-align: right;\n",
       "    }\n",
       "</style>\n",
       "<table border=\"1\" class=\"dataframe\">\n",
       "  <thead>\n",
       "    <tr style=\"text-align: right;\">\n",
       "      <th></th>\n",
       "      <th>amount</th>\n",
       "    </tr>\n",
       "  </thead>\n",
       "  <tbody>\n",
       "    <tr>\n",
       "      <th>crypto</th>\n",
       "      <td>30774.316</td>\n",
       "    </tr>\n",
       "    <tr>\n",
       "      <th>stock/bond</th>\n",
       "      <td>83180.700</td>\n",
       "    </tr>\n",
       "  </tbody>\n",
       "</table>\n",
       "</div>"
      ],
      "text/plain": [
       "               amount\n",
       "crypto      30774.316\n",
       "stock/bond  83180.700"
      ]
     },
     "metadata": {},
     "output_type": "display_data"
    }
   ],
   "source": [
    "# Create a Pandas DataFrame called savings_df \n",
    "# YOUR CODE HERE\n",
    "savings_df=wdf(\n",
    "    savings_data,\n",
    "    columns=['amount'],\n",
    "    index=['crypto', 'stock/bond']\n",
    ")\n",
    "\n",
    "# Display the savings_df DataFrame\n",
    "display(savings_df)"
   ]
  },
  {
   "cell_type": "markdown",
   "metadata": {},
   "source": [
    "#### Step 3: Use the `savings_df` DataFrame to plot a pie chart that visualizes the composition of the member’s portfolio. The y-axis of the pie chart uses `amount`. Be sure to add a title."
   ]
  },
  {
   "cell_type": "code",
   "execution_count": 29,
   "metadata": {},
   "outputs": [
    {
     "data": {
      "text/plain": [
       "<AxesSubplot:title={'center':'Portfolio Composition - 2022-09-29'}, ylabel='amount'>"
      ]
     },
     "execution_count": 29,
     "metadata": {},
     "output_type": "execute_result"
    },
    {
     "data": {
      "image/png": "[encoded data removed]",
      "text/plain": [
       "<Figure size 720x504 with 1 Axes>"
      ]
     },
     "metadata": {},
     "output_type": "display_data"
    }
   ],
   "source": [
    "# Plot the total value of the member's portfolio (crypto and stock/bond) in a pie chart\n",
    "# YOUR CODE HERE\n",
    "savings_df.plot.pie(y='amount', title= f'Portfolio Composition - {yesterday}', figsize=(10,7))"
   ]
  },
  {
   "cell_type": "markdown",
   "metadata": {},
   "source": [
    "#### Step 4: Using Python, determine if the current portfolio has enough to create an emergency fund as part of the member’s financial plan. Ideally, an emergency fund should equal to three times the member’s monthly income. To do this, implement the following steps:\n",
    "\n",
    "Step 1. Create a variable named `emergency_fund_value`, and set it equal to three times the value of the member’s `monthly_income` of 12000. (You set this earlier in Part 1).\n",
    "\n",
    "Step 2. Create a series of three if statements to determine if the member’s total portfolio is large enough to fund the emergency portfolio:\n",
    "\n",
    "* If the total portfolio value is greater than the emergency fund value, display a message congratulating the member for having enough money in this fund.\n",
    "\n",
    "* Else if the total portfolio value is equal to the emergency fund value, display a message congratulating the member on reaching this important financial goal.\n",
    "\n",
    "* Else the total portfolio is less than the emergency fund value, so display a message showing how many dollars away the member is from reaching the goal. (Subtract the total portfolio value from the emergency fund value.)\n"
   ]
  },
  {
   "cell_type": "markdown",
   "metadata": {},
   "source": [
    "##### Step 4-1: Create a variable named `emergency_fund_value`, and set it equal to three times the value of the member’s `monthly_income` of 12000. (You set this earlier in Part 1)."
   ]
  },
  {
   "cell_type": "code",
   "execution_count": 30,
   "metadata": {},
   "outputs": [],
   "source": [
    "# Create a variable named emergency_fund_value\n",
    "emergency_fund_value = monthly_income * 3"
   ]
  },
  {
   "cell_type": "markdown",
   "metadata": {},
   "source": [
    "##### Step 4-2: Create a series of three if statements to determine if the member’s total portfolio is large enough to fund the emergency portfolio:\n",
    "\n",
    "* If the total portfolio value is greater than the emergency fund value, display a message congratulating the member for having enough money in this fund.\n",
    "\n",
    "* Else if the total portfolio value is equal to the emergency fund value, display a message congratulating the member on reaching this important financial goal.\n",
    "\n",
    "* Else the total portfolio is less than the emergency fund value, so display a message showing how many dollars away the member is from reaching the goal. (Subtract the total portfolio value from the emergency fund value.)"
   ]
  },
  {
   "cell_type": "code",
   "execution_count": 31,
   "metadata": {},
   "outputs": [
    {
     "name": "stdout",
     "output_type": "stream",
     "text": [
      "\n",
      " Congratulations, with $113955.02 in your acount, your fund balance would seem to be sufficient!\n"
     ]
    }
   ],
   "source": [
    "# Evaluate the possibility of creating an emergency fund with 3 conditions:\n",
    "\n",
    "if total_portfolio > emergency_fund_value:\n",
    "    print(f'\\n Congratulations, with ${total_portfolio:.2f} in your acount, your fund balance would seem to be sufficient!')\n",
    "elif total_portfolio == emergency_fund_value:\n",
    "    print(f'\\n Congratulations, by saving ${total_portfolio:.2f} in your account, your fund balance has reached an important financial goal!')\n",
    "else:\n",
    "    print(f'\\n Your savings are ${emergency_fund_value-total_portfolio} short of the goal.')"
   ]
  },
  {
   "cell_type": "markdown",
   "metadata": {},
   "source": [
    "## Part 2: Create a Financial Planner for Retirement"
   ]
  },
  {
   "cell_type": "markdown",
   "metadata": {},
   "source": [
    "### Create the Monte Carlo Simulation\n",
    "\n",
    "In this section, you’ll use the MCForecastTools library to create a Monte Carlo simulation for the member’s savings portfolio. To do this, complete the following steps:\n",
    "\n",
    "1. Make an API call via the Alpaca SDK to get 3 years of historical closing prices for a traditional 60/40 portfolio split: 60% stocks (SPY) and 40% bonds (AGG).\n",
    "\n",
    "2. Run a Monte Carlo simulation of 500 samples and 30 years for the 60/40 portfolio, and then plot the results.The following image shows the overlay line plot resulting from a simulation with these characteristics. However, because a random number generator is used to run each live Monte Carlo simulation, your image will differ slightly from this exact image:\n",
    "\n",
    "![A screenshot depicts the resulting plot.](Images/5-4-monte-carlo-line-plot.png)\n",
    "\n",
    "3. Plot the probability distribution of the Monte Carlo simulation. Plot the probability distribution of the Monte Carlo simulation. The following image shows the histogram plot resulting from a simulation with these characteristics. However, because a random number generator is used to run each live Monte Carlo simulation, your image will differ slightly from this exact image:\n",
    "\n",
    "![A screenshot depicts the histogram plot.](Images/5-4-monte-carlo-histogram.png)\n",
    "\n",
    "4. Generate the summary statistics for the Monte Carlo simulation.\n",
    "\n"
   ]
  },
  {
   "cell_type": "markdown",
   "metadata": {},
   "source": [
    "#### Step 1: Make an API call via the Alpaca SDK to get 3 years of historical closing prices for a traditional 60/40 portfolio split: 60% stocks (SPY) and 40% bonds (AGG)."
   ]
  },
  {
   "cell_type": "markdown",
   "metadata": {},
   "source": [
    "## SUPPLEMENTAL\n",
    "*for increased granularity, MCForecastTools.py was edited -*\n",
    "\n",
    "*line 154, parameter bins=10 was changed to bins = 45*"
   ]
  },
  {
   "cell_type": "code",
   "execution_count": 32,
   "metadata": {},
   "outputs": [
    {
     "data": {
      "text/plain": [
       "Timestamp('2022-09-30 13:52:08.905408')"
      ]
     },
     "metadata": {},
     "output_type": "display_data"
    },
    {
     "data": {
      "text/plain": [
       "Timestamp('2019-09-30 20:24:32.905408')"
      ]
     },
     "metadata": {},
     "output_type": "display_data"
    },
    {
     "data": {
      "text/plain": [
       "'2022-09-30T13:52:08.905408-04:00'"
      ]
     },
     "metadata": {},
     "output_type": "display_data"
    },
    {
     "data": {
      "text/plain": [
       "'2019-09-30T20:24:32.905408-04:00'"
      ]
     },
     "metadata": {},
     "output_type": "display_data"
    },
    {
     "name": "stdout",
     "output_type": "stream",
     "text": [
      "\n",
      "\n"
     ]
    }
   ],
   "source": [
    "# SCENARIO ONE - 3 years data history\n",
    "# Set start and end dates of 3 years back from your current date\n",
    "end_3yrs = pd.to_datetime('today')\n",
    "start_3yrs = end_3yrs - np.timedelta64(3, 'Y')\n",
    "display(end_3yrs)\n",
    "display(start_3yrs)\n",
    "\n",
    "# Set the values for start_date and end_date using the pd.Timestamp function\n",
    "# Set the parameter tz to \"America/New_York\", \n",
    "# Set this all to the ISO format by calling the isoformat function \n",
    "start_3yrs = tstamp(start_3yrs, tz = 'America/New_York').isoformat()\n",
    "end_3yrs = tstamp(end_3yrs, tz = 'America/New_York').isoformat()\n",
    "display(end_3yrs)\n",
    "display(start_3yrs)\n",
    "print('\\n')"
   ]
  },
  {
   "cell_type": "code",
   "execution_count": 33,
   "metadata": {},
   "outputs": [
    {
     "data": {
      "text/html": [
       "<div>\n",
       "<style scoped>\n",
       "    .dataframe tbody tr th:only-of-type {\n",
       "        vertical-align: middle;\n",
       "    }\n",
       "\n",
       "    .dataframe tbody tr th {\n",
       "        vertical-align: top;\n",
       "    }\n",
       "\n",
       "    .dataframe thead th {\n",
       "        text-align: right;\n",
       "    }\n",
       "</style>\n",
       "<table border=\"1\" class=\"dataframe\">\n",
       "  <thead>\n",
       "    <tr style=\"text-align: right;\">\n",
       "      <th></th>\n",
       "      <th>open</th>\n",
       "      <th>high</th>\n",
       "      <th>low</th>\n",
       "      <th>close</th>\n",
       "      <th>volume</th>\n",
       "      <th>trade_count</th>\n",
       "      <th>vwap</th>\n",
       "      <th>symbol</th>\n",
       "    </tr>\n",
       "    <tr>\n",
       "      <th>timestamp</th>\n",
       "      <th></th>\n",
       "      <th></th>\n",
       "      <th></th>\n",
       "      <th></th>\n",
       "      <th></th>\n",
       "      <th></th>\n",
       "      <th></th>\n",
       "      <th></th>\n",
       "    </tr>\n",
       "  </thead>\n",
       "  <tbody>\n",
       "    <tr>\n",
       "      <th>2019-10-01 04:00:00+00:00</th>\n",
       "      <td>112.71</td>\n",
       "      <td>113.2500</td>\n",
       "      <td>112.63</td>\n",
       "      <td>113.12</td>\n",
       "      <td>5982470</td>\n",
       "      <td>30567</td>\n",
       "      <td>113.081002</td>\n",
       "      <td>AGG</td>\n",
       "    </tr>\n",
       "    <tr>\n",
       "      <th>2019-10-02 04:00:00+00:00</th>\n",
       "      <td>113.19</td>\n",
       "      <td>113.3075</td>\n",
       "      <td>113.09</td>\n",
       "      <td>113.20</td>\n",
       "      <td>9571687</td>\n",
       "      <td>23424</td>\n",
       "      <td>113.229809</td>\n",
       "      <td>AGG</td>\n",
       "    </tr>\n",
       "    <tr>\n",
       "      <th>2019-10-03 04:00:00+00:00</th>\n",
       "      <td>113.34</td>\n",
       "      <td>113.7400</td>\n",
       "      <td>113.32</td>\n",
       "      <td>113.64</td>\n",
       "      <td>5144049</td>\n",
       "      <td>18028</td>\n",
       "      <td>113.589201</td>\n",
       "      <td>AGG</td>\n",
       "    </tr>\n",
       "    <tr>\n",
       "      <th>2019-10-04 04:00:00+00:00</th>\n",
       "      <td>113.68</td>\n",
       "      <td>113.8255</td>\n",
       "      <td>113.63</td>\n",
       "      <td>113.82</td>\n",
       "      <td>3331180</td>\n",
       "      <td>14511</td>\n",
       "      <td>113.742441</td>\n",
       "      <td>AGG</td>\n",
       "    </tr>\n",
       "    <tr>\n",
       "      <th>2019-10-07 04:00:00+00:00</th>\n",
       "      <td>113.64</td>\n",
       "      <td>113.7050</td>\n",
       "      <td>113.51</td>\n",
       "      <td>113.51</td>\n",
       "      <td>2493664</td>\n",
       "      <td>9765</td>\n",
       "      <td>113.575284</td>\n",
       "      <td>AGG</td>\n",
       "    </tr>\n",
       "  </tbody>\n",
       "</table>\n",
       "</div>"
      ],
      "text/plain": [
       "                             open      high     low   close   volume  \\\n",
       "timestamp                                                              \n",
       "2019-10-01 04:00:00+00:00  112.71  113.2500  112.63  113.12  5982470   \n",
       "2019-10-02 04:00:00+00:00  113.19  113.3075  113.09  113.20  9571687   \n",
       "2019-10-03 04:00:00+00:00  113.34  113.7400  113.32  113.64  5144049   \n",
       "2019-10-04 04:00:00+00:00  113.68  113.8255  113.63  113.82  3331180   \n",
       "2019-10-07 04:00:00+00:00  113.64  113.7050  113.51  113.51  2493664   \n",
       "\n",
       "                           trade_count        vwap symbol  \n",
       "timestamp                                                  \n",
       "2019-10-01 04:00:00+00:00        30567  113.081002    AGG  \n",
       "2019-10-02 04:00:00+00:00        23424  113.229809    AGG  \n",
       "2019-10-03 04:00:00+00:00        18028  113.589201    AGG  \n",
       "2019-10-04 04:00:00+00:00        14511  113.742441    AGG  \n",
       "2019-10-07 04:00:00+00:00         9765  113.575284    AGG  "
      ]
     },
     "metadata": {},
     "output_type": "display_data"
    },
    {
     "name": "stdout",
     "output_type": "stream",
     "text": [
      "\n",
      "\n"
     ]
    },
    {
     "data": {
      "text/html": [
       "<div>\n",
       "<style scoped>\n",
       "    .dataframe tbody tr th:only-of-type {\n",
       "        vertical-align: middle;\n",
       "    }\n",
       "\n",
       "    .dataframe tbody tr th {\n",
       "        vertical-align: top;\n",
       "    }\n",
       "\n",
       "    .dataframe thead th {\n",
       "        text-align: right;\n",
       "    }\n",
       "</style>\n",
       "<table border=\"1\" class=\"dataframe\">\n",
       "  <thead>\n",
       "    <tr style=\"text-align: right;\">\n",
       "      <th></th>\n",
       "      <th>open</th>\n",
       "      <th>high</th>\n",
       "      <th>low</th>\n",
       "      <th>close</th>\n",
       "      <th>volume</th>\n",
       "      <th>trade_count</th>\n",
       "      <th>vwap</th>\n",
       "      <th>symbol</th>\n",
       "    </tr>\n",
       "    <tr>\n",
       "      <th>timestamp</th>\n",
       "      <th></th>\n",
       "      <th></th>\n",
       "      <th></th>\n",
       "      <th></th>\n",
       "      <th></th>\n",
       "      <th></th>\n",
       "      <th></th>\n",
       "      <th></th>\n",
       "    </tr>\n",
       "  </thead>\n",
       "  <tbody>\n",
       "    <tr>\n",
       "      <th>2022-09-26 04:00:00+00:00</th>\n",
       "      <td>366.41</td>\n",
       "      <td>370.21</td>\n",
       "      <td>363.0299</td>\n",
       "      <td>364.31</td>\n",
       "      <td>91731346</td>\n",
       "      <td>633024</td>\n",
       "      <td>365.928441</td>\n",
       "      <td>SPY</td>\n",
       "    </tr>\n",
       "    <tr>\n",
       "      <th>2022-09-27 04:00:00+00:00</th>\n",
       "      <td>368.01</td>\n",
       "      <td>370.40</td>\n",
       "      <td>360.8700</td>\n",
       "      <td>363.38</td>\n",
       "      <td>105884493</td>\n",
       "      <td>771522</td>\n",
       "      <td>364.580711</td>\n",
       "      <td>SPY</td>\n",
       "    </tr>\n",
       "    <tr>\n",
       "      <th>2022-09-28 04:00:00+00:00</th>\n",
       "      <td>364.44</td>\n",
       "      <td>372.30</td>\n",
       "      <td>362.6000</td>\n",
       "      <td>370.53</td>\n",
       "      <td>109578062</td>\n",
       "      <td>704940</td>\n",
       "      <td>367.937105</td>\n",
       "      <td>SPY</td>\n",
       "    </tr>\n",
       "    <tr>\n",
       "      <th>2022-09-29 04:00:00+00:00</th>\n",
       "      <td>366.72</td>\n",
       "      <td>367.11</td>\n",
       "      <td>359.7000</td>\n",
       "      <td>362.79</td>\n",
       "      <td>112068880</td>\n",
       "      <td>789244</td>\n",
       "      <td>362.805405</td>\n",
       "      <td>SPY</td>\n",
       "    </tr>\n",
       "    <tr>\n",
       "      <th>2022-09-30 04:00:00+00:00</th>\n",
       "      <td>361.93</td>\n",
       "      <td>365.91</td>\n",
       "      <td>359.2000</td>\n",
       "      <td>359.83</td>\n",
       "      <td>71146365</td>\n",
       "      <td>548726</td>\n",
       "      <td>362.666112</td>\n",
       "      <td>SPY</td>\n",
       "    </tr>\n",
       "  </tbody>\n",
       "</table>\n",
       "</div>"
      ],
      "text/plain": [
       "                             open    high       low   close     volume  \\\n",
       "timestamp                                                                \n",
       "2022-09-26 04:00:00+00:00  366.41  370.21  363.0299  364.31   91731346   \n",
       "2022-09-27 04:00:00+00:00  368.01  370.40  360.8700  363.38  105884493   \n",
       "2022-09-28 04:00:00+00:00  364.44  372.30  362.6000  370.53  109578062   \n",
       "2022-09-29 04:00:00+00:00  366.72  367.11  359.7000  362.79  112068880   \n",
       "2022-09-30 04:00:00+00:00  361.93  365.91  359.2000  359.83   71146365   \n",
       "\n",
       "                           trade_count        vwap symbol  \n",
       "timestamp                                                  \n",
       "2022-09-26 04:00:00+00:00       633024  365.928441    SPY  \n",
       "2022-09-27 04:00:00+00:00       771522  364.580711    SPY  \n",
       "2022-09-28 04:00:00+00:00       704940  367.937105    SPY  \n",
       "2022-09-29 04:00:00+00:00       789244  362.805405    SPY  \n",
       "2022-09-30 04:00:00+00:00       548726  362.666112    SPY  "
      ]
     },
     "metadata": {},
     "output_type": "display_data"
    }
   ],
   "source": [
    "# Use the Alpaca get_bars function to make the API call to get the 3 years worth of pricing data\n",
    "# The tickers and timeframe parameters should have been set in Part 1 of this activity \n",
    "# The start and end dates should be updated with the information set above\n",
    "# Remember to add the df property to the end of the call so the response is returned as a DataFrame\n",
    "\n",
    "# set limit\n",
    "limit_rows = 10000\n",
    "\n",
    "api_call_3yrs_df = alpaca.get_bars(\n",
    "    tickers,\n",
    "    timeframe,\n",
    "    start = start_3yrs,\n",
    "    end = end_3yrs,\n",
    "    limit = 10000\n",
    ").df\n",
    "\n",
    "# Review the first 5 rows of the Alpaca DataFrame\n",
    "display(api_call_3yrs_df.head())\n",
    "print('\\n')\n",
    "# Review the last 5 rows of the Alpaca DataFrame\n",
    "display(api_call_3yrs_df.tail())"
   ]
  },
  {
   "cell_type": "code",
   "execution_count": 34,
   "metadata": {},
   "outputs": [
    {
     "data": {
      "text/html": [
       "<div>\n",
       "<style scoped>\n",
       "    .dataframe tbody tr th:only-of-type {\n",
       "        vertical-align: middle;\n",
       "    }\n",
       "\n",
       "    .dataframe tbody tr th {\n",
       "        vertical-align: top;\n",
       "    }\n",
       "\n",
       "    .dataframe thead tr th {\n",
       "        text-align: left;\n",
       "    }\n",
       "\n",
       "    .dataframe thead tr:last-of-type th {\n",
       "        text-align: right;\n",
       "    }\n",
       "</style>\n",
       "<table border=\"1\" class=\"dataframe\">\n",
       "  <thead>\n",
       "    <tr>\n",
       "      <th></th>\n",
       "      <th colspan=\"7\" halign=\"left\">AGG</th>\n",
       "      <th colspan=\"7\" halign=\"left\">SPY</th>\n",
       "    </tr>\n",
       "    <tr>\n",
       "      <th></th>\n",
       "      <th>open</th>\n",
       "      <th>high</th>\n",
       "      <th>low</th>\n",
       "      <th>close</th>\n",
       "      <th>volume</th>\n",
       "      <th>trade_count</th>\n",
       "      <th>vwap</th>\n",
       "      <th>open</th>\n",
       "      <th>high</th>\n",
       "      <th>low</th>\n",
       "      <th>close</th>\n",
       "      <th>volume</th>\n",
       "      <th>trade_count</th>\n",
       "      <th>vwap</th>\n",
       "    </tr>\n",
       "    <tr>\n",
       "      <th>timestamp</th>\n",
       "      <th></th>\n",
       "      <th></th>\n",
       "      <th></th>\n",
       "      <th></th>\n",
       "      <th></th>\n",
       "      <th></th>\n",
       "      <th></th>\n",
       "      <th></th>\n",
       "      <th></th>\n",
       "      <th></th>\n",
       "      <th></th>\n",
       "      <th></th>\n",
       "      <th></th>\n",
       "      <th></th>\n",
       "    </tr>\n",
       "  </thead>\n",
       "  <tbody>\n",
       "    <tr>\n",
       "      <th>2019-10-01 04:00:00+00:00</th>\n",
       "      <td>112.71</td>\n",
       "      <td>113.2500</td>\n",
       "      <td>112.63</td>\n",
       "      <td>113.12</td>\n",
       "      <td>5982470</td>\n",
       "      <td>30567</td>\n",
       "      <td>113.081002</td>\n",
       "      <td>297.67</td>\n",
       "      <td>298.455</td>\n",
       "      <td>293.00</td>\n",
       "      <td>293.24</td>\n",
       "      <td>90160482</td>\n",
       "      <td>422407</td>\n",
       "      <td>294.867498</td>\n",
       "    </tr>\n",
       "    <tr>\n",
       "      <th>2019-10-02 04:00:00+00:00</th>\n",
       "      <td>113.19</td>\n",
       "      <td>113.3075</td>\n",
       "      <td>113.09</td>\n",
       "      <td>113.20</td>\n",
       "      <td>9571687</td>\n",
       "      <td>23424</td>\n",
       "      <td>113.229809</td>\n",
       "      <td>291.49</td>\n",
       "      <td>291.510</td>\n",
       "      <td>286.64</td>\n",
       "      <td>288.06</td>\n",
       "      <td>125924074</td>\n",
       "      <td>608988</td>\n",
       "      <td>288.821147</td>\n",
       "    </tr>\n",
       "    <tr>\n",
       "      <th>2019-10-03 04:00:00+00:00</th>\n",
       "      <td>113.34</td>\n",
       "      <td>113.7400</td>\n",
       "      <td>113.32</td>\n",
       "      <td>113.64</td>\n",
       "      <td>5144049</td>\n",
       "      <td>18028</td>\n",
       "      <td>113.589201</td>\n",
       "      <td>287.81</td>\n",
       "      <td>290.450</td>\n",
       "      <td>284.82</td>\n",
       "      <td>290.42</td>\n",
       "      <td>85906608</td>\n",
       "      <td>517842</td>\n",
       "      <td>288.281946</td>\n",
       "    </tr>\n",
       "    <tr>\n",
       "      <th>2019-10-04 04:00:00+00:00</th>\n",
       "      <td>113.68</td>\n",
       "      <td>113.8255</td>\n",
       "      <td>113.63</td>\n",
       "      <td>113.82</td>\n",
       "      <td>3331180</td>\n",
       "      <td>14511</td>\n",
       "      <td>113.742441</td>\n",
       "      <td>291.21</td>\n",
       "      <td>294.630</td>\n",
       "      <td>290.82</td>\n",
       "      <td>294.35</td>\n",
       "      <td>66877330</td>\n",
       "      <td>305209</td>\n",
       "      <td>292.978205</td>\n",
       "    </tr>\n",
       "    <tr>\n",
       "      <th>2019-10-07 04:00:00+00:00</th>\n",
       "      <td>113.64</td>\n",
       "      <td>113.7050</td>\n",
       "      <td>113.51</td>\n",
       "      <td>113.51</td>\n",
       "      <td>2493664</td>\n",
       "      <td>9765</td>\n",
       "      <td>113.575284</td>\n",
       "      <td>293.50</td>\n",
       "      <td>295.260</td>\n",
       "      <td>292.77</td>\n",
       "      <td>293.08</td>\n",
       "      <td>61657344</td>\n",
       "      <td>314251</td>\n",
       "      <td>293.863605</td>\n",
       "    </tr>\n",
       "  </tbody>\n",
       "</table>\n",
       "</div>"
      ],
      "text/plain": [
       "                              AGG                                     \\\n",
       "                             open      high     low   close   volume   \n",
       "timestamp                                                              \n",
       "2019-10-01 04:00:00+00:00  112.71  113.2500  112.63  113.12  5982470   \n",
       "2019-10-02 04:00:00+00:00  113.19  113.3075  113.09  113.20  9571687   \n",
       "2019-10-03 04:00:00+00:00  113.34  113.7400  113.32  113.64  5144049   \n",
       "2019-10-04 04:00:00+00:00  113.68  113.8255  113.63  113.82  3331180   \n",
       "2019-10-07 04:00:00+00:00  113.64  113.7050  113.51  113.51  2493664   \n",
       "\n",
       "                                                      SPY                   \\\n",
       "                          trade_count        vwap    open     high     low   \n",
       "timestamp                                                                    \n",
       "2019-10-01 04:00:00+00:00       30567  113.081002  297.67  298.455  293.00   \n",
       "2019-10-02 04:00:00+00:00       23424  113.229809  291.49  291.510  286.64   \n",
       "2019-10-03 04:00:00+00:00       18028  113.589201  287.81  290.450  284.82   \n",
       "2019-10-04 04:00:00+00:00       14511  113.742441  291.21  294.630  290.82   \n",
       "2019-10-07 04:00:00+00:00        9765  113.575284  293.50  295.260  292.77   \n",
       "\n",
       "                                                                      \n",
       "                            close     volume trade_count        vwap  \n",
       "timestamp                                                             \n",
       "2019-10-01 04:00:00+00:00  293.24   90160482      422407  294.867498  \n",
       "2019-10-02 04:00:00+00:00  288.06  125924074      608988  288.821147  \n",
       "2019-10-03 04:00:00+00:00  290.42   85906608      517842  288.281946  \n",
       "2019-10-04 04:00:00+00:00  294.35   66877330      305209  292.978205  \n",
       "2019-10-07 04:00:00+00:00  293.08   61657344      314251  293.863605  "
      ]
     },
     "metadata": {},
     "output_type": "display_data"
    },
    {
     "name": "stdout",
     "output_type": "stream",
     "text": [
      "\n",
      "\n"
     ]
    },
    {
     "data": {
      "text/html": [
       "<div>\n",
       "<style scoped>\n",
       "    .dataframe tbody tr th:only-of-type {\n",
       "        vertical-align: middle;\n",
       "    }\n",
       "\n",
       "    .dataframe tbody tr th {\n",
       "        vertical-align: top;\n",
       "    }\n",
       "\n",
       "    .dataframe thead tr th {\n",
       "        text-align: left;\n",
       "    }\n",
       "\n",
       "    .dataframe thead tr:last-of-type th {\n",
       "        text-align: right;\n",
       "    }\n",
       "</style>\n",
       "<table border=\"1\" class=\"dataframe\">\n",
       "  <thead>\n",
       "    <tr>\n",
       "      <th></th>\n",
       "      <th colspan=\"7\" halign=\"left\">AGG</th>\n",
       "      <th colspan=\"7\" halign=\"left\">SPY</th>\n",
       "    </tr>\n",
       "    <tr>\n",
       "      <th></th>\n",
       "      <th>open</th>\n",
       "      <th>high</th>\n",
       "      <th>low</th>\n",
       "      <th>close</th>\n",
       "      <th>volume</th>\n",
       "      <th>trade_count</th>\n",
       "      <th>vwap</th>\n",
       "      <th>open</th>\n",
       "      <th>high</th>\n",
       "      <th>low</th>\n",
       "      <th>close</th>\n",
       "      <th>volume</th>\n",
       "      <th>trade_count</th>\n",
       "      <th>vwap</th>\n",
       "    </tr>\n",
       "    <tr>\n",
       "      <th>timestamp</th>\n",
       "      <th></th>\n",
       "      <th></th>\n",
       "      <th></th>\n",
       "      <th></th>\n",
       "      <th></th>\n",
       "      <th></th>\n",
       "      <th></th>\n",
       "      <th></th>\n",
       "      <th></th>\n",
       "      <th></th>\n",
       "      <th></th>\n",
       "      <th></th>\n",
       "      <th></th>\n",
       "      <th></th>\n",
       "    </tr>\n",
       "  </thead>\n",
       "  <tbody>\n",
       "    <tr>\n",
       "      <th>2022-09-26 04:00:00+00:00</th>\n",
       "      <td>96.87</td>\n",
       "      <td>96.9100</td>\n",
       "      <td>95.865</td>\n",
       "      <td>95.95</td>\n",
       "      <td>8467717</td>\n",
       "      <td>32092</td>\n",
       "      <td>96.272680</td>\n",
       "      <td>366.41</td>\n",
       "      <td>370.21</td>\n",
       "      <td>363.0299</td>\n",
       "      <td>364.31</td>\n",
       "      <td>91731346</td>\n",
       "      <td>633024</td>\n",
       "      <td>365.928441</td>\n",
       "    </tr>\n",
       "    <tr>\n",
       "      <th>2022-09-27 04:00:00+00:00</th>\n",
       "      <td>95.96</td>\n",
       "      <td>96.0750</td>\n",
       "      <td>95.375</td>\n",
       "      <td>95.54</td>\n",
       "      <td>11400353</td>\n",
       "      <td>35134</td>\n",
       "      <td>95.649073</td>\n",
       "      <td>368.01</td>\n",
       "      <td>370.40</td>\n",
       "      <td>360.8700</td>\n",
       "      <td>363.38</td>\n",
       "      <td>105884493</td>\n",
       "      <td>771522</td>\n",
       "      <td>364.580711</td>\n",
       "    </tr>\n",
       "    <tr>\n",
       "      <th>2022-09-28 04:00:00+00:00</th>\n",
       "      <td>96.47</td>\n",
       "      <td>97.1277</td>\n",
       "      <td>96.270</td>\n",
       "      <td>97.08</td>\n",
       "      <td>10530370</td>\n",
       "      <td>38055</td>\n",
       "      <td>96.834989</td>\n",
       "      <td>364.44</td>\n",
       "      <td>372.30</td>\n",
       "      <td>362.6000</td>\n",
       "      <td>370.53</td>\n",
       "      <td>109578062</td>\n",
       "      <td>704940</td>\n",
       "      <td>367.937105</td>\n",
       "    </tr>\n",
       "    <tr>\n",
       "      <th>2022-09-29 04:00:00+00:00</th>\n",
       "      <td>96.48</td>\n",
       "      <td>96.7999</td>\n",
       "      <td>96.290</td>\n",
       "      <td>96.57</td>\n",
       "      <td>8133673</td>\n",
       "      <td>33252</td>\n",
       "      <td>96.544743</td>\n",
       "      <td>366.72</td>\n",
       "      <td>367.11</td>\n",
       "      <td>359.7000</td>\n",
       "      <td>362.79</td>\n",
       "      <td>112068880</td>\n",
       "      <td>789244</td>\n",
       "      <td>362.805405</td>\n",
       "    </tr>\n",
       "    <tr>\n",
       "      <th>2022-09-30 04:00:00+00:00</th>\n",
       "      <td>96.86</td>\n",
       "      <td>97.0900</td>\n",
       "      <td>96.600</td>\n",
       "      <td>96.61</td>\n",
       "      <td>7498807</td>\n",
       "      <td>26920</td>\n",
       "      <td>96.792304</td>\n",
       "      <td>361.93</td>\n",
       "      <td>365.91</td>\n",
       "      <td>359.2000</td>\n",
       "      <td>359.83</td>\n",
       "      <td>71146365</td>\n",
       "      <td>548726</td>\n",
       "      <td>362.666112</td>\n",
       "    </tr>\n",
       "  </tbody>\n",
       "</table>\n",
       "</div>"
      ],
      "text/plain": [
       "                             AGG                                    \\\n",
       "                            open     high     low  close    volume   \n",
       "timestamp                                                            \n",
       "2022-09-26 04:00:00+00:00  96.87  96.9100  95.865  95.95   8467717   \n",
       "2022-09-27 04:00:00+00:00  95.96  96.0750  95.375  95.54  11400353   \n",
       "2022-09-28 04:00:00+00:00  96.47  97.1277  96.270  97.08  10530370   \n",
       "2022-09-29 04:00:00+00:00  96.48  96.7999  96.290  96.57   8133673   \n",
       "2022-09-30 04:00:00+00:00  96.86  97.0900  96.600  96.61   7498807   \n",
       "\n",
       "                                                     SPY                    \\\n",
       "                          trade_count       vwap    open    high       low   \n",
       "timestamp                                                                    \n",
       "2022-09-26 04:00:00+00:00       32092  96.272680  366.41  370.21  363.0299   \n",
       "2022-09-27 04:00:00+00:00       35134  95.649073  368.01  370.40  360.8700   \n",
       "2022-09-28 04:00:00+00:00       38055  96.834989  364.44  372.30  362.6000   \n",
       "2022-09-29 04:00:00+00:00       33252  96.544743  366.72  367.11  359.7000   \n",
       "2022-09-30 04:00:00+00:00       26920  96.792304  361.93  365.91  359.2000   \n",
       "\n",
       "                                                                      \n",
       "                            close     volume trade_count        vwap  \n",
       "timestamp                                                             \n",
       "2022-09-26 04:00:00+00:00  364.31   91731346      633024  365.928441  \n",
       "2022-09-27 04:00:00+00:00  363.38  105884493      771522  364.580711  \n",
       "2022-09-28 04:00:00+00:00  370.53  109578062      704940  367.937105  \n",
       "2022-09-29 04:00:00+00:00  362.79  112068880      789244  362.805405  \n",
       "2022-09-30 04:00:00+00:00  359.83   71146365      548726  362.666112  "
      ]
     },
     "metadata": {},
     "output_type": "display_data"
    }
   ],
   "source": [
    "# Reorganize the DataFrame\n",
    "# Separate ticker data\n",
    "AGG = api_call_3yrs_df[api_call_3yrs_df['symbol']=='AGG'].drop('symbol', axis=1)\n",
    "SPY = api_call_3yrs_df[api_call_3yrs_df['symbol']=='SPY'].drop('symbol', axis=1)\n",
    "\n",
    "# Concatenate the ticker DataFrames\n",
    "prices_3yr_df = ccat([AGG, SPY], axis=1, keys=['AGG','SPY'])\n",
    "\n",
    "# Display both the first and last five rows of the DataFrame\n",
    "display(prices_3yr_df.head())\n",
    "print('\\n')\n",
    "display(prices_3yr_df.tail())"
   ]
  },
  {
   "cell_type": "code",
   "execution_count": 35,
   "metadata": {},
   "outputs": [
    {
     "data": {
      "text/html": [
       "<div>\n",
       "<style scoped>\n",
       "    .dataframe tbody tr th:only-of-type {\n",
       "        vertical-align: middle;\n",
       "    }\n",
       "\n",
       "    .dataframe tbody tr th {\n",
       "        vertical-align: top;\n",
       "    }\n",
       "\n",
       "    .dataframe thead th {\n",
       "        text-align: right;\n",
       "    }\n",
       "</style>\n",
       "<table border=\"1\" class=\"dataframe\">\n",
       "  <thead>\n",
       "    <tr style=\"text-align: right;\">\n",
       "      <th></th>\n",
       "      <th>timestamp</th>\n",
       "      <th>open</th>\n",
       "      <th>high</th>\n",
       "      <th>low</th>\n",
       "      <th>close</th>\n",
       "      <th>volume</th>\n",
       "      <th>trade_count</th>\n",
       "      <th>vwap</th>\n",
       "    </tr>\n",
       "  </thead>\n",
       "  <tbody>\n",
       "    <tr>\n",
       "      <th>0</th>\n",
       "      <td>2019-10-01 04:00:00+00:00</td>\n",
       "      <td>112.71</td>\n",
       "      <td>113.2500</td>\n",
       "      <td>112.63</td>\n",
       "      <td>113.12</td>\n",
       "      <td>5982470</td>\n",
       "      <td>30567</td>\n",
       "      <td>113.081002</td>\n",
       "    </tr>\n",
       "    <tr>\n",
       "      <th>1</th>\n",
       "      <td>2019-10-02 04:00:00+00:00</td>\n",
       "      <td>113.19</td>\n",
       "      <td>113.3075</td>\n",
       "      <td>113.09</td>\n",
       "      <td>113.20</td>\n",
       "      <td>9571687</td>\n",
       "      <td>23424</td>\n",
       "      <td>113.229809</td>\n",
       "    </tr>\n",
       "  </tbody>\n",
       "</table>\n",
       "</div>"
      ],
      "text/plain": [
       "                  timestamp    open      high     low   close   volume  \\\n",
       "0 2019-10-01 04:00:00+00:00  112.71  113.2500  112.63  113.12  5982470   \n",
       "1 2019-10-02 04:00:00+00:00  113.19  113.3075  113.09  113.20  9571687   \n",
       "\n",
       "   trade_count        vwap  \n",
       "0        30567  113.081002  \n",
       "1        23424  113.229809  "
      ]
     },
     "metadata": {},
     "output_type": "display_data"
    },
    {
     "data": {
      "text/html": [
       "<div>\n",
       "<style scoped>\n",
       "    .dataframe tbody tr th:only-of-type {\n",
       "        vertical-align: middle;\n",
       "    }\n",
       "\n",
       "    .dataframe tbody tr th {\n",
       "        vertical-align: top;\n",
       "    }\n",
       "\n",
       "    .dataframe thead th {\n",
       "        text-align: right;\n",
       "    }\n",
       "</style>\n",
       "<table border=\"1\" class=\"dataframe\">\n",
       "  <thead>\n",
       "    <tr style=\"text-align: right;\">\n",
       "      <th></th>\n",
       "      <th>timestamp</th>\n",
       "      <th>open</th>\n",
       "      <th>high</th>\n",
       "      <th>low</th>\n",
       "      <th>close</th>\n",
       "      <th>volume</th>\n",
       "      <th>trade_count</th>\n",
       "      <th>vwap</th>\n",
       "    </tr>\n",
       "  </thead>\n",
       "  <tbody>\n",
       "    <tr>\n",
       "      <th>0</th>\n",
       "      <td>2019-10-01 04:00:00+00:00</td>\n",
       "      <td>297.67</td>\n",
       "      <td>298.455</td>\n",
       "      <td>293.00</td>\n",
       "      <td>293.24</td>\n",
       "      <td>90160482</td>\n",
       "      <td>422407</td>\n",
       "      <td>294.867498</td>\n",
       "    </tr>\n",
       "    <tr>\n",
       "      <th>1</th>\n",
       "      <td>2019-10-02 04:00:00+00:00</td>\n",
       "      <td>291.49</td>\n",
       "      <td>291.510</td>\n",
       "      <td>286.64</td>\n",
       "      <td>288.06</td>\n",
       "      <td>125924074</td>\n",
       "      <td>608988</td>\n",
       "      <td>288.821147</td>\n",
       "    </tr>\n",
       "  </tbody>\n",
       "</table>\n",
       "</div>"
      ],
      "text/plain": [
       "                  timestamp    open     high     low   close     volume  \\\n",
       "0 2019-10-01 04:00:00+00:00  297.67  298.455  293.00  293.24   90160482   \n",
       "1 2019-10-02 04:00:00+00:00  291.49  291.510  286.64  288.06  125924074   \n",
       "\n",
       "   trade_count        vwap  \n",
       "0       422407  294.867498  \n",
       "1       608988  288.821147  "
      ]
     },
     "metadata": {},
     "output_type": "display_data"
    },
    {
     "name": "stdout",
     "output_type": "stream",
     "text": [
      "\n",
      "\n",
      "3 years historical data\n"
     ]
    },
    {
     "data": {
      "image/png": "[encoded data removed]",
      "text/plain": [
       "<Figure size 432x288 with 2 Axes>"
      ]
     },
     "metadata": {
      "needs_background": "light"
     },
     "output_type": "display_data"
    },
    {
     "data": {
      "image/png": "[encoded data removed]",
      "text/plain": [
       "<Figure size 432x288 with 2 Axes>"
      ]
     },
     "metadata": {
      "needs_background": "light"
     },
     "output_type": "display_data"
    }
   ],
   "source": [
    "# SUPPLEMENTAL - analysis\n",
    "# Resetting index of individual ticker dataframes (pre-concatenation) and assigning to variable\n",
    "agg_3yr_hx_solo=AGG.reset_index()\n",
    "spy_3yr_hx_solo=SPY.reset_index()\n",
    "# Limited sample review of new variablized dataframes\n",
    "display(agg_3yr_hx_solo.head(2))\n",
    "display(spy_3yr_hx_solo.head(2))\n",
    "\n",
    "# Visualize performance stocks and bonds over previous 3 years with x, y, c scatter plots\n",
    "agg_3yr_hx_solo.plot.scatter(\n",
    "    x='timestamp',\n",
    "    y='close',\n",
    "    c='volume',\n",
    "    title=f'Closing Prices for AGG',\n",
    "    cmap=\"inferno\",\n",
    "    )\n",
    "print('\\n')\n",
    "spy_3yr_hx_solo.plot.scatter(\n",
    "    x='timestamp',\n",
    "    y='close',\n",
    "    c='volume',\n",
    "    title=f'Closing Prices for SPY',\n",
    "    cmap='inferno',\n",
    "    )\n",
    "print('3 years historical data')"
   ]
  },
  {
   "cell_type": "markdown",
   "metadata": {},
   "source": [
    "### Comparing the scatter plots above generated by the preceeding three years of data, the stocks and bonds appear to have no significant correlation, with what appears to be a significant downturn in bond performance."
   ]
  },
  {
   "cell_type": "code",
   "execution_count": 36,
   "metadata": {},
   "outputs": [
    {
     "name": "stdout",
     "output_type": "stream",
     "text": [
      "\n",
      "\n",
      "3 yr data\n"
     ]
    },
    {
     "data": {
      "image/png": "[encoded data removed]",
      "text/plain": [
       "<Figure size 432x288 with 2 Axes>"
      ]
     },
     "metadata": {
      "needs_background": "light"
     },
     "output_type": "display_data"
    }
   ],
   "source": [
    "# Isolating 'close' price from re-organized and subsequently concatenated dataframe\n",
    "adj_price_slice_df = prices_3yr_df.iloc[:,[3,10]]\n",
    "# Obtaining daily returns using .pct_change() and dropna() functions\n",
    "adj_price_returns_df = adj_price_slice_df.pct_change().dropna() \n",
    "# calculate correlation between returns\n",
    "adj_price_returns_correlate_df=adj_price_returns_df.corr()\n",
    "print('\\n')\n",
    "# Create a heatmap from the correlation of returns values\n",
    "htmap(adj_price_returns_correlate_df, annot=True, vmin=-1, vmax=1, fmt=\".2f\", cmap=\"Spectral\")\n",
    "print('3 yr data')"
   ]
  },
  {
   "cell_type": "markdown",
   "metadata": {},
   "source": [
    "### The correlation heatmap between the stocks and bonds approaches zero consistent with what was demonstrated above in the scatter plots visualization."
   ]
  },
  {
   "cell_type": "markdown",
   "metadata": {},
   "source": [
    "#### Step 2: Run a Monte Carlo simulation of 500 samples and 30 years for the 60/40 portfolio, and then plot the results."
   ]
  },
  {
   "cell_type": "code",
   "execution_count": 37,
   "metadata": {},
   "outputs": [
    {
     "data": {
      "text/html": [
       "<div>\n",
       "<style scoped>\n",
       "    .dataframe tbody tr th:only-of-type {\n",
       "        vertical-align: middle;\n",
       "    }\n",
       "\n",
       "    .dataframe tbody tr th {\n",
       "        vertical-align: top;\n",
       "    }\n",
       "\n",
       "    .dataframe thead tr th {\n",
       "        text-align: left;\n",
       "    }\n",
       "\n",
       "    .dataframe thead tr:last-of-type th {\n",
       "        text-align: right;\n",
       "    }\n",
       "</style>\n",
       "<table border=\"1\" class=\"dataframe\">\n",
       "  <thead>\n",
       "    <tr>\n",
       "      <th></th>\n",
       "      <th colspan=\"8\" halign=\"left\">AGG</th>\n",
       "      <th colspan=\"8\" halign=\"left\">SPY</th>\n",
       "    </tr>\n",
       "    <tr>\n",
       "      <th></th>\n",
       "      <th>open</th>\n",
       "      <th>high</th>\n",
       "      <th>low</th>\n",
       "      <th>close</th>\n",
       "      <th>volume</th>\n",
       "      <th>trade_count</th>\n",
       "      <th>vwap</th>\n",
       "      <th>daily_return</th>\n",
       "      <th>open</th>\n",
       "      <th>high</th>\n",
       "      <th>low</th>\n",
       "      <th>close</th>\n",
       "      <th>volume</th>\n",
       "      <th>trade_count</th>\n",
       "      <th>vwap</th>\n",
       "      <th>daily_return</th>\n",
       "    </tr>\n",
       "    <tr>\n",
       "      <th>timestamp</th>\n",
       "      <th></th>\n",
       "      <th></th>\n",
       "      <th></th>\n",
       "      <th></th>\n",
       "      <th></th>\n",
       "      <th></th>\n",
       "      <th></th>\n",
       "      <th></th>\n",
       "      <th></th>\n",
       "      <th></th>\n",
       "      <th></th>\n",
       "      <th></th>\n",
       "      <th></th>\n",
       "      <th></th>\n",
       "      <th></th>\n",
       "      <th></th>\n",
       "    </tr>\n",
       "  </thead>\n",
       "  <tbody>\n",
       "    <tr>\n",
       "      <th>2019-10-01 04:00:00+00:00</th>\n",
       "      <td>112.71</td>\n",
       "      <td>113.2500</td>\n",
       "      <td>112.63</td>\n",
       "      <td>113.12</td>\n",
       "      <td>5982470</td>\n",
       "      <td>30567</td>\n",
       "      <td>113.081002</td>\n",
       "      <td>NaN</td>\n",
       "      <td>297.67</td>\n",
       "      <td>298.455</td>\n",
       "      <td>293.00</td>\n",
       "      <td>293.24</td>\n",
       "      <td>90160482</td>\n",
       "      <td>422407</td>\n",
       "      <td>294.867498</td>\n",
       "      <td>NaN</td>\n",
       "    </tr>\n",
       "    <tr>\n",
       "      <th>2019-10-02 04:00:00+00:00</th>\n",
       "      <td>113.19</td>\n",
       "      <td>113.3075</td>\n",
       "      <td>113.09</td>\n",
       "      <td>113.20</td>\n",
       "      <td>9571687</td>\n",
       "      <td>23424</td>\n",
       "      <td>113.229809</td>\n",
       "      <td>0.000707</td>\n",
       "      <td>291.49</td>\n",
       "      <td>291.510</td>\n",
       "      <td>286.64</td>\n",
       "      <td>288.06</td>\n",
       "      <td>125924074</td>\n",
       "      <td>608988</td>\n",
       "      <td>288.821147</td>\n",
       "      <td>-0.017665</td>\n",
       "    </tr>\n",
       "    <tr>\n",
       "      <th>2019-10-03 04:00:00+00:00</th>\n",
       "      <td>113.34</td>\n",
       "      <td>113.7400</td>\n",
       "      <td>113.32</td>\n",
       "      <td>113.64</td>\n",
       "      <td>5144049</td>\n",
       "      <td>18028</td>\n",
       "      <td>113.589201</td>\n",
       "      <td>0.003887</td>\n",
       "      <td>287.81</td>\n",
       "      <td>290.450</td>\n",
       "      <td>284.82</td>\n",
       "      <td>290.42</td>\n",
       "      <td>85906608</td>\n",
       "      <td>517842</td>\n",
       "      <td>288.281946</td>\n",
       "      <td>0.008193</td>\n",
       "    </tr>\n",
       "    <tr>\n",
       "      <th>2019-10-04 04:00:00+00:00</th>\n",
       "      <td>113.68</td>\n",
       "      <td>113.8255</td>\n",
       "      <td>113.63</td>\n",
       "      <td>113.82</td>\n",
       "      <td>3331180</td>\n",
       "      <td>14511</td>\n",
       "      <td>113.742441</td>\n",
       "      <td>0.001584</td>\n",
       "      <td>291.21</td>\n",
       "      <td>294.630</td>\n",
       "      <td>290.82</td>\n",
       "      <td>294.35</td>\n",
       "      <td>66877330</td>\n",
       "      <td>305209</td>\n",
       "      <td>292.978205</td>\n",
       "      <td>0.013532</td>\n",
       "    </tr>\n",
       "    <tr>\n",
       "      <th>2019-10-07 04:00:00+00:00</th>\n",
       "      <td>113.64</td>\n",
       "      <td>113.7050</td>\n",
       "      <td>113.51</td>\n",
       "      <td>113.51</td>\n",
       "      <td>2493664</td>\n",
       "      <td>9765</td>\n",
       "      <td>113.575284</td>\n",
       "      <td>-0.002724</td>\n",
       "      <td>293.50</td>\n",
       "      <td>295.260</td>\n",
       "      <td>292.77</td>\n",
       "      <td>293.08</td>\n",
       "      <td>61657344</td>\n",
       "      <td>314251</td>\n",
       "      <td>293.863605</td>\n",
       "      <td>-0.004315</td>\n",
       "    </tr>\n",
       "  </tbody>\n",
       "</table>\n",
       "</div>"
      ],
      "text/plain": [
       "                              AGG                                     \\\n",
       "                             open      high     low   close   volume   \n",
       "timestamp                                                              \n",
       "2019-10-01 04:00:00+00:00  112.71  113.2500  112.63  113.12  5982470   \n",
       "2019-10-02 04:00:00+00:00  113.19  113.3075  113.09  113.20  9571687   \n",
       "2019-10-03 04:00:00+00:00  113.34  113.7400  113.32  113.64  5144049   \n",
       "2019-10-04 04:00:00+00:00  113.68  113.8255  113.63  113.82  3331180   \n",
       "2019-10-07 04:00:00+00:00  113.64  113.7050  113.51  113.51  2493664   \n",
       "\n",
       "                                                                   SPY  \\\n",
       "                          trade_count        vwap daily_return    open   \n",
       "timestamp                                                                \n",
       "2019-10-01 04:00:00+00:00       30567  113.081002          NaN  297.67   \n",
       "2019-10-02 04:00:00+00:00       23424  113.229809     0.000707  291.49   \n",
       "2019-10-03 04:00:00+00:00       18028  113.589201     0.003887  287.81   \n",
       "2019-10-04 04:00:00+00:00       14511  113.742441     0.001584  291.21   \n",
       "2019-10-07 04:00:00+00:00        9765  113.575284    -0.002724  293.50   \n",
       "\n",
       "                                                                           \\\n",
       "                              high     low   close     volume trade_count   \n",
       "timestamp                                                                   \n",
       "2019-10-01 04:00:00+00:00  298.455  293.00  293.24   90160482      422407   \n",
       "2019-10-02 04:00:00+00:00  291.510  286.64  288.06  125924074      608988   \n",
       "2019-10-03 04:00:00+00:00  290.450  284.82  290.42   85906608      517842   \n",
       "2019-10-04 04:00:00+00:00  294.630  290.82  294.35   66877330      305209   \n",
       "2019-10-07 04:00:00+00:00  295.260  292.77  293.08   61657344      314251   \n",
       "\n",
       "                                                    \n",
       "                                 vwap daily_return  \n",
       "timestamp                                           \n",
       "2019-10-01 04:00:00+00:00  294.867498          NaN  \n",
       "2019-10-02 04:00:00+00:00  288.821147    -0.017665  \n",
       "2019-10-03 04:00:00+00:00  288.281946     0.008193  \n",
       "2019-10-04 04:00:00+00:00  292.978205     0.013532  \n",
       "2019-10-07 04:00:00+00:00  293.863605    -0.004315  "
      ]
     },
     "execution_count": 37,
     "metadata": {},
     "output_type": "execute_result"
    }
   ],
   "source": [
    "# Configure the Monte Carlo simulation to forecast 30 years cumulative returns (i.e. 1:10)\n",
    "# The weights should be split 40% to bonds (AGG) and 60% to stocks (SPY).\n",
    "# Run 500 samples.\n",
    "prices_3yr_30yr_df = prices_3yr_df\n",
    "\n",
    "mc_four_six_3yr_30yr_weight = MCSimulation(\n",
    "    portfolio_data = prices_3yr_30yr_df,\n",
    "    weights = [.4, .6],\n",
    "    num_simulation = 500,\n",
    "    num_trading_days = 252*30\n",
    ")\n",
    "\n",
    "# Review the simulation input data\n",
    "mc_four_six_3yr_30yr_weight.portfolio_data.head()"
   ]
  },
  {
   "cell_type": "code",
   "execution_count": null,
   "metadata": {},
   "outputs": [
    {
     "name": "stdout",
     "output_type": "stream",
     "text": [
      "Running Monte Carlo simulation number 0.\n",
      "Running Monte Carlo simulation number 10.\n",
      "Running Monte Carlo simulation number 20.\n",
      "Running Monte Carlo simulation number 30.\n",
      "Running Monte Carlo simulation number 40.\n",
      "Running Monte Carlo simulation number 50.\n",
      "Running Monte Carlo simulation number 60.\n",
      "Running Monte Carlo simulation number 70.\n",
      "Running Monte Carlo simulation number 80.\n",
      "Running Monte Carlo simulation number 90.\n",
      "Running Monte Carlo simulation number 100.\n",
      "Running Monte Carlo simulation number 110.\n",
      "Running Monte Carlo simulation number 120.\n",
      "Running Monte Carlo simulation number 130.\n",
      "Running Monte Carlo simulation number 140.\n",
      "Running Monte Carlo simulation number 150.\n"
     ]
    }
   ],
   "source": [
    "# Run a Monte Carlo simulation to forecast 30 years cumulative returns\n",
    "\n",
    "mc_four_six_3yr_30yr_weight.calc_cumulative_return()"
   ]
  },
  {
   "cell_type": "code",
   "execution_count": null,
   "metadata": {},
   "outputs": [],
   "source": [
    "# Visualize the 30-year Monte Carlo simulation by creating an\n",
    "# overlay line plot\n",
    "four_six_3yr_30yr_weight_line_plot= mc_four_six_3yr_30yr_weight.plot_simulation()"
   ]
  },
  {
   "cell_type": "markdown",
   "metadata": {},
   "source": [
    "#### Step 3: Plot the probability distribution of the Monte Carlo simulation."
   ]
  },
  {
   "cell_type": "code",
   "execution_count": null,
   "metadata": {},
   "outputs": [],
   "source": [
    "# Visualize the probability distribution of the 30-year Monte Carlo simulation \n",
    "four_six_3yr_30yr_weight_distribution_plot = mc_four_six_3yr_30yr_weight.plot_distribution()\n",
    "print('Monte Carlo 1:10 data to prediction')"
   ]
  },
  {
   "cell_type": "markdown",
   "metadata": {},
   "source": [
    "#### Step 4: Generate the summary statistics for the Monte Carlo simulation."
   ]
  },
  {
   "cell_type": "code",
   "execution_count": null,
   "metadata": {},
   "outputs": [],
   "source": [
    "# Generate summary statistics from the 30-year Monte Carlo simulation results\n",
    "# Save the results as a variable\n",
    "four_six_3yr_30yr_weight = mc_four_six_3yr_30yr_weight.summarize_cumulative_return()\n",
    "\n",
    "# Review the 30-year Monte Carlo summary statistics\n",
    "print('\\n')\n",
    "display(print(four_six_3yr_30yr_weight))"
   ]
  },
  {
   "cell_type": "markdown",
   "metadata": {},
   "source": [
    "### Analyze the Retirement Portfolio Forecasts\n",
    "\n",
    "Using the current value of only the stock and bond portion of the member's portfolio and the summary statistics that you generated from the Monte Carlo simulation, answer the following question in your Jupyter notebook:\n",
    "\n",
    "-  What are the lower and upper bounds for the expected value of the portfolio with a 95% confidence interval?\n"
   ]
  },
  {
   "cell_type": "code",
   "execution_count": null,
   "metadata": {},
   "outputs": [],
   "source": [
    "# Print the current balance of the stock and bond portion of the members portfolio\n",
    "print(f'\\n The current value of the stock and bond portion of the portfolio is ${round(total_stocks_bonds, 2)} \\n')"
   ]
  },
  {
   "cell_type": "code",
   "execution_count": null,
   "metadata": {},
   "outputs": [],
   "source": [
    "# Use the lower and upper `95%` confidence intervals to calculate the range of the possible outcomes for the current stock/bond portfolio\n",
    "# (index positions 8 & 9 from the even_weight_table)\n",
    "# calculate the range of the possible outcomes for a total_stocks_bonds investment\n",
    "\n",
    "ci_lower_thirty_cumulative_return = round(four_six_3yr_30yr_weight[8]*total_stocks_bonds,2)\n",
    "ci_upper_thirty_cumulative_return = round(four_six_3yr_30yr_weight[9]*total_stocks_bonds,2)\n",
    "\n",
    "# Print the result of your calculations\n",
    "print(f'\\n As of {str(end_3yrs)[:10]}, your current stock and bond portfolio value is ${round(total_stocks_bonds, 2)} '\n",
    "      f'\\n There is a 95% chance that an initial investment of ${round(total_stocks_bonds, 2)} in the portfolio'\n",
    "      f'\\n with a 40-60 weight portfolio over the next 30 years will end within in the range of'\n",
    "      f' ${ci_lower_thirty_cumulative_return} and ${ci_upper_thirty_cumulative_return}. \\n')"
   ]
  },
  {
   "cell_type": "markdown",
   "metadata": {},
   "source": [
    "### Forecast Cumulative Returns in 10 Years\n",
    "\n",
    "The CTO of the credit union is impressed with your work on these planning tools but wonders if 30 years is a long time to wait until retirement. So, your next task is to adjust the retirement portfolio and run a new Monte Carlo simulation to find out if the changes will allow members to retire earlier.\n",
    "\n",
    "For this new Monte Carlo simulation, do the following: \n",
    "\n",
    "- Forecast the cumulative returns for 10 years from now. Because of the shortened investment horizon (30 years to 10 years), the portfolio needs to invest more heavily in the riskier asset&mdash;that is, stock&mdash;to help accumulate wealth for retirement. \n",
    "\n",
    "- Adjust the weights of the retirement portfolio so that the composition for the Monte Carlo simulation consists of 20% bonds and 80% stocks. \n",
    "\n",
    "- Run the simulation over 500 samples, and use the same data that the API call to Alpaca generated.\n",
    "\n",
    "- Based on the new Monte Carlo simulation, answer the following questions in your Jupyter notebook:\n",
    "\n",
    "    - Using the current value of only the stock and bond portion of the member's portfolio and the summary statistics that you generated from the new Monte Carlo simulation, what are the lower and upper bounds for the expected value of the portfolio (with the new weights) with a 95% confidence interval?\n",
    "\n",
    "    - Will weighting the portfolio more heavily toward stocks allow the credit union members to retire after only 10 years?\n"
   ]
  },
  {
   "cell_type": "code",
   "execution_count": null,
   "metadata": {},
   "outputs": [],
   "source": [
    "# Configure a Monte Carlo simulation to forecast 10 years cumulative returns (i.e. 3:10)\n",
    "# The weights should be split 20% to AGG and 80% to SPY.\n",
    "# Run 500 samples.\n",
    "prices_3yr_10yr_df = prices_3yr_df\n",
    "\n",
    "mc_two_eight_3yr_10yr_weight = MCSimulation(\n",
    "    portfolio_data = prices_3yr_10yr_df,\n",
    "    weights = [.2, .8],\n",
    "    num_simulation = 500,\n",
    "    num_trading_days = 252*10\n",
    ")\n",
    "\n",
    "# Review the simulation input data\n",
    "mc_two_eight_3yr_10yr_weight.portfolio_data.head()"
   ]
  },
  {
   "cell_type": "code",
   "execution_count": null,
   "metadata": {},
   "outputs": [],
   "source": [
    "# Run the Monte Carlo simulation to forecast 10 years cumulative returns\n",
    "\n",
    "mc_two_eight_3yr_10yr_weight.calc_cumulative_return()"
   ]
  },
  {
   "cell_type": "code",
   "execution_count": null,
   "metadata": {},
   "outputs": [],
   "source": [
    "# Visualize the 10-year Monte Carlo simulation by creating an\n",
    "# overlay line plot\n",
    "\n",
    "two_eight_3yr_10yr_weight_line_plot= mc_two_eight_3yr_10yr_weight.plot_simulation()"
   ]
  },
  {
   "cell_type": "code",
   "execution_count": null,
   "metadata": {},
   "outputs": [],
   "source": [
    "# Visualize the probability distribution of the 10-year Monte Carlo simulation \n",
    "# by plotting a histogram\n",
    " \n",
    "two_eight_3yr_10yr_weight_distribution_plot = mc_two_eight_3yr_10yr_weight.plot_distribution()\n",
    "print('Monte Carlo 3:10 data to prediction')"
   ]
  },
  {
   "cell_type": "code",
   "execution_count": null,
   "metadata": {},
   "outputs": [],
   "source": [
    "# Generate summary statistics from the 10-year Monte Carlo simulation results\n",
    "# Save the results as a variable\n",
    "\n",
    "two_eight_3yr_10yr_weight = mc_two_eight_3yr_10yr_weight.summarize_cumulative_return()\n",
    "# Review the 10-year Monte Carlo summary statistics\n",
    "\n",
    "print('\\n')\n",
    "display(print(two_eight_3yr_10yr_weight))"
   ]
  },
  {
   "cell_type": "markdown",
   "metadata": {},
   "source": [
    "### Answer the following questions:"
   ]
  },
  {
   "cell_type": "markdown",
   "metadata": {},
   "source": [
    "#### Question: Using the current value of only the stock and bond portion of the member's portfolio and the summary statistics that you generated from the new Monte Carlo simulation, what are the lower and upper bounds for the expected value of the portfolio (with the new weights) with a 95% confidence interval?"
   ]
  },
  {
   "cell_type": "code",
   "execution_count": null,
   "metadata": {},
   "outputs": [],
   "source": [
    "# Print the current balance of the stock and bond portion of the members portfolio\n",
    "print(f'\\n The current value of the stock and bond portion of the portfolio is ${round(total_stocks_bonds, 2)} \\n')"
   ]
  },
  {
   "cell_type": "code",
   "execution_count": null,
   "metadata": {},
   "outputs": [],
   "source": [
    "# Use the lower and upper `95%` confidence intervals to calculate the range of the possible outcomes for the current stock/bond portfolio\n",
    "ci_lower_ten_cumulative_return = round(two_eight_3yr_10yr_weight[8]*total_stocks_bonds,2)\n",
    "ci_upper_ten_cumulative_return = round(two_eight_3yr_10yr_weight[9]*total_stocks_bonds,2)\n",
    "\n",
    "# Print the result of your calculations\n",
    "print(f'\\n As of {str(end_3yrs)[:10]}, your current stock and bond portfolio value is ${round(total_stocks_bonds, 2)} '\n",
    "      f'\\n There is a 95% chance that an initial investment of ${round(total_stocks_bonds, 2)} in the portfolio'\n",
    "      f'\\n with a 20-80 weight portfolio over the next 10 years will end within in the range of'\n",
    "      f' ${ci_lower_ten_cumulative_return} and ${ci_upper_ten_cumulative_return}. \\n')"
   ]
  },
  {
   "cell_type": "markdown",
   "metadata": {},
   "source": [
    "#### Question: Will weighting the portfolio more heavily to stocks allow the credit union members to retire after only 10 years?"
   ]
  },
  {
   "cell_type": "raw",
   "metadata": {},
   "source": [
    "**Answer** \n",
    "\n",
    "# I would not be able to answer that question with the limited information I have about the credit union members.  Specifically, retirement planning of that detail would require further specifics about current and anticipated future cost of living expenses.  Additionally, the members' desired/projected lifestyle and what is the specific target savings amount they will need to retire.  Also, one needs information not only on expected living (i.e. monthly expenses) but the anticipated duration or length of need.\n",
    "\n",
    "# However, what I can say is that under the best conditions (i.e. presuming perfection), thirty years would generate a retirement savings approximately between $49787.83 and $927859.67.  In contrast, ten years would generate approximately $47827.25 and $505090.11.  In summary retirement in ten years will result in a significantly less amount of savings, nearly half, which one would presume will be needed to last an additional twenty more years of retirement when compared to a thirty year plan.  With the limited information, I would not recommend early/ten year retirement.  \n",
    "\n",
    "A ten year early retirement under best circumstances would result in almost half the savings and an additional 20 years of need."
   ]
  },
  {
   "cell_type": "markdown",
   "metadata": {},
   "source": [
    "# SUPPLEMENTAL ANALYSIS\n",
    "\n",
    "## As the Monte Carlo Simulation is designed around limits of 5 to 1, history to prediction parameters, author has proceded with additional analysis with more realistic parameters.  That is, using three years of data to predict ten or thirty years of returns would not be viewe as reasonable."
   ]
  },
  {
   "cell_type": "code",
   "execution_count": null,
   "metadata": {},
   "outputs": [],
   "source": [
    "# Analysis using 3 years data for a 1yr prediction\n",
    "# Configure the Monte Carlo simulation to forecast 1 years cumulative returns (3:1)\n",
    "# traditional portfolio split: 40% bonds (AGG) and 60% stocks (SPY) \n",
    "# Run 500 samples.\n",
    "prices_3yr_1yr_df = prices_3yr_df\n",
    "\n",
    "mc_four_six_3yr_1yr_weight = MCSimulation(\n",
    "    portfolio_data = prices_3yr_1yr_df,\n",
    "    weights = [.4, .6],\n",
    "    num_simulation = 500,\n",
    "    num_trading_days = 252*1\n",
    ")\n",
    "\n",
    "# Review the sMC_four_six_1yr_weightimulation input data\n",
    "mc_four_six_3yr_1yr_weight.portfolio_data.head()"
   ]
  },
  {
   "cell_type": "code",
   "execution_count": null,
   "metadata": {},
   "outputs": [],
   "source": [
    "# Run the Monte Carlo simulation to forecast 1 years cumulative returns\n",
    "\n",
    "mc_four_six_3yr_1yr_weight.calc_cumulative_return()"
   ]
  },
  {
   "cell_type": "code",
   "execution_count": null,
   "metadata": {},
   "outputs": [],
   "source": [
    "# Visualize the 1-year (3:1) Monte Carlo simulation by creating an\n",
    "# overlay line plot\n",
    "four_six_3yr_1yr_weight_line_plot= mc_four_six_3yr_1yr_weight.plot_simulation()"
   ]
  },
  {
   "cell_type": "code",
   "execution_count": null,
   "metadata": {},
   "outputs": [],
   "source": [
    "# Visualize the probability distribution of the 1-year (3:1) Monte Carlo simulation \n",
    "four_six_3yr_1yr_weight_distribution_plot = mc_four_six_3yr_1yr_weight.plot_distribution()\n",
    "print('Monte Carlo 3:1 data to prediction')"
   ]
  },
  {
   "cell_type": "code",
   "execution_count": null,
   "metadata": {},
   "outputs": [],
   "source": [
    "# Generate summary statistics from the 1-year Monte Carlo simulation results\n",
    "# Save the results as a variable\n",
    "four_six_3yr_1yr_weight = mc_four_six_3yr_1yr_weight.summarize_cumulative_return()\n",
    "\n",
    "# Review the 1-year (3:1) Monte Carlo summary statistics\n",
    "print('\\n')\n",
    "display(print(four_six_3yr_1yr_weight))"
   ]
  },
  {
   "cell_type": "code",
   "execution_count": null,
   "metadata": {},
   "outputs": [],
   "source": [
    "# Use the lower and upper `95%` confidence intervals to calculate the range of the possible outcomes for the current stock/bond portfolio\n",
    "ci_lower_one_cumulative_return = round(four_six_3yr_1yr_weight[8]*total_stocks_bonds,2)\n",
    "ci_upper_one_cumulative_return = round(four_six_3yr_1yr_weight[9]*total_stocks_bonds,2)\n",
    "\n",
    "# Print the result of your calculations\n",
    "print(f'\\n As of {str(end_3yrs)[:10]}, your current stock and bond portfolio value is ${round(total_stocks_bonds, 2)} '\n",
    "      f'\\n There is a 95% chance that an initial investment of ${round(total_stocks_bonds, 2)} in the portfolio'\n",
    "      f'\\n with a 40-60 weight portfolio over the next 1 year will end within in the range of'\n",
    "      f' ${ci_lower_one_cumulative_return} and ${ci_upper_one_cumulative_return}. \\n')"
   ]
  },
  {
   "cell_type": "code",
   "execution_count": null,
   "metadata": {},
   "outputs": [],
   "source": [
    "# SCENARIO TWO - 5 years history\n",
    "# Set start and end dates of 5 years back from your current date\n",
    "end_5yrs = pd.to_datetime('today')\n",
    "start_5yrs = end_5yrs - np.timedelta64(5, 'Y')\n",
    "display(end_5yrs)\n",
    "display(start_5yrs)\n",
    "\n",
    "# Set the values for start_date and end_date using the pd.Timestamp function\n",
    "# Set the parameter tz to \"America/New_York\", \n",
    "# Set this all to the ISO format by calling the isoformat function \n",
    "start_5yrs = tstamp(start_5yrs, tz = 'America/New_York').isoformat()\n",
    "end_5yrs = tstamp(end_5yrs, tz = 'America/New_York').isoformat()\n",
    "display(end_5yrs)\n",
    "display(start_5yrs)\n",
    "print('\\n')\n",
    "\n",
    "# Use the Alpaca get_bars function to make the API call to get the 5 years worth of pricing data\n",
    "# set limit\n",
    "limit_rows = 10000\n",
    "\n",
    "api_call_5yrs_df = alpaca.get_bars(\n",
    "    tickers,\n",
    "    timeframe,\n",
    "    start = start_5yrs,\n",
    "    end = end_5yrs,\n",
    "    limit = limit_rows\n",
    ").df\n",
    "\n",
    "# Review the first 5 rows of the Alpaca DataFrame\n",
    "display(api_call_5yrs_df.head())\n",
    "print('\\n')\n",
    "display(api_call_5yrs_df.tail())\n",
    "\n",
    "# Reorganize the DataFrame\n",
    "# Separate ticker data\n",
    "AGG = api_call_5yrs_df[api_call_5yrs_df['symbol']=='AGG'].drop('symbol', axis=1)\n",
    "SPY = api_call_5yrs_df[api_call_5yrs_df['symbol']=='SPY'].drop('symbol', axis=1)\n",
    "\n",
    "# Concatenate the ticker DataFrames\n",
    "prices_5yr_df = ccat([AGG, SPY], axis=1, keys=['AGG','SPY'])\n",
    "\n",
    "# Display both the first and last five rows of the DataFrame\n",
    "display(prices_5yr_df.head())\n",
    "print('\\n')\n",
    "display(prices_5yr_df.tail())"
   ]
  },
  {
   "cell_type": "code",
   "execution_count": null,
   "metadata": {},
   "outputs": [],
   "source": [
    "# SCENARIO TWO - 5 years history\n",
    "# Resetting index of individual ticker dataframes (pre-concatenation) and assigning to variable\n",
    "agg_5yr_hx_solo=AGG.reset_index()\n",
    "spy_5yr_hx_solo=SPY.reset_index()\n",
    "# Limited sample review of new variablized dataframes\n",
    "display(agg_5yr_hx_solo.head(2))\n",
    "display(spy_5yr_hx_solo.head(2))\n",
    "\n",
    "# Visualize performance stocks and bonds over previous 3 years with x, y, c scatter plots\n",
    "agg_5yr_hx_solo.plot.scatter(\n",
    "    x='timestamp',\n",
    "    y='close',\n",
    "    c='volume',\n",
    "    title=f'Closing Prices for AGG',\n",
    "    cmap=\"inferno\",\n",
    "    )\n",
    "print('\\n')\n",
    "spy_5yr_hx_solo.plot.scatter(\n",
    "    x='timestamp',\n",
    "    y='close',\n",
    "    c='volume',\n",
    "    title=f'Closing Prices for SPY',\n",
    "    cmap='inferno',\n",
    "    )"
   ]
  },
  {
   "cell_type": "code",
   "execution_count": null,
   "metadata": {},
   "outputs": [],
   "source": [
    "# Isolating 'close' price from re-organized and subsequently concatenated dataframe\n",
    "adj_price_slice_df = prices_5yr_df.iloc[:,[3,10]]\n",
    "# Obtaining daily returns using .pct_change() and dropna() functions\n",
    "adj_price_returns_df = adj_price_slice_df.pct_change().dropna() \n",
    "# calculate correlation between returns\n",
    "adj_price_returns_correlate_df=adj_price_returns_df.corr()\n",
    "print('\\n')\n",
    "# Create a heatmap from the correlation of returns values\n",
    "htmap(adj_price_returns_correlate_df, annot=True, vmin=-1, vmax=1, fmt=\".2f\", cmap=\"Spectral\")\n",
    "print('5 yr data')"
   ]
  },
  {
   "cell_type": "code",
   "execution_count": null,
   "metadata": {},
   "outputs": [],
   "source": [
    "# Configure the Monte Carlo simulation to forecast 5 years cumulative returns with 5 yrs data history (i.e. 1:1)\n",
    "# The weights should be split 40% to AGG and 60% to SPY.\n",
    "# Run 500 samples.\n",
    "prices_5yr_5yr_df= prices_5yr_df\n",
    "\n",
    "mc_four_six_5yr_5yr_weight = MCSimulation(\n",
    "    portfolio_data = prices_5yr_5yr_df,\n",
    "    weights = [.4, .6],\n",
    "    num_simulation = 500,\n",
    "    num_trading_days = 252*5\n",
    ")\n",
    "\n",
    "# Review the simulation input data\n",
    "mc_four_six_5yr_5yr_weight.portfolio_data.head()\n",
    "\n",
    "# Run a Monte Carlo simulation to forecast five years cumulative returns\n",
    "\n",
    "mc_four_six_5yr_5yr_weight.calc_cumulative_return()"
   ]
  },
  {
   "cell_type": "code",
   "execution_count": null,
   "metadata": {},
   "outputs": [],
   "source": [
    "# Visualize the 5-year Monte Carlo simulation by creating an\n",
    "# overlay line plot\n",
    "four_six_5yr_5yr_weight_line_plot= mc_four_six_5yr_5yr_weight.plot_simulation()"
   ]
  },
  {
   "cell_type": "code",
   "execution_count": null,
   "metadata": {},
   "outputs": [],
   "source": [
    "# Visualize the probability distribution of the 30-year Monte Carlo simulation \n",
    "four_six_5yr_5yr_weight_distribution_plot = mc_four_six_5yr_5yr_weight.plot_distribution()\n",
    "print('Monte Carlo 1:1 data to prediction')"
   ]
  },
  {
   "cell_type": "code",
   "execution_count": null,
   "metadata": {},
   "outputs": [],
   "source": [
    "# Generate summary statistics from the 5-year Monte Carlo simulation results\n",
    "# Save the results as a variable\n",
    "four_six_5yr_5yr_weight = mc_four_six_5yr_5yr_weight.summarize_cumulative_return()\n",
    "\n",
    "# Review the 5-year Monte Carlo summary statistics\n",
    "print('\\n')\n",
    "display(print(four_six_5yr_5yr_weight))"
   ]
  },
  {
   "cell_type": "code",
   "execution_count": null,
   "metadata": {},
   "outputs": [],
   "source": [
    "# Use the lower and upper `95%` confidence intervals to calculate the range of the possible outcomes for the current stock/bond portfolio\n",
    "# (index positions 8 & 9 from the even_weight_table)\n",
    "# calculate the range of the possible outcomes for a total_stocks_bonds investment\n",
    "\n",
    "ci_lower_five_cumulative_return = round(four_six_5yr_5yr_weight[8]*total_stocks_bonds,2)\n",
    "ci_upper_five_cumulative_return = round(four_six_5yr_5yr_weight[9]*total_stocks_bonds,2)\n",
    "\n",
    "# Print the result of your calculations\n",
    "print(f'\\n As of {str(end_5yrs)[:10]}, your current stock and bond portfolio value is ${round(total_stocks_bonds, 2)} '\n",
    "      f'\\n There is a 95% chance that an initial investment of ${round(total_stocks_bonds, 2)} in the portfolio'\n",
    "      f'\\n with a 40-60 weight portfolio over the next 5 years will end within in the range of'\n",
    "      f' ${ci_lower_five_cumulative_return} and ${ci_upper_five_cumulative_return}. \\n')"
   ]
  },
  {
   "cell_type": "code",
   "execution_count": null,
   "metadata": {},
   "outputs": [],
   "source": [
    "# SUPPLEMENTAL\n",
    "# SCENARIO THREE - 7 years history\n",
    "# Set start and end dates of 7 years back from your current date\n",
    "end_7yrs = pd.to_datetime('today')\n",
    "start_7yrs = end_7yrs - np.timedelta64(7, 'Y')\n",
    "display(end_7yrs)\n",
    "display(start_7yrs)\n",
    "\n",
    "# Set the values for start_date and end_date using the pd.Timestamp function\n",
    "# Set the parameter tz to \"America/New_York\", \n",
    "# Set this all to the ISO format by calling the isoformat function \n",
    "start_7yrs = tstamp(start_7yrs, tz = 'America/New_York').isoformat()\n",
    "end_7yrs = tstamp(end_7yrs, tz = 'America/New_York').isoformat()\n",
    "display(end_7yrs)\n",
    "display(start_7yrs)\n",
    "print('\\n')\n",
    "\n",
    "# Use the Alpaca get_bars function to make the API call to get the 7 years worth of pricing data\n",
    "# set limit\n",
    "limit_rows = 10000\n",
    "\n",
    "api_call_7yrs_df = alpaca.get_bars(\n",
    "    tickers,\n",
    "    timeframe,\n",
    "    start = start_7yrs,\n",
    "    end = end_7yrs,\n",
    "    limit = limit_rows\n",
    ").df\n",
    "\n",
    "# Review the first 5 rows of the Alpaca DataFrame\n",
    "display(api_call_7yrs_df.head())\n",
    "print('\\n')\n",
    "display(api_call_7yrs_df.tail())\n",
    "\n",
    "# Reorganize the DataFrame\n",
    "# Separate ticker data\n",
    "AGG = api_call_7yrs_df[api_call_7yrs_df['symbol']=='AGG'].drop('symbol', axis=1)\n",
    "SPY = api_call_7yrs_df[api_call_7yrs_df['symbol']=='SPY'].drop('symbol', axis=1)\n",
    "\n",
    "# Concatenate the ticker DataFrames\n",
    "prices_7yr_df = ccat([AGG, SPY], axis=1, keys=['AGG','SPY'])\n",
    "\n",
    "# Display both the first and last five rows of the DataFrame\n",
    "display(prices_7yr_df.head())\n",
    "print('\\n')\n",
    "display(prices_7yr_df.tail())"
   ]
  },
  {
   "cell_type": "code",
   "execution_count": null,
   "metadata": {},
   "outputs": [],
   "source": [
    "# SCENARIO THREE - 7 years history\n",
    "# Resetting index of individual ticker dataframes (pre-concatenation) and assigning to variable\n",
    "agg_7yr_hx_solo=AGG.reset_index()\n",
    "spy_7yr_hx_solo=SPY.reset_index()\n",
    "# Limited sample review of new variablized dataframes\n",
    "display(agg_7yr_hx_solo.head(2))\n",
    "display(spy_7yr_hx_solo.head(2))\n",
    "\n",
    "# Visualize performance stocks and bonds over previous 3 years with x, y, c scatter plots\n",
    "agg_7yr_hx_solo.plot.scatter(\n",
    "    x='timestamp',\n",
    "    y='close',\n",
    "    c='volume',\n",
    "    title=f'Closing Prices for AGG',\n",
    "    cmap=\"inferno\",\n",
    "    )\n",
    "print('\\n')\n",
    "spy_7yr_hx_solo.plot.scatter(\n",
    "    x='timestamp',\n",
    "    y='close',\n",
    "    c='volume',\n",
    "    title=f'Closing Prices for SPY',\n",
    "    cmap='inferno',\n",
    "    )"
   ]
  },
  {
   "cell_type": "code",
   "execution_count": null,
   "metadata": {},
   "outputs": [],
   "source": [
    "# Isolating 'close' price from re-organized and subsequently concatenated dataframe\n",
    "adj_price_slice_df = prices_7yr_df.iloc[:,[3,10]]\n",
    "# Obtaining daily returns using .pct_change() and dropna() functions\n",
    "adj_price_returns_df = adj_price_slice_df.pct_change().dropna() \n",
    "# calculate correlation between returns\n",
    "adj_price_returns_correlate_df=adj_price_returns_df.corr()\n",
    "print('\\n')\n",
    "# Create a heatmap from the correlation of returns values\n",
    "htmap(adj_price_returns_correlate_df, annot=True, vmin=-1, vmax=1, fmt=\".2f\", cmap=\"Spectral\")\n",
    "print('7 yr data')"
   ]
  },
  {
   "cell_type": "code",
   "execution_count": null,
   "metadata": {},
   "outputs": [],
   "source": [
    "# Configure the Monte Carlo simulation to forecast 1 years cumulative returns with 7 years data history (i.e. 7:1)\n",
    "# The weights should be split 40% to AGG and 60% to SPY.\n",
    "# Run 500 samples.\n",
    "prices_7yr_1yr_df  = prices_7yr_df \n",
    "\n",
    "mc_four_six_7yr_1yr_weight = MCSimulation(\n",
    "    portfolio_data = prices_7yr_1yr_df,\n",
    "    weights = [.4, .6],\n",
    "    num_simulation = 500,\n",
    "    num_trading_days = 252*1\n",
    ")\n",
    "\n",
    "# Review the simulation input data\n",
    "mc_four_six_7yr_1yr_weight.portfolio_data.head()\n",
    "\n",
    "# Run a Monte Carlo simulation to forecast five years cumulative returns\n",
    "\n",
    "mc_four_six_7yr_1yr_weight.calc_cumulative_return()"
   ]
  },
  {
   "cell_type": "code",
   "execution_count": null,
   "metadata": {},
   "outputs": [],
   "source": [
    "# Visualize the 1-year Monte Carlo simulation by creating an\n",
    "# overlay line plot\n",
    "\n",
    "four_six_7yr_1yr_weight_line_plot= mc_four_six_7yr_1yr_weight.plot_simulation()"
   ]
  },
  {
   "cell_type": "code",
   "execution_count": null,
   "metadata": {},
   "outputs": [],
   "source": [
    "# Visualize the probability distribution of the 30-year Monte Carlo simulation \n",
    "\n",
    "four_six_7yr_1yr_weight_distribution_plot = mc_four_six_7yr_1yr_weight.plot_distribution()\n",
    "print('Monte Carlo 7:1 data to prediction')"
   ]
  },
  {
   "cell_type": "code",
   "execution_count": null,
   "metadata": {},
   "outputs": [],
   "source": [
    "# Generate summary statistics from the 1-year Monte Carlo simulation results\n",
    "# Save the results as a variable\n",
    "four_six_7yr_1yr_weight = mc_four_six_7yr_1yr_weight.summarize_cumulative_return()\n",
    "\n",
    "# Review the 1-year Monte Carlo summary statistics\n",
    "print('\\n')\n",
    "display(print(four_six_7yr_1yr_weight))"
   ]
  },
  {
   "cell_type": "code",
   "execution_count": null,
   "metadata": {},
   "outputs": [],
   "source": [
    "# Use the lower and upper `95%` confidence intervals to calculate the range of the possible outcomes for the current stock/bond portfolio\n",
    "# (index positions 8 & 9 from the even_weight_table)\n",
    "# calculate the range of the possible outcomes for a total_stocks_bonds investment\n",
    "\n",
    "ci_lower_one_cumulative_return = round(four_six_7yr_1yr_weight[8]*total_stocks_bonds,2)\n",
    "ci_upper_one_cumulative_return = round(four_six_7yr_1yr_weight[9]*total_stocks_bonds,2)\n",
    "\n",
    "# Print the result of your calculations\n",
    "print(f'\\n As of {str(end_7yrs)[:10]}, your current stock and bond portfolio value is ${round(total_stocks_bonds, 2)} '\n",
    "      f'\\n There is a 95% chance that an initial investment of ${round(total_stocks_bonds, 2)} in the portfolio'\n",
    "      f'\\n with a 40-60 weight portfolio over the next 1 years will end within in the range of'\n",
    "      f' ${ci_lower_five_cumulative_return} and ${ci_upper_five_cumulative_return}. \\n')"
   ]
  },
  {
   "cell_type": "code",
   "execution_count": null,
   "metadata": {},
   "outputs": [],
   "source": [
    "# Using 3 years of historical data# Print the result of your calculations\n",
    "print(f'\\n 3 years historical data'\n",
    "      f'\\n an initial investment of ${round(total_stocks_bonds, 2)} in the portfolio'\n",
    "      f'\\n with a 40-60 weight portfolio over the next 30 years will end within in the range of'\n",
    "      f' ${ci_lower_thirty_cumulative_return} and ${ci_upper_thirty_cumulative_return}. \\n')\n",
    "\n",
    "print(f'\\n an initial investment of ${round(total_stocks_bonds, 2)} in the portfolio'\n",
    "      f'\\n with a 20-80 weight portfolio over the next 10 years will end within in the range of'\n",
    "      f' ${ci_lower_ten_cumulative_return} and ${ci_upper_ten_cumulative_return}. \\n')\n",
    "\n",
    "print(f'\\n an initial investment of ${round(total_stocks_bonds, 2)} in the portfolio'\n",
    "      f'\\n with a 40-60 weight portfolio over the next 1 year will end within in the range of'\n",
    "      f' ${ci_lower_one_cumulative_return} and ${ci_upper_one_cumulative_return}. \\n')\n",
    "\n",
    "# Using 7 years of historical data# Print the result of your calculations\n",
    "print(f'\\n 7 years historical data'\n",
    "      f'\\n an initial investment of ${round(total_stocks_bonds, 2)} in the portfolio'\n",
    "      f'\\n with a 40-60 weight portfolio over the next 1 years will end within in the range of'\n",
    "      f' ${ci_lower_five_cumulative_return} and ${ci_upper_five_cumulative_return}. \\n')"
   ]
  },
  {
   "cell_type": "markdown",
   "metadata": {},
   "source": [
    "## Summary Supplemental Analysis\n",
    "\n",
    "Historic data analysis\n",
    "1. Comparative visualized data analysis (heatmap) between the Bond portfolio and Stock portfolio shows correlation approaches zero.\n",
    "2. Comparative visualized data analysis (scatter plot- x, y, c) between the Bond portfolio and Stock portfolio shows the bond portfolio's performance has been exceedingly poor and adjustment of the portfolio would be advised.\n",
    "\n",
    "Monte Carlo Simulation\n",
    "1. Limited historic data adversely impacts reliability of simulation projections/predictions\n",
    "2. Excessive projections/predictions adversely impacts reliability of projects/predictions\n",
    "\n",
    "review of sample data below provides a general comparison ranging from \n",
    "minimal historical data with large/long range predictions as far as 30 years\n",
    "vs\n",
    "increasing historical data and shorter range predictions as much as 1 year.\n",
    "![example_mc_performance](Images/example_mc_performance.png)"
   ]
  }
 ],
 "metadata": {
  "kernelspec": {
   "display_name": "Python 3 (ipykernel)",
   "language": "python",
   "name": "python3"
  },
  "language_info": {
   "codemirror_mode": {
    "name": "ipython",
    "version": 3
   },
   "file_extension": ".py",
   "mimetype": "text/x-python",
   "name": "python",
   "nbconvert_exporter": "python",
   "pygments_lexer": "ipython3",
   "version": "3.7.13"
  }
 },
 "nbformat": 4,
 "nbformat_minor": 4
}
